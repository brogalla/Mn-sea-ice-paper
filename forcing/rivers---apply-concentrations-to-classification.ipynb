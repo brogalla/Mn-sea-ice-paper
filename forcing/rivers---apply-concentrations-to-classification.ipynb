{
 "cells": [
  {
   "cell_type": "markdown",
   "metadata": {},
   "source": [
    "# Apply trace metal concentrations to river classification"
   ]
  },
  {
   "cell_type": "code",
   "execution_count": 1,
   "metadata": {},
   "outputs": [],
   "source": [
    "import matplotlib.pyplot as plt\n",
    "import numpy as np\n",
    "import netCDF4 as nc\n",
    "import datetime\n",
    "from mpl_toolkits.basemap import Basemap, cm\n",
    "import cmocean\n",
    "\n",
    "%matplotlib inline"
   ]
  },
  {
   "cell_type": "markdown",
   "metadata": {},
   "source": [
    "## River categories:\n",
    "\n",
    "1. Glaciers\n",
    "2. Continental\n",
    "3. Other"
   ]
  },
  {
   "cell_type": "code",
   "execution_count": 2,
   "metadata": {},
   "outputs": [],
   "source": [
    "# Load classification file created in notebook \"rivers---create_river_classification\"\n",
    "rclass = nc.Dataset('/ocean/brogalla/GEOTRACES/data/river_class-202005.nc','r')\n",
    "river_class = rclass.variables['rclass']\n",
    "river_class = np.array(river_class)"
   ]
  },
  {
   "cell_type": "markdown",
   "metadata": {},
   "source": [
    "### Apply trace metal concentrations"
   ]
  },
  {
   "cell_type": "markdown",
   "metadata": {},
   "source": [
    "Notebook to find these concentratons: rivers---find_characteristic_tracer_concentrations.ipynb"
   ]
  },
  {
   "cell_type": "code",
   "execution_count": 3,
   "metadata": {},
   "outputs": [],
   "source": [
    "SPM_rivers = np.zeros(river_class.shape)\n",
    "dMn_rivers = np.zeros(river_class.shape)"
   ]
  },
  {
   "cell_type": "code",
   "execution_count": 4,
   "metadata": {},
   "outputs": [],
   "source": [
    "SPM_factor = 1"
   ]
  },
  {
   "cell_type": "markdown",
   "metadata": {},
   "source": [
    "Manganese:"
   ]
  },
  {
   "cell_type": "code",
   "execution_count": 5,
   "metadata": {},
   "outputs": [],
   "source": [
    "dMn_rivers[river_class==1.0] = 164e-9   # glaciers\n",
    "dMn_rivers[river_class==2.0] = 29.8e-9  # continental\n",
    "dMn_rivers[river_class==3.0] = 2.2e-9   # other\n",
    "dMn_rivers[river_class==4.0] = 2.2e-9   # Gulf of Boothia"
   ]
  },
  {
   "cell_type": "code",
   "execution_count": 6,
   "metadata": {},
   "outputs": [],
   "source": [
    "SPM_rivers[river_class==1.0] = SPM_factor*261e-6    # glaciers\n",
    "SPM_rivers[river_class==2.0] = SPM_factor*1.196e-5  # continental\n",
    "SPM_rivers[river_class==3.0] = SPM_factor*4.08e-6   # other\n",
    "SPM_rivers[river_class==4.0] = SPM_factor*4.08e-6   # Gulf of Boothia"
   ]
  },
  {
   "cell_type": "markdown",
   "metadata": {},
   "source": [
    "##### Write to NetCDF file"
   ]
  },
  {
   "cell_type": "code",
   "execution_count": 7,
   "metadata": {},
   "outputs": [],
   "source": [
    "# Load structure from sample dataset of river runoff used in ANHA12\n",
    "# from Paul Myers' group (http://knossos.eas.ualberta.ca/anha/anhatable.php)\n",
    "c = nc.Dataset('/ocean/brogalla/GEOTRACES/data/runoff/ANHA12_runoff_monthly_combined_Dai_Trenberth_Bamber_y2002.nc','r')\n",
    "lon_rf = np.array(c.variables['nav_lon'])\n",
    "lat_rf = np.array(c.variables['nav_lat'])"
   ]
  },
  {
   "cell_type": "code",
   "execution_count": 14,
   "metadata": {},
   "outputs": [],
   "source": [
    "ncd = nc.Dataset('/ocean/brogalla/GEOTRACES/data/paper1-forcing-files/river-forcing-base-20201125.nc', 'w', zlib=True)\n",
    "ncd.createDimension('x',len(c.dimensions['x']))\n",
    "ncd.createDimension('y',len(c.dimensions['y']))\n",
    "\n",
    "# variables\n",
    "nav_lat = ncd.createVariable('nav_lat', 'float32', ('y','x'))\n",
    "nav_lat.long_name = 'Latitude'\n",
    "nav_lat.units = 'degrees_north'\n",
    "nav_lat[:] = lat_rf\n",
    "\n",
    "nav_lon = ncd.createVariable('nav_lon', 'float32', ('y','x'))\n",
    "nav_lon.long_name = 'Longitude'\n",
    "nav_lon.units = 'degrees_east'\n",
    "nav_lon[:] = lon_rf\n",
    "\n",
    "spm_rivers = ncd.createVariable('spm_rivers', 'float32', ('y','x'))\n",
    "spm_rivers.units = 'kg/L'\n",
    "spm_rivers.long_name = 'Suspended Particulate Matter content'  \n",
    "spm_rivers.coordinates = 'nav_lon nav_lat'\n",
    "spm_rivers[:] = SPM_rivers\n",
    "\n",
    "dmn_rivers = ncd.createVariable('dmn_rivers', 'float32', ('y','x'))\n",
    "dmn_rivers.units = 'mol/L'\n",
    "dmn_rivers.long_name = 'Dissolved Mn concentration'  \n",
    "dmn_rivers.coordinates = 'nav_lon nav_lat'\n",
    "dmn_rivers[:] = dMn_rivers\n",
    "\n",
    "ncd.close()"
   ]
  },
  {
   "cell_type": "code",
   "execution_count": null,
   "metadata": {},
   "outputs": [],
   "source": []
  }
 ],
 "metadata": {
  "kernelspec": {
   "display_name": "Python 3",
   "language": "python",
   "name": "python3"
  },
  "language_info": {
   "codemirror_mode": {
    "name": "ipython",
    "version": 3
   },
   "file_extension": ".py",
   "mimetype": "text/x-python",
   "name": "python",
   "nbconvert_exporter": "python",
   "pygments_lexer": "ipython3",
   "version": "3.6.11"
  }
 },
 "nbformat": 4,
 "nbformat_minor": 4
}
