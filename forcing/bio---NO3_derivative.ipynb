{
 "cells": [
  {
   "cell_type": "markdown",
   "metadata": {},
   "source": [
    "# Calculate CanOE nitrate derivate\n",
    "\n",
    "Step 2 for uptake and remineralization parameterization. First interpolated CaNOE nitrate fields (bio---NO3_interpolation.ipynb), now calculate derivative."
   ]
  },
  {
   "cell_type": "code",
   "execution_count": 1,
   "metadata": {},
   "outputs": [],
   "source": [
    "import numpy as np\n",
    "import netCDF4 as nc\n",
    "import datetime\n",
    "from calendar import monthrange\n",
    "from joblib import Parallel"
   ]
  },
  {
   "cell_type": "markdown",
   "metadata": {},
   "source": [
    "Load ANHA12 coordinate file:"
   ]
  },
  {
   "cell_type": "code",
   "execution_count": 2,
   "metadata": {},
   "outputs": [],
   "source": [
    "# Mesh:\n",
    "mesh     = nc.Dataset('/ocean/brogalla/GEOTRACES/data/ANHA12/ANHA12_mesh1.nc')\n",
    "tmask    = np.array(mesh.variables['tmask'])[0,:,:,:]\n",
    "Z_masked = np.ma.masked_where((tmask > 0.1), tmask) \n",
    "mdepth   = np.array(mesh.variables['nav_lev'])\n",
    "mlons    = np.array(mesh.variables['nav_lon'])\n",
    "mlats    = np.array(mesh.variables['nav_lat'])"
   ]
  },
  {
   "cell_type": "markdown",
   "metadata": {},
   "source": [
    "### Functions:"
   ]
  },
  {
   "cell_type": "code",
   "execution_count": 3,
   "metadata": {},
   "outputs": [],
   "source": [
    "def load_data(year, month):\n",
    "    # Load interpolated CanOE nitrate field (files created in bio---NO3_interpolation.ipynb)\n",
    "    \n",
    "    folder = '/ocean/brogalla/GEOTRACES/data/bio/Mn_202110/'\n",
    "    filename = f'NO3_y{year}m{month:02}.nc'\n",
    "    \n",
    "    data  = nc.Dataset(folder+filename)\n",
    "    NO3   = np.array(data.variables['NO3'])\n",
    "    NO3   = NO3*1e-3*1e-3 # mmol/m3--> mol/L\n",
    "    \n",
    "    return NO3"
   ]
  },
  {
   "cell_type": "code",
   "execution_count": 4,
   "metadata": {},
   "outputs": [],
   "source": [
    "def deriv(year, month):\n",
    "    # Calculate month-to-month change in nitrate \n",
    "    \n",
    "    if (month < 4) or (month > 7): # 5 and 8\n",
    "        diff = np.zeros((50,2400,1632))  # Avoid replenishment of NO3 from mixing by zeroing non-summer months\n",
    "    else:\n",
    "        NO3_1 = load_data(year, month)    # Current month\n",
    "        NO3_2 = load_data(year, month+1)  # Next month\n",
    "        nday = monthrange(year, month)[1] # Number of days in current month\n",
    "        \n",
    "        # Calculate difference between next month and current month, NO3_2 - NO3_1 and convert units\n",
    "        diff = np.subtract(NO3_2, NO3_1)/(3600*24*nday) # mol/L/month --> mol/L/s\n",
    "    \n",
    "    save_NO3(f'delta_prod_y{year}m{month:02}.nc', diff[:,:,:])\n",
    "    return diff"
   ]
  },
  {
   "cell_type": "code",
   "execution_count": 5,
   "metadata": {},
   "outputs": [],
   "source": [
    "def save_NO3(filename, field):\n",
    "    \n",
    "    # Save forcing files:\n",
    "    ncd = nc.Dataset(f'/ocean/brogalla/GEOTRACES/data/bio/Mn_202110/{filename}', 'w', zlib=True)\n",
    "    ncd.createDimension('x',1632)\n",
    "    ncd.createDimension('y',2400)\n",
    "    ncd.createDimension('deptht', 50)\n",
    "    \n",
    "    # variables\n",
    "    NO3_var = ncd.createVariable('dNO3', 'float64', ('deptht','y','x'))\n",
    "    NO3_var.units = 'mol/L/s'\n",
    "    NO3_var.long_name = 'Month-to-month delta Nitrate'  \n",
    "    NO3_var.coordinates = 'nav_lon nav_lat deptht'\n",
    "    NO3_var[:] = field[:,:,:]\n",
    "    \n",
    "    ncd.close()\n",
    "    return"
   ]
  },
  {
   "cell_type": "markdown",
   "metadata": {},
   "source": [
    "## Run:"
   ]
  },
  {
   "cell_type": "markdown",
   "metadata": {},
   "source": [
    "##### Choose year:"
   ]
  },
  {
   "cell_type": "code",
   "execution_count": 7,
   "metadata": {
    "tags": []
   },
   "outputs": [],
   "source": [
    "year = 2005"
   ]
  },
  {
   "cell_type": "markdown",
   "metadata": {},
   "source": [
    "Calculate derivative:"
   ]
  },
  {
   "cell_type": "markdown",
   "metadata": {},
   "source": [
    "Final result has to be in units of [NO_3]/s\n",
    "\n",
    "\\begin{equation*}\n",
    "\\frac{\\partial{NO_{3}(i)}}{\\partial{t}} \\approxeq \\frac{NO_{3}(i+1) - NO_{3}(i) }{\\Delta t} = \n",
    "\\frac{NO_{3}(2002m2)-NO_{3}(2002m1)}{(24*3600*ndays)} \n",
    "\\end{equation*}"
   ]
  },
  {
   "cell_type": "code",
   "execution_count": 8,
   "metadata": {
    "tags": []
   },
   "outputs": [],
   "source": [
    "def joblib_solver(deriv, year, month):\n",
    "    dNO3 = deriv(year, month) \n",
    "    return dNO3"
   ]
  },
  {
   "cell_type": "code",
   "execution_count": 9,
   "metadata": {
    "tags": []
   },
   "outputs": [],
   "source": [
    "months=np.arange(1,13)\n",
    "joblist=[]\n",
    "for month in months:\n",
    "    positional_args=[deriv,year,month]\n",
    "    keyword_args={}\n",
    "    joblist.append((joblib_solver,positional_args,keyword_args))"
   ]
  },
  {
   "cell_type": "code",
   "execution_count": 10,
   "metadata": {},
   "outputs": [],
   "source": [
    "ncores=1\n",
    "with Parallel(n_jobs=ncores,backend='threading') as parallel:\n",
    "    results=parallel(joblist)"
   ]
  },
  {
   "cell_type": "code",
   "execution_count": 8,
   "metadata": {},
   "outputs": [],
   "source": [
    "i_NO3 = np.zeros((12,50,2400,1632))\n",
    "for month in range(1,13):\n",
    "    m = nc.Dataset(f'/ocean/brogalla/GEOTRACES/data/bio/Mn_202110/delta_prod_y2002m{month:02}.nc')\n",
    "    m1 = np.array(m.variables['dNO3'])\n",
    "    \n",
    "    i_NO3[month-1,:,:,:] = m1"
   ]
  },
  {
   "cell_type": "code",
   "execution_count": null,
   "metadata": {},
   "outputs": [],
   "source": []
  }
 ],
 "metadata": {
  "kernelspec": {
   "display_name": "Python 3",
   "language": "python",
   "name": "python3"
  },
  "language_info": {
   "codemirror_mode": {
    "name": "ipython",
    "version": 3
   },
   "file_extension": ".py",
   "mimetype": "text/x-python",
   "name": "python",
   "nbconvert_exporter": "python",
   "pygments_lexer": "ipython3",
   "version": "3.6.11"
  }
 },
 "nbformat": 4,
 "nbformat_minor": 4
}
