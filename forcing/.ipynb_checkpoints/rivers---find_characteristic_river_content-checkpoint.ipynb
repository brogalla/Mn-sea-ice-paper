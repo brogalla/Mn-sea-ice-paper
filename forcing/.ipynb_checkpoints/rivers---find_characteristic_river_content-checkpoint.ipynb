{
 "cells": [
  {
   "cell_type": "markdown",
   "metadata": {},
   "source": [
    "# Calculate river tracer concentrations\n",
    "\n",
    "Based on the classification system with glacial, continental and other rivers, find trace metal concentrations from river data from Manuel Colombo & Kristina Brown (Colombo et al., 2019; Brown et al., 2020)"
   ]
  },
  {
   "cell_type": "code",
   "execution_count": 1,
   "metadata": {},
   "outputs": [],
   "source": [
    "import numpy as np"
   ]
  },
  {
   "cell_type": "markdown",
   "metadata": {},
   "source": [
    "Load data from paper:"
   ]
  },
  {
   "cell_type": "code",
   "execution_count": 2,
   "metadata": {},
   "outputs": [],
   "source": [
    "river_names = ['Akpat Kuunga', 'Glacier', 'Marcil Creek', 'Saaqu', 'Devon Isl.', \\\n",
    "               'Cunningham', 'Garnier', 'Mecham', 'Creswell', 'Le Feuvre Inlet', \\\n",
    "               'Pasley', 'Simpson', 'Ellice', 'Tree']\n",
    "river_lats = [73.7638, 73.6124, 72.9971, 73.7936, 74.5110, \\\n",
    "              74.0153, 73.9445, 74.6926, 72.8491, 72.3412, \\\n",
    "              70.4696, 67.6763, 67.8930, 67.6242]\n",
    "river_lons = [-80.4468, -78.6805, -84.9864, -86.9829, -88.4910, -93.6242, -92.0369, -94.7783, -93.4162, \\\n",
    "             -96.9172, -95.5796, -100.5683, -104.0758, -111.9161]\n",
    "river_dmn = [(6.31+6.5)/2, 164, (1.11+1.20)/2, (0.632+0.693)/2, 2.35, \\\n",
    "             (0.366+0.356)/2, 0.218, 0.067, (6.72+7.18)/2, (2.28+4.42)/2, \\\n",
    "             0.923, (51+54)/2, 11, 26] #nM\n",
    "river_spm = [8.31, 261, 3.18, np.nan, np.nan, \\\n",
    "             0.85, 13.6, 0.14, 2.43, np.nan, \\\n",
    "             0.03, 19.1, 4.82, np.nan]"
   ]
  },
  {
   "cell_type": "markdown",
   "metadata": {},
   "source": [
    "### Groupings:\n",
    "\n",
    "- Glacial rivers: Glacial River\n",
    "- Continental rivers: Tree River, Ellice River, Simpson River\n",
    "- Other rivers: Marcil, Saaqu, Devon Island, Cunningham, Garnier, Mecham, Creswell, Le Feuvre Inlet, Pasle, Akput Kuunga"
   ]
  },
  {
   "cell_type": "code",
   "execution_count": 3,
   "metadata": {},
   "outputs": [],
   "source": [
    "dMn_glaciers = river_dmn[1]\n",
    "dMn_other    = np.append(river_dmn[2:11], river_dmn[0])\n",
    "dMn_cont     = river_dmn[11:14]\n",
    "\n",
    "spm_glaciers = river_spm[1]\n",
    "spm_other    = np.append(river_spm[2:11], river_spm[0])\n",
    "spm_cont     = river_spm[11:14]"
   ]
  },
  {
   "cell_type": "code",
   "execution_count": 4,
   "metadata": {},
   "outputs": [],
   "source": [
    "dMn_other_ave    = np.average(dMn_other)\n",
    "dMn_glaciers_ave = np.average(dMn_glaciers)\n",
    "dMn_cont_ave     = np.average(dMn_cont)\n",
    "\n",
    "spm_other_ave    = np.nanmean(spm_other)\n",
    "spm_glaciers_ave = np.nanmean(spm_glaciers)\n",
    "spm_cont_ave     = np.nanmean(spm_cont)"
   ]
  },
  {
   "cell_type": "code",
   "execution_count": 5,
   "metadata": {},
   "outputs": [
    {
     "name": "stdout",
     "output_type": "stream",
     "text": [
      "dMn, glaciers: 164.00\n",
      "dMn, continental: 29.83\n",
      "dMn, other: 2.24\n",
      "---------------------------------\n",
      "spm, glaciers: 261.00\n",
      "spm, continental: 11.96\n",
      "spm, other: 4.08\n"
     ]
    }
   ],
   "source": [
    "print('dMn, glaciers: %.2f'%    dMn_glaciers_ave)\n",
    "print('dMn, continental: %.2f'% dMn_cont_ave)\n",
    "print('dMn, other: %.2f'%       dMn_other_ave)\n",
    "print('---------------------------------')\n",
    "print('spm, glaciers: %.2f'%    spm_glaciers_ave)\n",
    "print('spm, continental: %.2f'% spm_cont_ave)\n",
    "print('spm, other: %.2f'%       spm_other_ave)"
   ]
  },
  {
   "cell_type": "code",
   "execution_count": null,
   "metadata": {},
   "outputs": [],
   "source": []
  }
 ],
 "metadata": {
  "kernelspec": {
   "display_name": "Python 3",
   "language": "python",
   "name": "python3"
  },
  "language_info": {
   "codemirror_mode": {
    "name": "ipython",
    "version": 3
   },
   "file_extension": ".py",
   "mimetype": "text/x-python",
   "name": "python",
   "nbconvert_exporter": "python",
   "pygments_lexer": "ipython3",
   "version": "3.6.11"
  }
 },
 "nbformat": 4,
 "nbformat_minor": 4
}
