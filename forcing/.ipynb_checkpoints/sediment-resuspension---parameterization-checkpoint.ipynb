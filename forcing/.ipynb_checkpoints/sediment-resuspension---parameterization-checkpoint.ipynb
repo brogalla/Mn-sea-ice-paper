{
 "cells": [
  {
   "cell_type": "markdown",
   "metadata": {},
   "source": [
    "# Sediment resuspension parameterization\n",
    "\n",
    "Based on tidal speeds from Jacqui-Lee"
   ]
  },
  {
   "cell_type": "code",
   "execution_count": 1,
   "metadata": {},
   "outputs": [],
   "source": [
    "import numpy as np\n",
    "import netCDF4 as nc\n",
    "import xarray as xr\n",
    "import scipy.io"
   ]
  },
  {
   "cell_type": "markdown",
   "metadata": {},
   "source": [
    "##### Parameters"
   ]
  },
  {
   "cell_type": "code",
   "execution_count": 2,
   "metadata": {},
   "outputs": [],
   "source": [
    "# domain dimensions\n",
    "imin, imax = 1479, 2179\n",
    "jmin, jmax = 159, 799"
   ]
  },
  {
   "cell_type": "markdown",
   "metadata": {},
   "source": [
    "##### Load files:"
   ]
  },
  {
   "cell_type": "code",
   "execution_count": 3,
   "metadata": {},
   "outputs": [],
   "source": [
    "mesh         = nc.Dataset('/ocean/brogalla/GEOTRACES/data/ANHA12/ANHA12_mesh1.nc')\n",
    "mesh_lon     = np.array(mesh.variables['nav_lon'])\n",
    "mesh_lat     = np.array(mesh.variables['nav_lat'])\n",
    "mesh_bathy   = np.array(mesh.variables['hdept'][0])\n",
    "tmask        = np.array(mesh.variables['tmask'])[0,:,:,:]\n",
    "bathy_masked = np.ma.masked_where((mesh_bathy > 0.1), mesh_bathy)"
   ]
  },
  {
   "cell_type": "code",
   "execution_count": 4,
   "metadata": {},
   "outputs": [],
   "source": [
    "# Tidal speed matrix provided by Jacqui-Lee Epstein and Stephanie Waterman (extracted from Carrere and Lyard, 2003)\n",
    "mat         = scipy.io.loadmat('/ocean/brogalla/GEOTRACES/data/mean_tide_speed.mat')\n",
    "tidal_speed = mat['mean_speed']\n",
    "\n",
    "ts_mesh     = nc.Dataset('/ocean/brogalla/GEOTRACES/data/hsquare.nc')\n",
    "ts_lons     = np.array(ts_mesh.variables['nav_lon'])\n",
    "ts_lats     = np.array(ts_mesh.variables['nav_lat'])"
   ]
  },
  {
   "cell_type": "markdown",
   "metadata": {},
   "source": [
    "##### Functions"
   ]
  },
  {
   "cell_type": "code",
   "execution_count": 5,
   "metadata": {},
   "outputs": [],
   "source": [
    "def interp_np(nav_lon, nav_lat, var_in, lon_ANHA12, lat_ANHA12):\n",
    "    # Interpolate some grid to ANHA12 grid\n",
    "    \n",
    "    from scipy.interpolate import griddata\n",
    "\n",
    "    LatLonPair = (nav_lon.flatten(), nav_lat.flatten())\n",
    "    var_out = griddata(LatLonPair, var_in.flatten(), (lon_ANHA12, lat_ANHA12), method='linear')\n",
    "    # Take nearest neighbour interpolation to fill nans\n",
    "    var_fill = griddata(LatLonPair, var_in.flatten(), (lon_ANHA12, lat_ANHA12), method='nearest')\n",
    "    var_out[np.isnan(var_out)] = var_fill[np.isnan(var_out)]\n",
    "    \n",
    "    return var_out"
   ]
  },
  {
   "cell_type": "markdown",
   "metadata": {},
   "source": [
    "##### Calculations"
   ]
  },
  {
   "cell_type": "code",
   "execution_count": 6,
   "metadata": {},
   "outputs": [],
   "source": [
    "tidal_speed_ANHA12 = interp_np(ts_lons, ts_lats, tidal_speed, mesh_lon, mesh_lat)\n",
    "tidal_speed_ANHA12[np.isnan(tidal_speed_ANHA12)] = 0\n",
    "tidal_speed_ANHA12[tidal_speed_ANHA12 < 0.01]    = 0 # mask tidal speeds slower than 1 cm/s"
   ]
  },
  {
   "cell_type": "code",
   "execution_count": 7,
   "metadata": {},
   "outputs": [
    {
     "name": "stderr",
     "output_type": "stream",
     "text": [
      "/home/brogalla/miniconda3/envs/julab/lib/python3.6/site-packages/ipykernel_launcher.py:4: RuntimeWarning: divide by zero encountered in log10\n",
      "  after removing the cwd from sys.path.\n"
     ]
    }
   ],
   "source": [
    "gamma            = 0.065\n",
    "alpha_0          = 0.3e-6*9*0.8*0.055/gamma\n",
    "erosion_rate     = alpha_0*gamma*(1-np.exp(-tidal_speed_ANHA12**2/gamma))\n",
    "log_erosion_rate = np.log10(erosion_rate)"
   ]
  },
  {
   "cell_type": "markdown",
   "metadata": {},
   "source": [
    "# Write to file:"
   ]
  },
  {
   "cell_type": "code",
   "execution_count": null,
   "metadata": {},
   "outputs": [],
   "source": [
    "file_write = xr.Dataset(\n",
    "    {'er_rate': ((\"y\",\"x\"), erosion_rate)}, \n",
    "    coords = {\n",
    "        \"y\": np.zeros(2400),\n",
    "        \"x\": np.zeros(1632),\n",
    "    },\n",
    "    attrs = {\n",
    "        'long_name':'Erosion rate',\n",
    "        'units':'kg/m2/s',\n",
    "    }\n",
    ")"
   ]
  },
  {
   "cell_type": "code",
   "execution_count": null,
   "metadata": {},
   "outputs": [],
   "source": [
    "file_write.to_netcdf('/ocean/brogalla/GEOTRACES/data/erosion_rate-20211004.nc')"
   ]
  },
  {
   "cell_type": "code",
   "execution_count": null,
   "metadata": {},
   "outputs": [],
   "source": []
  }
 ],
 "metadata": {
  "kernelspec": {
   "display_name": "Python 3",
   "language": "python",
   "name": "python3"
  },
  "language_info": {
   "codemirror_mode": {
    "name": "ipython",
    "version": 3
   },
   "file_extension": ".py",
   "mimetype": "text/x-python",
   "name": "python",
   "nbconvert_exporter": "python",
   "pygments_lexer": "ipython3",
   "version": "3.6.11"
  }
 },
 "nbformat": 4,
 "nbformat_minor": 4
}
