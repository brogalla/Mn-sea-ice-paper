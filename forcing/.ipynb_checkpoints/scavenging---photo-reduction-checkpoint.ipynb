{
 "cells": [
  {
   "cell_type": "markdown",
   "metadata": {},
   "source": [
    "# Create photoreduction forcing files"
   ]
  },
  {
   "cell_type": "code",
   "execution_count": 2,
   "metadata": {},
   "outputs": [],
   "source": [
    "import numpy as np\n",
    "import netCDF4 as nc\n",
    "\n",
    "%matplotlib inline"
   ]
  },
  {
   "cell_type": "markdown",
   "metadata": {},
   "source": [
    "Parameterization for photo reduction:\n",
    "- Higher sol_flux means stronger photo reduction.\n",
    "- Background reduction value: 1\n",
    "- Photo-enhanced reduction value maximum: 58"
   ]
  },
  {
   "cell_type": "code",
   "execution_count": 3,
   "metadata": {},
   "outputs": [],
   "source": [
    "imin, imax = 1479, 2179\n",
    "jmin, jmax = 159, 799"
   ]
  },
  {
   "cell_type": "markdown",
   "metadata": {},
   "source": [
    "##### Load files"
   ]
  },
  {
   "cell_type": "code",
   "execution_count": 4,
   "metadata": {},
   "outputs": [],
   "source": [
    "mask      = nc.Dataset('/ocean/brogalla/GEOTRACES/data/ANHA12/ANHA12_mesh1.nc')\n",
    "tmask     = np.array(mask.variables['tmask'])\n",
    "land_mask = np.ma.masked_where((tmask[0,:,:,:] > 0.1), tmask[0,:,:,:])\n",
    "lons      = np.array(mask.variables['nav_lon'])\n",
    "lats      = np.array(mask.variables['nav_lat'])\n",
    "tmask     = tmask[0,:,imin:imax,jmin:jmax]"
   ]
  },
  {
   "cell_type": "markdown",
   "metadata": {},
   "source": [
    "##### Functions"
   ]
  },
  {
   "cell_type": "code",
   "execution_count": 5,
   "metadata": {},
   "outputs": [],
   "source": [
    "def load_variables(filename):\n",
    "    # Load solar flux variable from ocean-ice model dynamics fields\n",
    "    a = nc.Dataset(filename)\n",
    "    \n",
    "    sol_flux = np.array(a.variables['iocesflx'][:,0,:,:])     \n",
    "    \n",
    "    return sol_flux"
   ]
  },
  {
   "cell_type": "code",
   "execution_count": 6,
   "metadata": {},
   "outputs": [],
   "source": [
    "def red_rate_calc(year):\n",
    "    \n",
    "    # domain dimensions:\n",
    "    imin, imax = 1479, 2179\n",
    "    jmin, jmax = 159, 799\n",
    "    \n",
    "    # calculate reduction rate based on the solar flux from ANHA12 dynamics fields from Paul Myers' group\n",
    "    # (http://knossos.eas.ualberta.ca/anha/anhatable.php)\n",
    "    sol_flux      = load_variables(f'/data/brogalla/ANHA12/icemod_ave/ANHA12_EXH006_{year}_monthly.nc')\n",
    "    max_sol_flux  = sol_flux[:,imin:imax,jmin:jmax].max()\n",
    "    mean_sol_flux = sol_flux[:,imin:imax,jmin:jmax].mean()\n",
    "    \n",
    "    normalized_solar_flux = np.abs(sol_flux - mean_sol_flux)/max_sol_flux\n",
    "    red_rate              = normalized_solar_flux * 58\n",
    "    \n",
    "    red_rate[red_rate < 1]  = 1\n",
    "    red_rate[red_rate > 58] = 58\n",
    "    \n",
    "    return red_rate"
   ]
  },
  {
   "cell_type": "code",
   "execution_count": 86,
   "metadata": {},
   "outputs": [],
   "source": [
    "red_rate_new = red_rate_calc(2002)"
   ]
  },
  {
   "cell_type": "code",
   "execution_count": 89,
   "metadata": {},
   "outputs": [],
   "source": [
    "def save_file(filename, field1):\n",
    "    ncd = nc.Dataset(filename, 'w', zlib=True)\n",
    "\n",
    "    ncd.createDimension('x',len(mesh.dimensions['x']))\n",
    "    ncd.createDimension('y',len(mesh.dimensions['y']))\n",
    "    ncd.createDimension('time_counter',None)\n",
    "    \n",
    "    # variables\n",
    "    red             = ncd.createVariable('kred', 'float64', ('y','x'))\n",
    "    red.units       = 'Unitless'\n",
    "    red.long_name   = 'Photoreduction multiplier'  \n",
    "    red.coordinates = 'nav_lon nav_lat'\n",
    "    red[:]          = field1[:]\n",
    "\n",
    "    ncd.close()\n",
    "    return"
   ]
  },
  {
   "cell_type": "code",
   "execution_count": 95,
   "metadata": {},
   "outputs": [],
   "source": [
    "def red_year(year, savefile=False):\n",
    "    \n",
    "    red_rateyear = red_rate_calc(year)\n",
    "    \n",
    "    if savefile:\n",
    "        location='/data/brogalla/reduction_forcing/20210817/'\n",
    "        \n",
    "        for i in range(1,13):\n",
    "            save_file(f'{location}red_y{year}m{i:02}.nc',red_rateyear[i-1,:,:])\n",
    "        \n",
    "    \n",
    "    return red_rateyear"
   ]
  },
  {
   "cell_type": "markdown",
   "metadata": {},
   "source": [
    "##### Calculations"
   ]
  },
  {
   "cell_type": "code",
   "execution_count": 96,
   "metadata": {},
   "outputs": [],
   "source": [
    "for year in range(2002,2003):\n",
    "    red_rate = red_year(year, savefile=True)"
   ]
  }
 ],
 "metadata": {
  "kernelspec": {
   "display_name": "Python 3",
   "language": "python",
   "name": "python3"
  },
  "language_info": {
   "codemirror_mode": {
    "name": "ipython",
    "version": 3
   },
   "file_extension": ".py",
   "mimetype": "text/x-python",
   "name": "python",
   "nbconvert_exporter": "python",
   "pygments_lexer": "ipython3",
   "version": "3.6.11"
  }
 },
 "nbformat": 4,
 "nbformat_minor": 4
}
