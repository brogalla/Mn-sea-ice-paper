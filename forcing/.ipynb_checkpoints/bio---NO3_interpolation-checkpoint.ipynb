{
 "cells": [
  {
   "cell_type": "markdown",
   "metadata": {},
   "source": [
    "# Interpolate CanOE Nitrate field\n",
    "\n",
    "Step 1 for uptake and remineralization parameterization. Then calculate derivative from interpolated fields (bio---NO3_derivative.ipynb). "
   ]
  },
  {
   "cell_type": "code",
   "execution_count": null,
   "metadata": {},
   "outputs": [],
   "source": [
    "import numpy as np\n",
    "import netCDF4 as nc"
   ]
  },
  {
   "cell_type": "markdown",
   "metadata": {},
   "source": [
    "Load ANHA12 coordinate file:"
   ]
  },
  {
   "cell_type": "code",
   "execution_count": null,
   "metadata": {},
   "outputs": [],
   "source": [
    "# Mesh:\n",
    "mesh     = nc.Dataset('/ocean/brogalla/GEOTRACES/data/ANHA12/ANHA12_mesh1.nc')\n",
    "tmask    = np.array(mesh.variables['tmask'])[0,:,:,:]\n",
    "Z_masked = np.ma.masked_where((tmask > 0.1), tmask) \n",
    "mdepth   = np.array(mesh.variables['nav_lev'])\n",
    "mlons    = np.array(mesh.variables['nav_lon'])\n",
    "mlats    = np.array(mesh.variables['nav_lat'])"
   ]
  },
  {
   "cell_type": "markdown",
   "metadata": {},
   "source": [
    "### Functions:"
   ]
  },
  {
   "cell_type": "code",
   "execution_count": null,
   "metadata": {},
   "outputs": [],
   "source": [
    "def load_data(year):\n",
    "    # Output from CanOE run provided by Hakase Hayashida and Nadja Steiner \n",
    "    folder = '/ocean/brogalla/GEOTRACES/data/bio/'\n",
    "    filename = f'NAA_730h_{year}0101_{year}1231_ptrc_T_no3.nc'\n",
    "    \n",
    "    data  = nc.Dataset(folder+filename)\n",
    "    NO3   = np.array(data.variables['no3'])\n",
    "    depth = np.array(data.variables['deptht'])\n",
    "    lat   = np.array(data.variables['nav_lat'])\n",
    "    lon   = np.array(data.variables['nav_lon'])\n",
    "    time  = np.array(data.variables['time_counter'])\n",
    "\n",
    "    return lat, lon, depth, NO3"
   ]
  },
  {
   "cell_type": "code",
   "execution_count": null,
   "metadata": {},
   "outputs": [],
   "source": [
    "def interp_depths(var,CanOE_depth, mdepth,fill):\n",
    "    # interpolate with depth\n",
    "    #   constant extrapolation for values outside of the range\n",
    "    from scipy import interpolate\n",
    "    \n",
    "    interp_var = np.empty((12, 50, 400, 568))\n",
    "    x = CanOE_depth\n",
    "    \n",
    "    for t in range(0,12):\n",
    "        for i in range(0,400):\n",
    "            for j in range(0,568):\n",
    "                # interpolate over depths        \n",
    "                y = var[t,:,i,j]\n",
    "                f = interpolate.interp1d(x, y, fill_value = fill)\n",
    "                interp_var[t,:,i,j] = f(mdepth)\n",
    "    interp_var=np.array(interp_var)\n",
    "    return interp_var"
   ]
  },
  {
   "cell_type": "code",
   "execution_count": null,
   "metadata": {},
   "outputs": [],
   "source": [
    "def interp_horizon(year, month, lon, lat, i_NO3, mlons=mlons, mlats=mlats):\n",
    "    # Interpolate horizontally:\n",
    "    \n",
    "    NO3 = np.empty((50, 2400, 1632))\n",
    "    for i in range(0,50):\n",
    "        NO3[i,:,:] = interp_np(lon, lat, i_NO3[month-1,i,:,:], mlons, mlats)\n",
    "        \n",
    "    print(f'Saving y{year}m{month:02}')\n",
    "    save_NO3(f'/ocean/brogalla/GEOTRACES/data/bio/Mn_202110/NO3_y{year}m{month:02}.nc',NO3[:,:,:])\n",
    "    \n",
    "    return NO3\n",
    "\n",
    "def interp_np(nav_lon, nav_lat, var_in, lon_ANHA12, lat_ANHA12):\n",
    "    # Interpolate some field to ANHA12 grid\n",
    "    \n",
    "    from scipy.interpolate import griddata\n",
    "    LatLonPair = (nav_lon, nav_lat)\n",
    "    var_out = griddata(LatLonPair, var_in, (lon_ANHA12, lat_ANHA12), method='cubic')\n",
    "    # Take nearest neighbour interpolation to fill nans\n",
    "    var_fill = griddata(LatLonPair, var_in, (lon_ANHA12, lat_ANHA12), method='nearest')\n",
    "    \n",
    "    # fill nans with constant value (0.1)\n",
    "    var_out[np.isnan(var_out)] = var_fill[np.isnan(var_out)]\n",
    "    return var_out"
   ]
  },
  {
   "cell_type": "code",
   "execution_count": null,
   "metadata": {},
   "outputs": [],
   "source": [
    "def save_NO3(filename, field):\n",
    "    \n",
    "    # Save forcing file:    \n",
    "    ncd = nc.Dataset(filename, 'w', zlib=True)\n",
    "    ncd.createDimension('x',1632)\n",
    "    ncd.createDimension('y',2400)\n",
    "    ncd.createDimension('deptht', 50)\n",
    "    \n",
    "    # variables\n",
    "    NO3_var = ncd.createVariable('NO3', 'float64', ('deptht','y','x'))\n",
    "    NO3_var.units = 'mmol/m3'\n",
    "    NO3_var.long_name = 'CanOE nitrate'  \n",
    "    NO3_var.coordinates = 'nav_lon nav_lat deptht'\n",
    "    NO3_var[:] = field\n",
    "    \n",
    "    ncd.close()\n",
    "    return"
   ]
  },
  {
   "cell_type": "markdown",
   "metadata": {},
   "source": [
    "## Run:"
   ]
  },
  {
   "cell_type": "markdown",
   "metadata": {},
   "source": [
    "##### Choose year:"
   ]
  },
  {
   "cell_type": "code",
   "execution_count": null,
   "metadata": {},
   "outputs": [],
   "source": [
    "year = 2016"
   ]
  },
  {
   "cell_type": "markdown",
   "metadata": {},
   "source": [
    "Load CanOE biology output:"
   ]
  },
  {
   "cell_type": "code",
   "execution_count": null,
   "metadata": {},
   "outputs": [],
   "source": [
    "lat, lon, depth, NO3 = load_data(year)"
   ]
  },
  {
   "cell_type": "markdown",
   "metadata": {},
   "source": [
    "First, interpolate in depth:"
   ]
  },
  {
   "cell_type": "code",
   "execution_count": null,
   "metadata": {},
   "outputs": [],
   "source": [
    "i_NO3 = interp_depths(NO3, depth, mdepth, fill='extrapolate')\n",
    "i_NO3.shape"
   ]
  },
  {
   "cell_type": "markdown",
   "metadata": {},
   "source": [
    "Then, interpolate horizontally:"
   ]
  },
  {
   "cell_type": "code",
   "execution_count": null,
   "metadata": {},
   "outputs": [],
   "source": [
    "def joblib_solver(interp_horizon,year,month,lon,lat,i_NO3):\n",
    "    interp = interp_horizon(year,month,lon,lat,i_NO3) \n",
    "    return interp"
   ]
  },
  {
   "cell_type": "code",
   "execution_count": null,
   "metadata": {},
   "outputs": [],
   "source": [
    "months=np.arange(1,13)\n",
    "joblist=[]\n",
    "for month in months:\n",
    "    positional_args=[interp_horizon,year,month,lon,lat,i_NO3]\n",
    "    keyword_args={}\n",
    "    joblist.append((joblib_solver,positional_args,keyword_args))"
   ]
  },
  {
   "cell_type": "code",
   "execution_count": null,
   "metadata": {},
   "outputs": [],
   "source": [
    "from joblib import Parallel\n",
    "ncores=6\n",
    "with Parallel(n_jobs=ncores,backend='threading') as parallel:\n",
    "    results=parallel(joblist)"
   ]
  },
  {
   "cell_type": "code",
   "execution_count": null,
   "metadata": {},
   "outputs": [],
   "source": [
    "a = np.array(results)\n",
    "a.shape"
   ]
  },
  {
   "cell_type": "markdown",
   "metadata": {},
   "source": [
    "Check that there are no NaN values:"
   ]
  },
  {
   "cell_type": "code",
   "execution_count": null,
   "metadata": {},
   "outputs": [],
   "source": [
    "print(np.count_nonzero(np.isnan(a)))"
   ]
  },
  {
   "cell_type": "markdown",
   "metadata": {},
   "source": [
    "save to NetCDF file:"
   ]
  },
  {
   "cell_type": "code",
   "execution_count": null,
   "metadata": {},
   "outputs": [],
   "source": [
    "for i in range(0,12):\n",
    "    save_NO3(f'/ocean/brogalla/GEOTRACES/data/bio/20211001_NO3_y{year}m{i+1}.nc',a[i,:,:,:])"
   ]
  }
 ],
 "metadata": {
  "kernelspec": {
   "display_name": "Python 3",
   "language": "python",
   "name": "python3"
  },
  "language_info": {
   "codemirror_mode": {
    "name": "ipython",
    "version": 3
   },
   "file_extension": ".py",
   "mimetype": "text/x-python",
   "name": "python",
   "nbconvert_exporter": "python",
   "pygments_lexer": "ipython3",
   "version": "3.6.11"
  }
 },
 "nbformat": 4,
 "nbformat_minor": 4
}
