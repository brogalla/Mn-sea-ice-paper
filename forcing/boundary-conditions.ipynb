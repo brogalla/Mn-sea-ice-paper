{
 "cells": [
  {
   "cell_type": "markdown",
   "metadata": {},
   "source": [
    "# Create boundary conditions"
   ]
  },
  {
   "cell_type": "code",
   "execution_count": 1,
   "metadata": {},
   "outputs": [],
   "source": [
    "import matplotlib.pyplot as plt\n",
    "import numpy as np\n",
    "import netCDF4 as nc\n",
    "import datetime\n",
    "from mpl_toolkits.basemap import Basemap, cm\n",
    "import cmocean\n",
    "import glob\n",
    "from math import isclose\n",
    "import scipy.ndimage as ndimage\n",
    "import matplotlib\n",
    "import pickle\n",
    "import xarray as xr\n",
    "\n",
    "%matplotlib inline"
   ]
  },
  {
   "cell_type": "markdown",
   "metadata": {},
   "source": [
    "#### Parameters:"
   ]
  },
  {
   "cell_type": "code",
   "execution_count": 2,
   "metadata": {},
   "outputs": [],
   "source": [
    "# domain dimensions:\n",
    "imin, imax = 1479, 2179\n",
    "jmin, jmax = 159, 799\n",
    "\n",
    "# Boundary coordinates:\n",
    "N_coordinates = ((2168, 2178, 201, 798))\n",
    "E_coordinates = ((1481, 2178, 778, 798))\n",
    "S_coordinates = ((1482, 1492, 181, 798))\n",
    "\n",
    "# Colours:\n",
    "land_color = '#a9a7a2'\n",
    "\n",
    "# Rimwidth:\n",
    "rimwidth_north = 10 # western Canada Basin\n",
    "rimwidth_east  = 20 # northern Canada Basin\n",
    "rimwidth_south = 10 # Baffin Bay"
   ]
  },
  {
   "cell_type": "markdown",
   "metadata": {},
   "source": [
    "#### Functions:"
   ]
  },
  {
   "cell_type": "code",
   "execution_count": 122,
   "metadata": {},
   "outputs": [],
   "source": [
    "def flatten_input(var, order):\n",
    "    b = var[0,:,:].flatten(order=order)\n",
    "    for i in range(1,len(var)):\n",
    "        a = var[i,:,:].flatten(order=order)\n",
    "        b = np.vstack((b,a))\n",
    "    return b"
   ]
  },
  {
   "cell_type": "code",
   "execution_count": 7,
   "metadata": {},
   "outputs": [],
   "source": [
    "def create_boundary(rimwidth, boundary_dMn, boundary_oMn):\n",
    "\n",
    "    # Take in the boundary values and reshape\n",
    "    \n",
    "    dMn_O = flatten_input(boundary_dMn)\n",
    "    oMn_O = flatten_input(boundary_oMn)\n",
    "    \n",
    "    dMn_OBC = np.reshape(dMn_O, (1,50,1,np.max(boundary_dMn.shape)*rimwidth))\n",
    "    oMn_OBC = np.reshape(oMn_O, (1,50,1,np.max(boundary_dMn.shape)*rimwidth))\n",
    "\n",
    "    return dMn_OBC, oMn_OBC"
   ]
  },
  {
   "cell_type": "code",
   "execution_count": 8,
   "metadata": {},
   "outputs": [],
   "source": [
    "def save_BC_file(name, dMn_BC, oMn_BC):\n",
    "    \n",
    "    # Save boundary conditions to file\n",
    "    ncd = nc.Dataset(f'/ocean/brogalla/GEOTRACES/data/{name}', 'w', zlib=True)\n",
    "    ncd.createDimension('x', np.max(dMn_BC.shape))\n",
    "    ncd.createDimension('y',1)\n",
    "    ncd.createDimension('z',50)\n",
    "    ncd.createDimension('t',None)\n",
    "    \n",
    "    dMn = ncd.createVariable('dMn', 'float64', ('t','z','y','x'))\n",
    "    dMn.units = 'dissolved Mn'\n",
    "    dMn.long_name = 'dMn'\n",
    "    dMn[:] = dMn_BC\n",
    "\n",
    "    oMn = ncd.createVariable('oMn', 'float64', ('t','z','y','x'))\n",
    "    oMn.units = 'oxidised Mn'\n",
    "    oMn.long_name = 'oMn'\n",
    "    oMn[:] = oMn_BC\n",
    "    \n",
    "    ncd.close()\n",
    "    return"
   ]
  },
  {
   "cell_type": "markdown",
   "metadata": {},
   "source": [
    "#### Load files:"
   ]
  },
  {
   "cell_type": "code",
   "execution_count": 126,
   "metadata": {},
   "outputs": [],
   "source": [
    "ref       = nc.Dataset('/data/brogalla/ANHA12/ANHA12-EXH006_5d_gridT_y2015m01d05.nc',  'r')\n",
    "lat_model = np.array(ref.variables['nav_lat'])\n",
    "lon_model = np.array(ref.variables['nav_lon'])"
   ]
  },
  {
   "cell_type": "code",
   "execution_count": 127,
   "metadata": {},
   "outputs": [],
   "source": [
    "# ANHA12 mesh:\n",
    "mesh         = nc.Dataset('/ocean/brogalla/GEOTRACES/data/ANHA12/ANHA12_mesh1.nc')\n",
    "mesh_lon     = np.array(mesh.variables['nav_lon'])\n",
    "mesh_lat     = np.array(mesh.variables['nav_lat'])\n",
    "mesh_bathy   = np.array(mesh.variables['tmask'][0,:,:,:])\n",
    "bathy_masked = np.ma.masked_where((mesh_bathy> 0.1), mesh_bathy)\n",
    "mesh_depth   = np.array(mesh.variables['nav_lev'])\n",
    "mesh_hdept   = np.array(mesh.variables['hdept'][0])"
   ]
  },
  {
   "cell_type": "markdown",
   "metadata": {},
   "source": [
    "#### Calculations and Figures:"
   ]
  },
  {
   "cell_type": "code",
   "execution_count": null,
   "metadata": {},
   "outputs": [],
   "source": [
    "# then run for 4 years and use grid cells within domain for the boundary condition.\n",
    "month = 5\n",
    "\n",
    "# Load spin up run:\n",
    "Mn_run = nc.Dataset('/data/brogalla/run_storage/Mn-IC-202204/ANHA12_IC-spin-up3_20220419/ANHA12_EXH006_2002_monthly.nc')\n",
    "dMn = np.array(Mn_run.variables['dissolmn'])[:,0,:,:,:]\n",
    "oMn = np.array(Mn_run.variables['oxidismn'])[:,0,:,:,:]\n",
    "# Mask values on land\n",
    "dMn_ma = np.ma.masked_where(mesh_bathy[:,imin:imax,jmin:jmax] < 0.1, dMn[month,:,:,:])\n",
    "oMn_ma = np.ma.masked_where(mesh_bathy[:,imin:imax,jmin:jmax] < 0.1, oMn[month,:,:,:])\n",
    "\n",
    "# ---------- Estimate boundary conditions based on rimwidth grid cells inside the boundary -------------\n",
    "# ---- North ----\n",
    "dMn_north_ma = dMn_ma[:,N_coordinates[0]-imin-rimwidth_north:N_coordinates[1]-imin-rimwidth_north,N_coordinates[2]-jmin:N_coordinates[3]-jmin]\n",
    "oMn_north_ma = oMn_ma[:,N_coordinates[0]-imin-rimwidth_north:N_coordinates[1]-imin-rimwidth_north,N_coordinates[2]-jmin:N_coordinates[3]-jmin]\n",
    "# Fill area of overlap with eastern boundary with average of masked array\n",
    "dMn_north_ma[:,:,-20:] = np.ma.average(dMn_north_ma[:,:,-20:])\n",
    "oMn_north_ma[:,:,-20:] = np.ma.average(dMn_north_ma[:,:,-20:])\n",
    "\n",
    "# ---- East ----\n",
    "dMn_east_ma  = dMn_ma[:,E_coordinates[0]-imin:E_coordinates[1]-imin,E_coordinates[2]-jmin-rimwidth_east:E_coordinates[3]-jmin-rimwidth_east]\n",
    "oMn_east_ma  = oMn_ma[:,E_coordinates[0]-imin:E_coordinates[1]-imin,E_coordinates[2]-jmin-rimwidth_east:E_coordinates[3]-jmin-rimwidth_east]\n",
    "# Fill area of overlap with northern boundary with average of masked array\n",
    "dMn_east_ma[:,-10:,:] = np.ma.average(dMn_east_ma[:,0:-10,:])\n",
    "oMn_east_ma[:,-10:,:] = np.ma.average(dMn_east_ma[:,0:-10,:])\n",
    "\n",
    "# ---- South ----\n",
    "dMn_south_ma = dMn_ma[:,S_coordinates[0]-imin+rimwidth_south:S_coordinates[1]-imin+rimwidth_south,S_coordinates[2]-jmin:S_coordinates[3]-jmin]\n",
    "oMn_south_ma = oMn_ma[:,S_coordinates[0]-imin+rimwidth_south:S_coordinates[1]-imin+rimwidth_south,S_coordinates[2]-jmin:S_coordinates[3]-jmin]\n",
    "\n",
    "for z in range(0,50):\n",
    "    # Fill land with average values in slice\n",
    "    dMn_north_ma[z,:,:].filled(fill_value=np.ma.average(dMn_north_ma[z,:,:]))\n",
    "    oMn_north_ma[z,:,:].filled(fill_value=np.ma.average(oMn_north_ma[z,:,:]))\n",
    "    dMn_east_ma[z,:,:].filled(fill_value=np.ma.average(dMn_east_ma[z,:,:]))\n",
    "    oMn_east_ma[z,:,:].filled(fill_value=np.ma.average(oMn_east_ma[z,:,:]))\n",
    "    dMn_south_ma[z,:,:].filled(fill_value=np.ma.average(dMn_south_ma[z,:,:]))\n",
    "    oMn_south_ma[z,:,:].filled(fill_value=np.ma.average(oMn_south_ma[z,:,:]))\n",
    "    \n",
    "    # Mackenzie model forcing copied over, so fill with average of masked array\n",
    "    dMn_north_ma[z,:,0:300] = np.ma.average(dMn_north_ma[z,:,300:])\n",
    "    oMn_north_ma[z,:,0:300] = np.ma.average(oMn_north_ma[z,:,300:])\n",
    "    \n",
    "    # Inner Nares Strait copied over, so fill with average of masked array\n",
    "    dMn_east_ma[z,0:170,:] = np.ma.average(dMn_east_ma[z,170:,:])\n",
    "    oMn_east_ma[z,0:170,:] = np.ma.average(oMn_east_ma[z,170:,:])\n",
    "    \n",
    "dMn_north = np.array(dMn_north_ma); oMn_north = np.array(oMn_north_ma);\n",
    "dMn_east  = np.array(dMn_east_ma);  oMn_east  = np.array(oMn_east_ma);\n",
    "dMn_south = np.array(dMn_south_ma); oMn_south = np.array(oMn_south_ma);\n",
    "\n",
    "# Replace zero values with average values:\n",
    "dMn_north[dMn_north == 0] = np.ma.average(dMn_north_ma[:,:,:])\n",
    "oMn_north[oMn_north == 0] = np.ma.average(oMn_north_ma[:,:,:])\n",
    "dMn_east[dMn_east == 0]   = np.ma.average(dMn_east_ma[:,:,:])\n",
    "oMn_east[oMn_east == 0]   = np.ma.average(oMn_east_ma[:,:,:])\n",
    "dMn_south[dMn_south == 0] = np.ma.average(dMn_south_ma[15:,:,:]) # ignore surface otherwise fill values uncharacteristic\n",
    "oMn_south[oMn_south == 0] = np.ma.average(oMn_south_ma[15:,:,:])\n",
    "\n",
    "# Filter to smoothe out hard edges in the forcing associated with copied over land\n",
    "dMn_north = ndimage.gaussian_filter(dMn_north, sigma=4, order=0)\n",
    "oMn_north = ndimage.gaussian_filter(oMn_north, sigma=4, order=0)\n",
    "dMn_east  = ndimage.gaussian_filter(dMn_east , sigma=4, order=0)\n",
    "oMn_east  = ndimage.gaussian_filter(oMn_east , sigma=4, order=0)\n",
    "dMn_south = ndimage.gaussian_filter(dMn_south, sigma=4, order=0)\n",
    "oMn_south = ndimage.gaussian_filter(oMn_south, sigma=4, order=0)\n",
    "    \n",
    "# Flatten boundaries\n",
    "dMn_north_BC, oMn_north_BC = create_boundary(rimwidth_north, dMn_north, oMn_north, 'C')\n",
    "dMn_east_BC , oMn_east_BC  = create_boundary(rimwidth_east , dMn_east , oMn_east , 'F')\n",
    "dMn_south_BC, oMn_south_BC = create_boundary(rimwidth_south, dMn_south, oMn_south, 'C')"
   ]
  },
  {
   "cell_type": "markdown",
   "metadata": {
    "tags": []
   },
   "source": [
    "#### Write final boundary condition:"
   ]
  },
  {
   "cell_type": "code",
   "execution_count": 137,
   "metadata": {},
   "outputs": [],
   "source": [
    "save_BC_file('Mn_North_OBC_20220422.nc', dMn_north_BC, oMn_north_BC)\n",
    "save_BC_file('Mn_East_OBC_20220422.nc' , dMn_east_BC,  oMn_east_BC)\n",
    "save_BC_file('Mn_South_OBC_20220422.nc', dMn_south_BC, oMn_south_BC)"
   ]
  },
  {
   "cell_type": "code",
   "execution_count": null,
   "metadata": {},
   "outputs": [],
   "source": [
    "print(dMn_north.size-np.count_nonzero(dMn_north))\n",
    "print(oMn_north.size-np.count_nonzero(oMn_north))\n",
    "print(dMn_east.size-np.count_nonzero(dMn_east))\n",
    "print(oMn_east.size-np.count_nonzero(oMn_east))\n",
    "print(dMn_south.size-np.count_nonzero(dMn_south))\n",
    "print(oMn_south.size-np.count_nonzero(oMn_south))"
   ]
  }
 ],
 "metadata": {
  "kernelspec": {
   "display_name": "Python 3",
   "language": "python",
   "name": "python3"
  },
  "language_info": {
   "codemirror_mode": {
    "name": "ipython",
    "version": 3
   },
   "file_extension": ".py",
   "mimetype": "text/x-python",
   "name": "python",
   "nbconvert_exporter": "python",
   "pygments_lexer": "ipython3",
   "version": "3.6.11"
  }
 },
 "nbformat": 4,
 "nbformat_minor": 4
}
