{
 "cells": [
  {
   "cell_type": "markdown",
   "metadata": {},
   "source": [
    "## What is the range of sediment resuspension rates in our model?"
   ]
  },
  {
   "cell_type": "code",
   "execution_count": 1,
   "metadata": {},
   "outputs": [],
   "source": [
    "import numpy as np\n",
    "import netCDF4 as nc"
   ]
  },
  {
   "cell_type": "markdown",
   "metadata": {},
   "source": [
    "##### Parameters"
   ]
  },
  {
   "cell_type": "code",
   "execution_count": 2,
   "metadata": {},
   "outputs": [],
   "source": [
    "imin, imax = 1479, 2179\n",
    "jmin, jmax = 159, 799\n",
    "isize, jsize = imax-imin, jmax-jmin"
   ]
  },
  {
   "cell_type": "markdown",
   "metadata": {},
   "source": [
    "###### Load files"
   ]
  },
  {
   "cell_type": "code",
   "execution_count": 4,
   "metadata": {},
   "outputs": [],
   "source": [
    "mask  = nc.Dataset('/ocean/brogalla/GEOTRACES/data/ANHA12/ANHA12_mesh1.nc')\n",
    "tmask = np.array(mask.variables['tmask'])\n",
    "\n",
    "e1t_base = np.array(mask.variables['e1t'])[0,imin:imax,jmin:jmax]\n",
    "e2t_base = np.array(mask.variables['e2t'])[0,imin:imax,jmin:jmax]\n",
    "e3t      = np.array(mask.variables['e3t_0'])[0,:,imin:imax,jmin:jmax]"
   ]
  },
  {
   "cell_type": "code",
   "execution_count": 5,
   "metadata": {},
   "outputs": [],
   "source": [
    "ds           = nc.Dataset('/ocean/brogalla/GEOTRACES/data/erosion_rate-20211004.nc')\n",
    "erosion_rate = np.array(ds.variables['er_rate'])[imin:imax,jmin:jmax]"
   ]
  },
  {
   "cell_type": "markdown",
   "metadata": {},
   "source": [
    "##### Calculations"
   ]
  },
  {
   "cell_type": "code",
   "execution_count": 6,
   "metadata": {},
   "outputs": [],
   "source": [
    "erosion_rate_m = np.ma.masked_where((tmask[0,0,imin:imax,jmin:jmax] < 0.1), 0.75*erosion_rate)\n",
    "# 0.75 comes from resus_cst parameter in namelist_mn.constants"
   ]
  },
  {
   "cell_type": "code",
   "execution_count": 7,
   "metadata": {},
   "outputs": [
    {
     "name": "stdout",
     "output_type": "stream",
     "text": [
      "Everywhere in domain ------\n",
      "Maximum sediment resuspension rate: 2808.02 g/m2/year\n",
      "Minimum sediment resuspension rate: 0.00 g/m2/year\n",
      "Average sediment resuspension rate: 94.97 g/m2/year\n"
     ]
    }
   ],
   "source": [
    "print('Everywhere in domain ------')\n",
    "print(f'Maximum sediment resuspension rate: {np.ma.amax(erosion_rate_m)*1e3*3600*24*365:.2f} g/m2/year')\n",
    "print(f'Minimum sediment resuspension rate: {np.ma.amin(erosion_rate_m)*1e3*3600*24*365:.2f} g/m2/year')\n",
    "print(f'Average sediment resuspension rate: {np.ma.mean(erosion_rate_m)*1e3*3600*24*365:.2f} g/m2/year')"
   ]
  },
  {
   "cell_type": "code",
   "execution_count": null,
   "metadata": {},
   "outputs": [],
   "source": []
  }
 ],
 "metadata": {
  "kernelspec": {
   "display_name": "Python 3",
   "language": "python",
   "name": "python3"
  },
  "language_info": {
   "codemirror_mode": {
    "name": "ipython",
    "version": 3
   },
   "file_extension": ".py",
   "mimetype": "text/x-python",
   "name": "python",
   "nbconvert_exporter": "python",
   "pygments_lexer": "ipython3",
   "version": "3.6.11"
  }
 },
 "nbformat": 4,
 "nbformat_minor": 4
}
