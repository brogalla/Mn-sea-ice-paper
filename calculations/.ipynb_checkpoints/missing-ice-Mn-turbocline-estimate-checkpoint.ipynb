{
 "cells": [
  {
   "cell_type": "markdown",
   "metadata": {},
   "source": [
    "#### Estimate the amount of missing sediment input in Canada Basin using the turbocline depth"
   ]
  },
  {
   "cell_type": "code",
   "execution_count": 1,
   "metadata": {},
   "outputs": [],
   "source": [
    "import numpy as np\n",
    "import netCDF4 as nc\n",
    "import glob"
   ]
  },
  {
   "cell_type": "markdown",
   "metadata": {},
   "source": [
    "##### Parameters"
   ]
  },
  {
   "cell_type": "code",
   "execution_count": 2,
   "metadata": {},
   "outputs": [],
   "source": [
    "imin, imax = 1479, 2179\n",
    "jmin, jmax = 159, 799\n",
    "isize, jsize = imax-imin, jmax-jmin"
   ]
  },
  {
   "cell_type": "markdown",
   "metadata": {},
   "source": [
    "###### Load files"
   ]
  },
  {
   "cell_type": "code",
   "execution_count": 3,
   "metadata": {},
   "outputs": [],
   "source": [
    "mask  = nc.Dataset('/ocean/brogalla/GEOTRACES/data/ANHA12/ANHA12_mesh1.nc')\n",
    "tmask = np.array(mask.variables['tmask'])"
   ]
  },
  {
   "cell_type": "code",
   "execution_count": 5,
   "metadata": {},
   "outputs": [],
   "source": [
    "# ANHA12 dynamics fields accessible upon request via http://knossos.eas.ualberta.ca/anha/anhatable.php\n",
    "file_list = np.sort(glob.glob('/data/brogalla/ANHA12/ANHA12-EXH006_5d_gridT_y2015*'))"
   ]
  },
  {
   "cell_type": "markdown",
   "metadata": {},
   "source": [
    "##### Calculations"
   ]
  },
  {
   "cell_type": "code",
   "execution_count": 6,
   "metadata": {},
   "outputs": [],
   "source": [
    "# Find indices to separate out Canada Basin:\n",
    "\n",
    "x_ind = np.arange(1621, 2100, 1)\n",
    "y_ind = (-7/8)*x_ind + 1517 + 700\n",
    "\n",
    "CB_indx = []\n",
    "CB_indy = []\n",
    "\n",
    "for index in range(0,len(x_ind)):\n",
    "    CB_x = np.arange(x_ind[index],2179,1)\n",
    "    CB_y = np.ones(CB_x.shape)*y_ind[index]\n",
    "    \n",
    "    CB_indx = np.append(CB_x, CB_indx)\n",
    "    CB_indy = np.append(CB_y, CB_indy)"
   ]
  },
  {
   "cell_type": "code",
   "execution_count": 7,
   "metadata": {},
   "outputs": [],
   "source": [
    "# Separate Canada Basin:\n",
    "mask_CB  = np.zeros((isize,jsize))\n",
    "for i, j in zip(CB_indx, CB_indy):\n",
    "    mask_CB[int(i-imin),int(j-jmin)]  = 1\n",
    "    \n",
    "mask_CB[150:-1 ,-8:-1] = 1"
   ]
  },
  {
   "cell_type": "code",
   "execution_count": 8,
   "metadata": {},
   "outputs": [],
   "source": [
    "turbo_maxs = np.zeros((len(file_list),1))\n",
    "turbo_mins = np.zeros((len(file_list),1))\n",
    "turbo_aves = np.zeros((len(file_list),1))\n",
    "\n",
    "for i, file in enumerate(file_list):\n",
    "    ds = nc.Dataset(file)\n",
    "    \n",
    "    # Load turbocline depth variable and mask land values\n",
    "    turbo   = np.array(ds.variables['sohmld'])[0,imin:imax,jmin:jmax]\n",
    "    turbo_m = np.ma.masked_where((tmask[0,0,imin:imax,jmin:jmax] < 0.1) & (mask_CB==0), turbo)\n",
    "    \n",
    "    turbo_maxs[i] = np.ma.amax(turbo_m)\n",
    "    turbo_mins[i] = np.ma.amin(turbo_m[turbo_m > 0]) # don't want to bias by zero\n",
    "    turbo_aves[i] = np.ma.mean(turbo_m)"
   ]
  },
  {
   "cell_type": "code",
   "execution_count": 10,
   "metadata": {},
   "outputs": [
    {
     "name": "stdout",
     "output_type": "stream",
     "text": [
      "Maximum turbocline depth seen in 2015: 170.29\n",
      "Minimum turbocline depth seen in 2015: 10.00\n",
      "Average turbocline depth seen in 2015: 21.45\n"
     ]
    }
   ],
   "source": [
    "print(f'Maximum turbocline depth seen in 2015: {np.amax(turbo_maxs):.2f}')\n",
    "print(f'Minimum turbocline depth seen in 2015: {np.amin(turbo_mins):.2f}')\n",
    "print(f'Average turbocline depth seen in 2015: {np.average(turbo_aves):.2f}')"
   ]
  },
  {
   "cell_type": "markdown",
   "metadata": {},
   "source": [
    "Now, to calculate the missing contribution in grams of sediment per meter squared:"
   ]
  },
  {
   "cell_type": "code",
   "execution_count": 12,
   "metadata": {},
   "outputs": [],
   "source": [
    "turbo_max = np.amax(turbo_maxs)\n",
    "turbo_min = np.amin(turbo_mins)\n",
    "turbo_ave = np.average(turbo_aves)"
   ]
  },
  {
   "cell_type": "code",
   "execution_count": 13,
   "metadata": {},
   "outputs": [],
   "source": [
    "# missing Mn (nM) * molar mass Mn * L --> m3 * kg of sed --> g of sed * turbocline depth  / (Mn frac in sediments * solubility)\n",
    "max_missing = (4e-9*54.938*1e3*1e3*turbo_max)/(0.270*0.65)\n",
    "min_missing = (4e-9*54.938*1e3*1e3*turbo_min)/(0.270*0.65)\n",
    "ave_missing = (4e-9*54.938*1e3*1e3*turbo_ave)/(0.270*0.65)"
   ]
  },
  {
   "cell_type": "code",
   "execution_count": 14,
   "metadata": {},
   "outputs": [
    {
     "name": "stdout",
     "output_type": "stream",
     "text": [
      "Maximum missing in 2015: 213.23 g/m2\n",
      "Minimum missing in 2015: 12.52 g/m2\n",
      "Average missing in 2015: 26.86 g/m2\n"
     ]
    }
   ],
   "source": [
    "print(f'Maximum missing in 2015: {max_missing:.2f} g/m2')\n",
    "print(f'Minimum missing in 2015: {min_missing:.2f} g/m2')\n",
    "print(f'Average missing in 2015: {ave_missing:.2f} g/m2')"
   ]
  },
  {
   "cell_type": "code",
   "execution_count": null,
   "metadata": {},
   "outputs": [],
   "source": []
  }
 ],
 "metadata": {
  "kernelspec": {
   "display_name": "Python 3",
   "language": "python",
   "name": "python3"
  },
  "language_info": {
   "codemirror_mode": {
    "name": "ipython",
    "version": 3
   },
   "file_extension": ".py",
   "mimetype": "text/x-python",
   "name": "python",
   "nbconvert_exporter": "python",
   "pygments_lexer": "ipython3",
   "version": "3.6.11"
  }
 },
 "nbformat": 4,
 "nbformat_minor": 4
}
