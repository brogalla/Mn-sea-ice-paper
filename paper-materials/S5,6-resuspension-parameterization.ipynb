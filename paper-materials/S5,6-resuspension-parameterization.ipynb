{
 "cells": [
  {
   "cell_type": "markdown",
   "metadata": {},
   "source": [
    "# Resuspension rate forcing field"
   ]
  },
  {
   "cell_type": "code",
   "execution_count": null,
   "metadata": {},
   "outputs": [],
   "source": [
    "import matplotlib.pyplot as plt\n",
    "import numpy as np\n",
    "import netCDF4 as nc\n",
    "import pickle\n",
    "\n",
    "%matplotlib inline"
   ]
  },
  {
   "cell_type": "markdown",
   "metadata": {},
   "source": [
    "#### Parameters:"
   ]
  },
  {
   "cell_type": "code",
   "execution_count": null,
   "metadata": {},
   "outputs": [],
   "source": [
    "# Domain dimensions\n",
    "imin, imax = 1479, 2179\n",
    "jmin, jmax = 159, 799"
   ]
  },
  {
   "cell_type": "markdown",
   "metadata": {},
   "source": [
    "#### Load files:"
   ]
  },
  {
   "cell_type": "code",
   "execution_count": null,
   "metadata": {},
   "outputs": [],
   "source": [
    "# ANHA12 grid\n",
    "mesh       = nc.Dataset('/ocean/brogalla/GEOTRACES/data/ANHA12/ANHA12_mesh1.nc')\n",
    "mesh_lon   = np.array(mesh.variables['nav_lon'])\n",
    "mesh_lat   = np.array(mesh.variables['nav_lat'])\n",
    "mesh_bathy = np.array(mesh.variables['hdept'][0])\n",
    "\n",
    "cond2      = (mesh_bathy > 0.1)\n",
    "bathy_masked = np.ma.masked_where(cond2, mesh_bathy)"
   ]
  },
  {
   "cell_type": "markdown",
   "metadata": {},
   "source": [
    "Load forcing file:"
   ]
  },
  {
   "cell_type": "code",
   "execution_count": null,
   "metadata": {},
   "outputs": [],
   "source": [
    "# Created from notebook: /forcing/sediment-resuspension---parameterization.ipynb\n",
    "tff = nc.Dataset('/ocean/brogalla/GEOTRACES/data/erosion_rate-20211004.nc')\n",
    "erosion_rate = np.array(tff.variables['er_rate'])\n",
    "log_erosion_rate = np.log10(erosion_rate)"
   ]
  },
  {
   "cell_type": "markdown",
   "metadata": {},
   "source": [
    "#### Figures:"
   ]
  },
  {
   "cell_type": "code",
   "execution_count": null,
   "metadata": {},
   "outputs": [],
   "source": [
    "fig, ax1, proj1= pickle.load(open('/ocean/brogalla/GEOTRACES/pickles/mn-reference.pickle','rb'))\n",
    "\n",
    "# Sub-domain map: ---------------------------------------------------------------------------\n",
    "x_sub, y_sub  = proj1(mesh_lon, mesh_lat) \n",
    "\n",
    "# tidal stress:\n",
    "CB = proj1.contourf(x_sub, y_sub, log_erosion_rate, vmin=-10, vmax=-6.5, \\\n",
    "                    levels=np.arange(-10,-6.5,0.25), extend='both')\n",
    "\n",
    "cbaxes = fig.add_axes([0.13, 0.20, 0.03, 0.25])\n",
    "CBar = plt.colorbar(CB, cax=cbaxes, ticks=np.arange(-10,-6.5,0.5))\n",
    "CBar.ax.tick_params(labelsize=5.5)\n",
    "CBar.set_label('Log. of erosion rate', fontsize=5.5)\n",
    "\n",
    "fig.savefig('/ocean/brogalla/GEOTRACES/figures/paper1-202204/S5-erosion-rate.jpg', bbox_inches='tight', dpi=300)\n",
    "fig.savefig('/ocean/brogalla/GEOTRACES/figures/paper1-202204/S5-erosion-rate.svg', bbox_inches='tight', dpi=300, \\\n",
    "            format='svg')"
   ]
  },
  {
   "cell_type": "code",
   "execution_count": null,
   "metadata": {},
   "outputs": [],
   "source": [
    "print('Units [g/m2/yr]') #kg/m2/s --> g/m2/s --> g/m2/year\n",
    "print('Average erosion rate in domain: ', np.average(erosion_rate[imin:imax, jmin:jmax])*1000*365*24*3600)\n",
    "print('Maximum erosion rate in domain: ', np.amax(erosion_rate[imin:imax, jmin:jmax])*1000*365*24*3600)\n",
    "print('Minimum erosion rate in domain: ', np.amin(erosion_rate[imin:imax, jmin:jmax])*1000*365*24*3600)"
   ]
  },
  {
   "cell_type": "markdown",
   "metadata": {},
   "source": [
    "### Solubility figure:"
   ]
  },
  {
   "cell_type": "code",
   "execution_count": null,
   "metadata": {},
   "outputs": [],
   "source": [
    "gamma   = 0.065\n",
    "alpha_0  = 0.65\n",
    "alpha_0_C = 0.3e-6*9*0.8*0.055/gamma # alpha_0 times tuning constant\n",
    "resus_cst = 0.75\n",
    "\n",
    "tide           = np.linspace(0,1,100)\n",
    "changing_solubility_resus_rate = resus_cst*alpha_0_C*gamma*(1-np.exp(-(tide)**2/gamma))*3600*24*365*1e3\n",
    "constant_solubility_resus_rate = resus_cst*alpha_0_C*(tide**2)*3600*24*365*1e3"
   ]
  },
  {
   "cell_type": "code",
   "execution_count": null,
   "metadata": {},
   "outputs": [],
   "source": [
    "print(f'total constant is {alpha_0_C*gamma*resus_cst}, which is C*alpha_0*gamma')\n",
    "print(f'so, C*gamma is {alpha_0_C*gamma*resus_cst/alpha_0:.2e} with alpha_0 is 0.65')\n",
    "print(f'gamma is {gamma}, so C is {alpha_0_C*resus_cst/alpha_0:.2e}')\n",
    "\n",
    "C=alpha_0_C*resus_cst/alpha_0"
   ]
  },
  {
   "cell_type": "code",
   "execution_count": null,
   "metadata": {},
   "outputs": [],
   "source": [
    "fig, ax = plt.subplots(1,1, figsize=(4.5, 3.74), dpi=300)\n",
    "\n",
    "ax.plot(tide, changing_solubility_resus_rate, '-k', label=r'$\\alpha = \\alpha_0\\frac{1-e^{-v^2}}{v^2}$')\n",
    "ax.plot(tide, constant_solubility_resus_rate, '--k', label=r'$\\alpha = \\alpha_0$')\n",
    "ax.set_xlim([0, 0.3])\n",
    "ax.set_ylim([0, 4e3])\n",
    "ax.set_xlabel('Baratropic tidal speed [m/s]', fontsize=6)\n",
    "ax.set_ylabel('Sediment resuspension rate [g/m2/yr]', fontsize=6)\n",
    "ax.tick_params(axis='both', which='major', labelsize=6)\n",
    "\n",
    "ax.legend(fontsize=6, frameon=False)\n",
    "fig.savefig('/ocean/brogalla/GEOTRACES/figures/paper1-202204/S6-tail-off.jpg', bbox_inches='tight', dpi=300)\n",
    "fig.savefig('/ocean/brogalla/GEOTRACES/figures/paper1-202204/S6-tail-off.svg', bbox_inches='tight', dpi=300, format='svg')"
   ]
  },
  {
   "cell_type": "code",
   "execution_count": null,
   "metadata": {},
   "outputs": [],
   "source": []
  }
 ],
 "metadata": {
  "kernelspec": {
   "display_name": "Python 3",
   "language": "python",
   "name": "python3"
  },
  "language_info": {
   "codemirror_mode": {
    "name": "ipython",
    "version": 3
   },
   "file_extension": ".py",
   "mimetype": "text/x-python",
   "name": "python",
   "nbconvert_exporter": "python",
   "pygments_lexer": "ipython3",
   "version": "3.6.11"
  }
 },
 "nbformat": 4,
 "nbformat_minor": 4
}
