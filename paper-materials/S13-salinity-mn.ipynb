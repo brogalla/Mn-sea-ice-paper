{
 "cells": [
  {
   "cell_type": "markdown",
   "metadata": {},
   "source": [
    "# Mn-Salinity relationship\n"
   ]
  },
  {
   "cell_type": "code",
   "execution_count": null,
   "metadata": {},
   "outputs": [],
   "source": [
    "import numpy as np\n",
    "import matplotlib.pyplot as plt\n",
    "import seaborn as sns\n",
    "import netCDF4 as nc\n",
    "import pandas as pd \n",
    "import glob\n",
    "import warnings\n",
    "warnings.filterwarnings('ignore')\n",
    "import datetime\n",
    "import xarray as xr\n",
    "\n",
    "%matplotlib inline"
   ]
  },
  {
   "cell_type": "markdown",
   "metadata": {},
   "source": [
    "#### Parameters:"
   ]
  },
  {
   "cell_type": "code",
   "execution_count": null,
   "metadata": {},
   "outputs": [],
   "source": [
    "# domain dimensions:\n",
    "imin, imax = 1479, 2179\n",
    "jmin, jmax = 159, 799\n",
    "isize = imax - imin\n",
    "jsize = jmax - jmin\n",
    "\n",
    "year  = 2015\n",
    "month = 8\n",
    "# Mn model results location and ANHA12 salinity (http://knossos.eas.ualberta.ca/anha/anhatable.php)\n",
    "folder_salinity      = f'/data/brogalla/ANHA12/salinity_ave/'\n",
    "folder_ref_2009      = f'/data/brogalla/run_storage/Mn-reference-202110/ANHA12_ref-2009_20211012/'\n",
    "folder_ref_2015      = f'/data/brogalla/run_storage/Mn-reference-202110/ANHA12_ref-2015_20211012/'\n",
    "folder_cleanice_2009 = f'/data/brogalla/run_storage/Mn-clean-ice-202110/ANHA12_clean-ice-2009_20211023/'\n",
    "folder_cleanice_2015 = f'/data/brogalla/run_storage/Mn-clean-ice-202110/ANHA12_clean-ice-2015_20211023/'\n",
    "\n",
    "# colours:\n",
    "obs_CB     = '#b23333'\n",
    "obs_CAA    = '#d89999'\n",
    "mod_CB     = '#006f99'\n",
    "mod_CAA    = '#99c5d6'\n",
    "land_color = \"#8b7765\""
   ]
  },
  {
   "cell_type": "markdown",
   "metadata": {},
   "source": [
    "#### Load files:"
   ]
  },
  {
   "cell_type": "code",
   "execution_count": null,
   "metadata": {},
   "outputs": [],
   "source": [
    "# ANHA12 grid:\n",
    "mesh       = nc.Dataset('/ocean/brogalla/GEOTRACES/data/ANHA12/ANHA12_mesh1.nc')\n",
    "mesh_lon   = np.array(mesh.variables['nav_lon'])\n",
    "mesh_lat   = np.array(mesh.variables['nav_lat'])\n",
    "mesh_bathy = np.array(mesh.variables['hdept'][0])\n",
    "tmask      = np.array(mesh.variables['tmask'][0,:,:,:])\n",
    "Z_masked   = np.ma.masked_where((tmask > 0.1), tmask) "
   ]
  },
  {
   "cell_type": "markdown",
   "metadata": {},
   "source": [
    "Model results"
   ]
  },
  {
   "cell_type": "code",
   "execution_count": null,
   "metadata": {},
   "outputs": [],
   "source": [
    "# Mn model results format:\n",
    "c   = nc.Dataset(f'{folder_ref_2009}ANHA12_EXH006_2009_monthly.nc', 'r')\n",
    "lat_model      = np.array(c.variables['nav_lat'])\n",
    "lon_model      = np.array(c.variables['nav_lon'])\n",
    "depths_model   = np.array(c.variables['deptht'])"
   ]
  },
  {
   "cell_type": "markdown",
   "metadata": {},
   "source": [
    "Observations"
   ]
  },
  {
   "cell_type": "code",
   "execution_count": null,
   "metadata": {},
   "outputs": [],
   "source": [
    "# Concentration of dMn in 2015 from Colombo et al., 2020 \n",
    "Manuel = pd.read_csv('/ocean/brogalla/GEOTRACES/data/DMn_nmolL-1_BR-edited.csv')\n",
    "Manuel_station_names = Manuel['Station'].astype('string')\n",
    "Manuel_depths        = Manuel['Depth'].astype('float').values\n",
    "Manuel_dMn_nmolkg    = Manuel['nmol kg-1'].astype('float').values\n",
    "Manuel_dMn_nmolL     = Manuel['nmol L-1'].astype('float')\n",
    "Manuel_salinity      = Manuel['Salinity'].astype('float')\n",
    "Manuel_density       = Manuel_dMn_nmolL / Manuel_dMn_nmolkg\n",
    "\n",
    "# Fit of Mn:salinity from river observations in Colombo et al. 2019:\n",
    "S_obs       = np.arange(0, 40, 1)\n",
    "dmn_obs_CB  = -0.601*S_obs + 21.9 \n",
    "dmn_obs_CAA = -1.26*S_obs + 45.2  "
   ]
  },
  {
   "cell_type": "code",
   "execution_count": null,
   "metadata": {},
   "outputs": [],
   "source": [
    "# GEOTRACES stations information from Colombo et al., 2020\n",
    "Pb_data   = pd.read_csv('/ocean/brogalla/GEOTRACES/data/Pb-paper-data.csv')\n",
    "stn_names = Pb_data['Station names'].dropna().astype('str')\n",
    "lons      = Pb_data['station lon'].astype('float').dropna().values\n",
    "lats      = Pb_data['Station lat'].astype('float').dropna().values"
   ]
  },
  {
   "cell_type": "code",
   "execution_count": null,
   "metadata": {},
   "outputs": [],
   "source": [
    "# Concentration of dMn in the Beaufort Sea in 2009.\n",
    "### Thesis doesn't have a list of lats and lons of station locations --- Jeffrey Charter's thesis does (2012)\n",
    "IPY = pd.read_csv('/ocean/brogalla/GEOTRACES/data/Nari_Sim_dMn_data.csv')\n",
    "IPY_names_full = IPY['Station name'].astype('string').values\n",
    "IPY_depths     = IPY['Depth [m]'].astype('float').values\n",
    "IPY_dMn_nmolkg = IPY['DMn [ nmol/kg]'].astype('float').values\n",
    "IPY_lons_full  = -1*IPY['Longitude'].astype('float').values\n",
    "IPY_lats_full  = IPY['Latitude'].astype('float').values\n",
    "IPY_salinity   = IPY['Salinity [psu]'].astype('float').values\n",
    "\n",
    "# Unique entries (maintaining order)\n",
    "IPY_lons  = np.array(list(dict.fromkeys(IPY_lons_full)))\n",
    "IPY_lats  = np.array(list(dict.fromkeys(IPY_lats_full)))\n",
    "IPY_names = np.array(list(dict.fromkeys(IPY_names_full)))\n",
    "\n",
    "# Convert nmol / kg to nmol / L\n",
    "IPY_density             = IPY['Density'].astype('float').values / 1000 # kg / L\n",
    "IPY_depths_cruise_sheet = IPY['Depth [m] cruise sheet'].astype('float').values\n",
    "IPY_dMn_nmolL = IPY_dMn_nmolkg * IPY_density"
   ]
  },
  {
   "cell_type": "markdown",
   "metadata": {},
   "source": [
    "#### Define functions:"
   ]
  },
  {
   "cell_type": "code",
   "execution_count": null,
   "metadata": {},
   "outputs": [],
   "source": [
    "def calculate_average_2009(folder_ref_2009, folder_salinity):\n",
    "    # Calculate average over data files during cruise period:\n",
    "    #-------------------------------------------------------------------------------------------------------------------\n",
    "    # 2009 GEOTRACES: 29 August - 8 September\n",
    "    dmn_files_2009  = np.sort(glob.glob(f'{folder_ref_2009}ANHA12_EXH006_5d_20090101_20091231*'))\n",
    "    sal_files_2009  = np.sort(glob.glob(f'{folder_salinity}ANHA12-EXH006_5d_gridT_y2009m*'))\n",
    "    start_date_2009 = datetime.datetime.strptime('2009-08-29', '%Y-%m-%d')\n",
    "    end_date_2009   = datetime.datetime.strptime('2009-09-08', '%Y-%m-%d')\n",
    "\n",
    "    #----Manganese---------------\n",
    "    dmn_file_list_2009 = []\n",
    "    for file in dmn_files_2009:\n",
    "        if (datetime.datetime.strptime(file.split('/')[-1][42:50],'%Y%m%d') >= start_date_2009) & \\\n",
    "                (datetime.datetime.strptime(file.split('/')[-1][51:59],'%Y%m%d') < end_date_2009):\n",
    "            dmn_file_list_2009.append(file)\n",
    "    dmn_2009 = np.zeros((50,700,640))\n",
    "    days = 0\n",
    "    for file in dmn_file_list_2009:\n",
    "        ds = xr.open_dataset(f\"{file}\")\n",
    "        dmn_2009 = dmn_2009 + ds['dissolmn'].values[0,:,:,:]\n",
    "        \n",
    "    mn_dis_ref_2009 = dmn_2009 / len(dmn_file_list_2009)\n",
    "    \n",
    "    #----Salinity---------------\n",
    "    sal_file_list_2009 = []\n",
    "    for file in sal_files_2009:\n",
    "        if (datetime.datetime.strptime(file.split('/')[-1][24:34],'%Ym%md%d') >= start_date_2009) & \\\n",
    "                (datetime.datetime.strptime(file.split('/')[-1][24:34],'%Ym%md%d')+datetime.timedelta(days=5) < end_date_2009):\n",
    "            sal_file_list_2009.append(file)\n",
    "    sal_2009 = np.zeros((50,700,640))\n",
    "    days = 0\n",
    "    for file in sal_file_list_2009:\n",
    "        ds = xr.open_dataset(f\"{file}\")\n",
    "        sal_2009 = sal_2009 + ds['vosaline'].values[0,:,imin:imax,jmin:jmax]\n",
    "        \n",
    "    sal_ref_2009 = sal_2009 / len(sal_file_list_2009)\n",
    "    \n",
    "    return mn_dis_ref_2009, sal_ref_2009"
   ]
  },
  {
   "cell_type": "code",
   "execution_count": null,
   "metadata": {},
   "outputs": [],
   "source": [
    "def calculate_average_2015(folder_ref_2015, folder_salinity):\n",
    "    # 2015 GEOTRACES: 9 August - 15 September\n",
    "    dmn_files_2015  = np.sort(glob.glob(f'{folder_ref_2015}ANHA12_EXH006_5d_20150101_20151231*'))\n",
    "    sal_files_2015  = np.sort(glob.glob(f'{folder_salinity}ANHA12-EXH006_5d_gridT_y2015m*'))\n",
    "    start_date_2015 = datetime.datetime.strptime(f'2015-08-09', '%Y-%m-%d')\n",
    "    end_date_2015   = datetime.datetime.strptime(f'2015-09-15', '%Y-%m-%d')\n",
    "    \n",
    "    #----Manganese---------------\n",
    "    dmn_file_list_2015 = []\n",
    "    for file in dmn_files_2015:\n",
    "        if (datetime.datetime.strptime(file.split('/')[-1][42:50],'%Y%m%d') >= start_date_2015) & \\\n",
    "                    (datetime.datetime.strptime(file.split('/')[-1][51:59],'%Y%m%d') < end_date_2015):\n",
    "            dmn_file_list_2015.append(file)\n",
    "\n",
    "    dmn_2015 = np.zeros((50,700,640))\n",
    "    days = 0\n",
    "    for file in dmn_file_list_2015:\n",
    "        ds = xr.open_dataset(f\"{file}\")\n",
    "        dmn_2015 = dmn_2015 + ds['dissolmn'].values[0,:,:,:]\n",
    "\n",
    "    mn_dis_ref_2015 = dmn_2015 / len(dmn_file_list_2015)\n",
    "    \n",
    "    #----Salinity---------------\n",
    "    sal_file_list_2015 = []\n",
    "    for file in sal_files_2015:\n",
    "        if (datetime.datetime.strptime(file.split('/')[-1][24:34],'%Ym%md%d') >= start_date_2015) & \\\n",
    "                (datetime.datetime.strptime(file.split('/')[-1][24:34],'%Ym%md%d')+datetime.timedelta(days=5) < end_date_2015):\n",
    "            sal_file_list_2015.append(file)\n",
    "    \n",
    "    sal_2015 = np.zeros((50,700,640))\n",
    "    days = 0\n",
    "    for file in sal_file_list_2015:\n",
    "        ds = xr.open_dataset(f\"{file}\")\n",
    "        sal_2015 = sal_2015 + ds['vosaline'].values[0,:,imin:imax,jmin:jmax]    \n",
    "        \n",
    "    sal_ref_2015 = sal_2015 / len(sal_file_list_2015)\n",
    "    \n",
    "    return mn_dis_ref_2015, sal_ref_2015"
   ]
  },
  {
   "cell_type": "code",
   "execution_count": null,
   "metadata": {},
   "outputs": [],
   "source": [
    "def mask_data(mask_ini, S_model, mn_model):\n",
    "    # Apply a spatial mask to input data\n",
    "    \n",
    "    z_start = 0 #5:17 \n",
    "    z_end   = 50 # Observation relationships are only for upper 40 m and start at 5 m\n",
    "    mask    = np.tile(mask_ini, (z_end-z_start,1,1))\n",
    "    S  = np.ma.masked_where(mask==0 , S_model[z_start:z_end,:,:])\n",
    "    mn = np.ma.masked_where(mask==0 , mn_model[z_start:z_end,:,:]*10**9)\n",
    "    \n",
    "    S_plot  = S[:,:,:].filled(fill_value=np.nan).flatten()\n",
    "    mn_plot = mn[:,:,:].filled(fill_value=np.nan).flatten()\n",
    "    \n",
    "    S_plot[S_plot < 0.1]   = np.nan\n",
    "    mn_plot[mn_plot < 0.1] = np.nan\n",
    "\n",
    "    return S_plot, mn_plot"
   ]
  },
  {
   "cell_type": "code",
   "execution_count": null,
   "metadata": {},
   "outputs": [],
   "source": [
    "def plot_mnsal(S_CAA, mn_CAA, S_CB, mn_CB, reso=200, title='', savefig=False):\n",
    "    \n",
    "    fig, ax = plt.subplots(1,3, figsize=(4.5*2,3.74*0.7), dpi=300)\n",
    "    st = sns.axes_style(\"whitegrid\")\n",
    "\n",
    "    for axis in ax.ravel():\n",
    "        axis.set(xlim=(22, 36), ylim=(0, 20))\n",
    "        axis.tick_params(axis='both', labelsize=7.5)\n",
    "\n",
    "    with st:  \n",
    "        CAA_color='#e58203' # '#e5ae03'\n",
    "        level_step = 0.1\n",
    "        linewidth_fit = 2.7\n",
    "        sns.kdeplot(x=S_CAA[::reso], y=mn_CAA[::reso], levels=np.arange(level_step,1+level_step,level_step), \\\n",
    "                    fill=True, ax=ax[0], cmap=\"YlOrBr_r\")\n",
    "        sns.kdeplot(x=S_CB[::reso], y=mn_CB[::reso], levels=np.arange(level_step,1+level_step,level_step), \\\n",
    "                    fill=True, ax=ax[1], cmap='Blues_r')\n",
    "        sns.kdeplot(x=S_CB[::reso], y=mn_CB[::reso], levels=np.arange(level_step,1+level_step,level_step), \\\n",
    "                    fill=True, ax=ax[2], cmap='Blues_r')\n",
    "\n",
    "        # CAA\n",
    "        sns.regplot(Manuel_salinity[Manuel_station_names.str.find('CAA')!=-1], \\\n",
    "                    Manuel_dMn_nmolL[Manuel_station_names.str.find('CAA')!=-1], \\\n",
    "                    dropna=True, ci=None, \\\n",
    "                    scatter_kws={\"s\": 15, 'color':'w', 'edgecolor':CAA_color, 'linewidths':1.0, 'alpha':1.0},\\\n",
    "                    line_kws={\"linewidth\":linewidth_fit, 'color':CAA_color, 'linestyle':'--'}, truncate=False, ax=ax[0], \\\n",
    "                    label='2015 observations')\n",
    "\n",
    "        # Canada Basin\n",
    "        sns.regplot(Manuel_salinity[Manuel_station_names.str.find('CB')!=-1], \\\n",
    "                    Manuel_dMn_nmolL[Manuel_station_names.str.find('CB')!=-1], \\\n",
    "                    dropna=True, ci=None, \\\n",
    "                    scatter_kws={\"s\": 15, 'color':'w', 'edgecolor':'#6f818d', 'linewidths':1.0, 'alpha':1.0},\\\n",
    "                    line_kws={\"linewidth\":0}, truncate=False, ax=ax[1], \\\n",
    "                    label='2015 observations')\n",
    "\n",
    "        # IPY data\n",
    "        sns.regplot(IPY_salinity, IPY_dMn_nmolL, \\\n",
    "                    dropna=True, ci=None, \\\n",
    "                    scatter_kws={\"s\": 15, 'color':'w', 'edgecolor':'#39454d', 'linewidths':1.0, 'alpha':1.0},\\\n",
    "                    line_kws={\"linewidth\":0}, truncate=False, ax=ax[1], \\\n",
    "                    label='2009 observations')\n",
    "\n",
    "\n",
    "        # Observations combined fit\n",
    "        sns.regplot(S_CB_obs_combined, mn_CB_obs_combined, \\\n",
    "                    dropna=True, ci=None, \\\n",
    "                    scatter_kws={\"s\": 0}, line_kws={\"linewidth\":linewidth_fit, 'color':'#607381', 'linestyle':'--'}, \\\n",
    "                    truncate=False, ax=ax[1])\n",
    "\n",
    "        # Model data\n",
    "        sns.regplot(S_CAA[::reso], mn_CAA[::reso], dropna=True, ci=None, \\\n",
    "                    line_kws={\"linewidth\":linewidth_fit, 'color':'w'}, scatter_kws={\"s\": 0.0}, ax=ax[0])\n",
    "        sns.regplot(S_CAA[::reso], mn_CAA[::reso], dropna=True, ci=None, \\\n",
    "                    line_kws={\"linewidth\":2.0, 'color':CAA_color}, scatter_kws={\"s\": 0.0}, ax=ax[0])\n",
    "        sns.regplot(S_CB[::reso] , mn_CB[::reso], dropna=True, ci=None,  \\\n",
    "                    line_kws={\"linewidth\":linewidth_fit, 'color':'w'}, scatter_kws={\"s\": 0.0}, ax=ax[1])\n",
    "        sns.regplot(S_CB[::reso] , mn_CB[::reso], dropna=True, ci=None, \\\n",
    "                    line_kws={\"linewidth\":2.0, 'color':'#607381'}, scatter_kws={\"s\": 0.0}, ax=ax[1])\n",
    "\n",
    "        # Legend entries:\n",
    "        sns.lineplot([0,0],[0,0], lw=2, c=CAA_color, ax=ax[0], label='Model fit')\n",
    "        sns.lineplot([0,0],[0,0], lw=2, c=CAA_color, ax=ax[0], label='Observations fit')\n",
    "        ax[0].lines[4].set_linestyle(\"--\")\n",
    "        sns.lineplot([0,0],[0,0], lw=2, c='#607381', ax=ax[1], label='Model fit')\n",
    "        sns.lineplot([0,0],[0,0], lw=2, c='#607381', ax=ax[1], label='Observations fit')\n",
    "        ax[1].lines[6].set_linestyle(\"--\")\n",
    "\n",
    "        ax[0].legend(loc=(0.35,0.76), frameon=False, fontsize=7)\n",
    "        ax[1].legend(loc=(0.35,0.68), frameon=False, fontsize=7)\n",
    "        ax[0].set_xlabel('Salinity [psu]', fontsize=8)\n",
    "        ax[1].set_xlabel('Salinity [psu]', fontsize=8)\n",
    "        ax[2].set_xlabel('Salinity [psu]', fontsize=8)\n",
    "        ax[0].set_ylabel('Dissolved Mn [nM]', fontsize=8)\n",
    "        ax[1].set_ylabel('')\n",
    "        ax[2].set_ylabel('')\n",
    "\n",
    "        ax[0].set_title('CAA', fontsize=8)\n",
    "        ax[1].set_title('Canada Basin', fontsize=8)\n",
    "        ax[2].set_title('Canada Basin', fontsize=8)\n",
    "\n",
    "    fig.text(0.07, 0.94, 'a)', fontsize=9)\n",
    "    fig.text(0.35, 0.94, 'b)', fontsize=9)\n",
    "    fig.text(0.65, 0.94, 'c)', fontsize=9)\n",
    "#     fig.text(0.07, 0.94, 'd)', fontsize=9)\n",
    "#     fig.text(0.35, 0.94, 'e)', fontsize=9)\n",
    "#     fig.text(0.65, 0.94, 'f)', fontsize=9)\n",
    "    \n",
    "    if savefig:\n",
    "        fig.savefig('/ocean/brogalla/GEOTRACES/figures/paper1-202110/S9-model-mn-salinity-relationship_reference.png', \\\n",
    "               bbox_inches='tight', dpi=300)\n",
    "        fig.savefig('/ocean/brogalla/GEOTRACES/figures/paper1-202110/S9-model-mn-salinity-relationship_reference.svg', \\\n",
    "                       format='svg', bbox_inches='tight', dpi=300)\n",
    "#         fig.savefig('/ocean/brogalla/GEOTRACES/figures/paper1-202110/S9-model-mn-salinity-relationship_clean-ice.png', \\\n",
    "#                bbox_inches='tight', dpi=300)\n",
    "#         fig.savefig('/ocean/brogalla/GEOTRACES/figures/paper1-202110/S9-model-mn-salinity-relationship_clean-ice.svg', \\\n",
    "#                        format='svg', bbox_inches='tight', dpi=300)\n",
    "    return"
   ]
  },
  {
   "cell_type": "markdown",
   "metadata": {},
   "source": [
    "Calculate average Mn concentrations during time period of interest"
   ]
  },
  {
   "cell_type": "code",
   "execution_count": null,
   "metadata": {},
   "outputs": [],
   "source": [
    "mn_ref_2009, sal_2009 = calculate_average_2009(folder_ref_2009, folder_salinity)\n",
    "mn_ref_2015, sal_2015 = calculate_average_2015(folder_ref_2015, folder_salinity)\n",
    "\n",
    "mn_cleanice_2009, sal_2009 = calculate_average_2009(folder_cleanice_2009, folder_salinity)\n",
    "mn_cleanice_2015, sal_2015 = calculate_average_2015(folder_cleanice_2015, folder_salinity)"
   ]
  },
  {
   "cell_type": "markdown",
   "metadata": {},
   "source": [
    "# Salinity:Mn relationship"
   ]
  },
  {
   "cell_type": "markdown",
   "metadata": {},
   "source": [
    "Seperate Canada Basin and CAA"
   ]
  },
  {
   "cell_type": "code",
   "execution_count": null,
   "metadata": {},
   "outputs": [],
   "source": [
    "# Canada Basin: ------\n",
    "x_ind = np.arange(1621, 2100, 1)\n",
    "y_ind = (-7/8)*x_ind + 1517 + 700\n",
    "\n",
    "CB_indx = []\n",
    "CB_indy = []\n",
    "\n",
    "for index in range(0,len(x_ind)):\n",
    "    CB_x = np.arange(x_ind[index],2179,1)\n",
    "    CB_y = np.ones(CB_x.shape)*y_ind[index]\n",
    "    \n",
    "    CB_indx = np.append(CB_x, CB_indx)\n",
    "    CB_indy = np.append(CB_y, CB_indy)\n",
    "    \n",
    "# Baffin Bay: ------\n",
    "x_ind = np.arange(1400, 1550, 1)\n",
    "y_ind = np.arange(515, 799, 1)\n",
    "\n",
    "BB_indx = []\n",
    "BB_indy = []\n",
    "for xindex in x_ind:\n",
    "    for yindex in y_ind:        \n",
    "        BB_indx = np.append(BB_indx, xindex)\n",
    "        BB_indy = np.append(BB_indy, yindex)\n",
    "        \n",
    "# Separate Canada Basin and the CAA: -------\n",
    "mask_ini_CB   = np.zeros((isize,jsize))\n",
    "mask_ini_CAA  = np.ones((isize,jsize))\n",
    "mask_ini_CBBB = np.zeros((isize,jsize))\n",
    "\n",
    "for i, j in zip(CB_indx, CB_indy):\n",
    "    mask_ini_CB[int(i-imin),int(j-jmin)]   = 1\n",
    "    mask_ini_CBBB[int(i-imin),int(j-jmin)] = 1\n",
    "    mask_ini_CAA[int(i-imin),int(j-jmin)]  = 0\n",
    "    \n",
    "for i, j in zip(BB_indx, BB_indy):\n",
    "    mask_ini_CBBB[int(i-imin),int(j-jmin)] = 1\n",
    "    mask_ini_CAA[int(i-imin),int(j-jmin)]  = 0\n",
    "    \n",
    "mask_ini_CB[150:-1 ,-8:-1]   = 1\n",
    "mask_ini_CBBB[150:-1 ,-8:-1] = 1\n",
    "mask_ini_CAA[150:-1,-8:-1] = 0"
   ]
  },
  {
   "cell_type": "markdown",
   "metadata": {},
   "source": [
    "Separate salinity and mn results based on these definitons."
   ]
  },
  {
   "cell_type": "code",
   "execution_count": null,
   "metadata": {},
   "outputs": [],
   "source": [
    "reso = 5\n",
    "ref_S_CB_2015, ref_mn_CB_2015   = mask_data(mask_ini_CBBB[::reso,::reso], sal_2015[:,::reso,::reso], mn_ref_2015[:,::reso,::reso])\n",
    "ref_S_CB_2009, ref_mn_CB_2009   = mask_data(mask_ini_CBBB[::reso,::reso], sal_2009[:,::reso,::reso], mn_ref_2009[:,::reso,::reso])\n",
    "ref_S_CAA_2015, ref_mn_CAA_2015 = mask_data(mask_ini_CAA[::reso,::reso], sal_2015[:,::reso,::reso], mn_ref_2015[:,::reso,::reso])\n",
    "\n",
    "cleanice_S_CB_2015, cleanice_mn_CB_2015   = mask_data(mask_ini_CB[::reso,::reso], sal_2015[:,::reso,::reso], \\\n",
    "                                                      mn_cleanice_2015[:,::reso,::reso])\n",
    "cleanice_S_CB_2009, cleanice_mn_CB_2009   = mask_data(mask_ini_CB[::reso,::reso], sal_2009[:,::reso,::reso], \\\n",
    "                                                      mn_cleanice_2009[:,::reso,::reso])\n",
    "cleanice_S_CAA_2015, cleanice_mn_CAA_2015 = mask_data(mask_ini_CAA[::reso,::reso], sal_2015[:,::reso,::reso], \\\n",
    "                                                      mn_cleanice_2015[:,::reso,::reso])\n",
    "\n",
    "# Combine Canada Basin 2009 and 2015 model data:\n",
    "ref_S_CB_combined       = np.append(ref_S_CB_2009, ref_S_CB_2015)\n",
    "ref_mn_CB_combined      = np.append(ref_mn_CB_2009, ref_mn_CB_2015)\n",
    "cleanice_S_CB_combined  = np.append(cleanice_S_CB_2009, cleanice_S_CB_2015)\n",
    "cleanice_mn_CB_combined = np.append(cleanice_mn_CB_2009, cleanice_mn_CB_2015)\n",
    "\n",
    "# Combine Canada Basin 2009 and 2015 observation data:\n",
    "S_CB_obs_combined  = np.append(IPY_salinity, Manuel_salinity[Manuel_station_names.str.find('CB')!=-1])\n",
    "mn_CB_obs_combined = np.append(IPY_dMn_nmolL, Manuel_dMn_nmolL[Manuel_station_names.str.find('CB')!=-1])"
   ]
  },
  {
   "cell_type": "code",
   "execution_count": null,
   "metadata": {},
   "outputs": [],
   "source": [
    "plot_mnsal(ref_S_CAA_2015, ref_mn_CAA_2015, ref_S_CB_combined, ref_mn_CB_combined, \\\n",
    "           reso=1, title='', savefig=True)"
   ]
  },
  {
   "cell_type": "code",
   "execution_count": null,
   "metadata": {},
   "outputs": [],
   "source": [
    "plot_mnsal(cleanice_S_CAA_2015, cleanice_mn_CAA_2015, cleanice_S_CB_combined, cleanice_mn_CB_combined, \\\n",
    "           reso=1, title='', savefig=True)"
   ]
  },
  {
   "cell_type": "code",
   "execution_count": null,
   "metadata": {},
   "outputs": [],
   "source": []
  }
 ],
 "metadata": {
  "kernelspec": {
   "display_name": "Python 3",
   "language": "python",
   "name": "python3"
  },
  "language_info": {
   "codemirror_mode": {
    "name": "ipython",
    "version": 3
   },
   "file_extension": ".py",
   "mimetype": "text/x-python",
   "name": "python",
   "nbconvert_exporter": "python",
   "pygments_lexer": "ipython3",
   "version": "3.6.11"
  }
 },
 "nbformat": 4,
 "nbformat_minor": 4
}
