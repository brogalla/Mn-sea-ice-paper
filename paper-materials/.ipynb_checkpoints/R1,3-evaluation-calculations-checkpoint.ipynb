{
 "cells": [
  {
   "cell_type": "markdown",
   "metadata": {},
   "source": [
    "# Calculate station profile additional mixing effect"
   ]
  },
  {
   "cell_type": "code",
   "execution_count": null,
   "metadata": {},
   "outputs": [],
   "source": [
    "import numpy as np\n",
    "import netCDF4 as nc\n",
    "import pandas as pd\n",
    "from datetime import date\n",
    "from datetime import datetime\n",
    "import xarray as xr\n",
    "import glob\n",
    "import modules.mapping_functions as mf"
   ]
  },
  {
   "cell_type": "markdown",
   "metadata": {},
   "source": [
    "#### Parameters:"
   ]
  },
  {
   "cell_type": "code",
   "execution_count": null,
   "metadata": {},
   "outputs": [],
   "source": [
    "# domain dimensions:\n",
    "imin, imax = 1479, 2179\n",
    "jmin, jmax = 159, 799\n",
    "\n",
    "# results to plot:\n",
    "folder_ref_2015      = f'/data/brogalla/run_storage/Mn-reference-202110/ANHA12_ref-2015_20211012/'\n",
    "folder_ref_2009      = f'/data/brogalla/run_storage/Mn-reference-202110/ANHA12_ref-2009_20211012/'\n",
    "\n",
    "# colours:\n",
    "c_continent    = '#ce9169'\n",
    "c_glacier      = '#36ab92'\n",
    "c_other        = '#a6a6a6'\n",
    "land_color     = \"#8b7765\"\n",
    "profile_colors = ['#e54141', '#33c7ff']"
   ]
  },
  {
   "cell_type": "markdown",
   "metadata": {},
   "source": [
    "#### Load files:"
   ]
  },
  {
   "cell_type": "code",
   "execution_count": null,
   "metadata": {},
   "outputs": [],
   "source": [
    "def calculate_average(folder_ref_2009, folder_ref_2015):\n",
    "    # Calculate average over data files during cruise period:\n",
    "    # 2009 GEOTRACES: 29 August - 8 September\n",
    "    files_2009      = np.sort(glob.glob(f'{folder_ref_2009}ANHA12_EXH006_5d_20090101_20091231*'))\n",
    "    start_date_2009 = datetime.strptime('2009-08-29', '%Y-%m-%d')\n",
    "    end_date_2009   = datetime.strptime('2009-09-08', '%Y-%m-%d')\n",
    "\n",
    "    file_list_2009 = []\n",
    "    for file in files_2009:\n",
    "        if (datetime.strptime(file.split('/')[-1][42:50],'%Y%m%d') >= start_date_2009) & \\\n",
    "                (datetime.strptime(file.split('/')[-1][51:59],'%Y%m%d') < end_date_2009):\n",
    "            file_list_2009.append(file)\n",
    "    dmn_2009 = np.zeros((50,700,640))\n",
    "    days = 0\n",
    "    for file in file_list_2009:\n",
    "        ds = xr.open_dataset(f\"{file}\")\n",
    "        dmn_2009 = dmn_2009 + ds['dissolmn'].values[0,:,:,:]\n",
    "\n",
    "    mn_dis_ref_2009 = dmn_2009 / len(file_list_2009)\n",
    "\n",
    "    # 2015 GEOTRACES: 9 August - 15 September\n",
    "    files_2015      = np.sort(glob.glob(f'{folder_ref_2015}ANHA12_EXH006_5d_20150101_20151231*'))\n",
    "    start_date_2015 = datetime.strptime(f'2015-08-09', '%Y-%m-%d')\n",
    "    end_date_2015   = datetime.strptime(f'2015-09-15', '%Y-%m-%d')\n",
    "\n",
    "    file_list_2015 = []\n",
    "    for file in files_2015:\n",
    "        if (datetime.strptime(file.split('/')[-1][42:50],'%Y%m%d') >= start_date_2015) & \\\n",
    "                    (datetime.strptime(file.split('/')[-1][51:59],'%Y%m%d') < end_date_2015):\n",
    "            file_list_2015.append(file)\n",
    "\n",
    "    dmn_2015 = np.zeros((50,700,640))\n",
    "    days = 0\n",
    "    for file in file_list_2015:\n",
    "        ds = xr.open_dataset(f\"{file}\")\n",
    "        dmn_2015 = dmn_2015 + ds['dissolmn'].values[0,:,:,:]\n",
    "\n",
    "    mn_dis_ref_2015 = dmn_2015 / len(file_list_2015)\n",
    "    \n",
    "    return mn_dis_ref_2009, mn_dis_ref_2015"
   ]
  },
  {
   "cell_type": "code",
   "execution_count": null,
   "metadata": {},
   "outputs": [],
   "source": [
    "mn_ref_2009, mn_ref_2015           = calculate_average(folder_ref_2009, folder_ref_2015)"
   ]
  },
  {
   "cell_type": "markdown",
   "metadata": {},
   "source": [
    "Model results"
   ]
  },
  {
   "cell_type": "code",
   "execution_count": null,
   "metadata": {},
   "outputs": [],
   "source": [
    "# Load 2015 Mn reference run results\n",
    "model_ref_2015 = nc.Dataset(f'{folder_ref_2015}ANHA12_EXH006_2015_monthly.nc')\n",
    "lon_model    = np.array(model_ref_2015.variables['nav_lon'])\n",
    "lat_model    = np.array(model_ref_2015.variables['nav_lat'])\n",
    "depths_model = np.array(model_ref_2015.variables['deptht'])"
   ]
  },
  {
   "cell_type": "markdown",
   "metadata": {},
   "source": [
    "Meshes"
   ]
  },
  {
   "cell_type": "code",
   "execution_count": null,
   "metadata": {},
   "outputs": [],
   "source": [
    "# ANHA12 grid\n",
    "mesh       = nc.Dataset('/ocean/brogalla/GEOTRACES/data/ANHA12/ANHA12_mesh1.nc')\n",
    "mesh_bathy = np.array(mesh.variables['hdept'][0])\n",
    "tmask      = np.array(mesh.variables['tmask'])[0,:,imin:imax,jmin:jmax]\n",
    "Z_masked   = np.ma.masked_where((tmask > 0.1), tmask) \n",
    "e3t        = np.array(mesh.variables['e3t_0'])"
   ]
  },
  {
   "cell_type": "markdown",
   "metadata": {},
   "source": [
    "Observations"
   ]
  },
  {
   "cell_type": "code",
   "execution_count": null,
   "metadata": {},
   "outputs": [],
   "source": [
    "# Concentration of dMn in the Beaufort Sea in 2009 (data from Nari Sim's thesis: http://hdl.handle.net/2429/67889\n",
    "IPY = pd.read_csv('/ocean/brogalla/GEOTRACES/data/Nari_Sim_dMn_data.csv')\n",
    "IPY_names_full = IPY['Station name'].astype('string').values\n",
    "IPY_depths     = IPY['Depth [m]'].astype('float').values\n",
    "IPY_dMn_nmolkg = IPY['DMn [ nmol/kg]'].astype('float').values\n",
    "IPY_lons_full  = -1*IPY['Longitude'].astype('float').values\n",
    "IPY_lats_full  = IPY['Latitude'].astype('float').values\n",
    "\n",
    "# Unique entries (maintaining order)\n",
    "IPY_lons  = np.array(list(dict.fromkeys(IPY_lons_full)))\n",
    "IPY_lats  = np.array(list(dict.fromkeys(IPY_lats_full)))\n",
    "IPY_names = np.array(list(dict.fromkeys(IPY_names_full)))\n",
    "\n",
    "# Convert nmol / kg to nmol / L\n",
    "IPY_density             = IPY['Density'].astype('float').values - 1000 # kg / L\n",
    "IPY_depths_cruise_sheet = IPY['Depth [m] cruise sheet'].astype('float').values\n",
    "IPY_dMn_nmolL           = IPY_dMn_nmolkg * (IPY_density+1000)/1000"
   ]
  },
  {
   "cell_type": "code",
   "execution_count": null,
   "metadata": {},
   "outputs": [],
   "source": [
    "# Concentration of dMn in 2015 (data from Colombo et al., 2020)\n",
    "Manuel = pd.read_csv('/ocean/brogalla/GEOTRACES/data/DMn_nmolL-1_BR-edited.csv')\n",
    "Manuel_station_names = Manuel['Station'].astype('string')\n",
    "Manuel_depths        = Manuel['Depth'].astype('float')\n",
    "Manuel_dMn_nmolkg    = Manuel['nmol kg-1'].astype('float').values\n",
    "Manuel_dMn_nmolL     = Manuel['nmol L-1'].astype('float').values\n",
    "Manuel_salinity      = Manuel['Salinity'].astype('float').values\n",
    "\n",
    "GEOTRACES = pd.read_csv('/ocean/brogalla/GEOTRACES/data/Pb-paper-data.csv')\n",
    "stn_names = GEOTRACES['Station names'].dropna().astype('str')\n",
    "lons      = GEOTRACES['station lon'].astype('float').dropna().values\n",
    "lats      = GEOTRACES['Station lat'].astype('float').dropna().values"
   ]
  },
  {
   "cell_type": "markdown",
   "metadata": {},
   "source": [
    "##### Define functions"
   ]
  },
  {
   "cell_type": "code",
   "execution_count": null,
   "metadata": {},
   "outputs": [],
   "source": [
    "def station_info_2015(name):\n",
    "    # Gather and sort data from 2015\n",
    "\n",
    "    dMn_obs   = Manuel_dMn_nmolL[np.array(Manuel_station_names==name).astype('bool')]\n",
    "    depth_obs = Manuel_depths[np.array(Manuel_station_names==name).astype('bool')].values\n",
    "    obs_e3t   = np.diff(depth_obs, prepend=0) # size of vertical boxes\n",
    "\n",
    "    lon_station = lons[stn_names==name]\n",
    "    lat_station = lats[stn_names==name]\n",
    "\n",
    "    model_stni, model_stnj = mf.find_indeces_vector(lon_station, lat_station, lon_model, lat_model)\n",
    "    model_stni = int(model_stni); model_stnj = int(model_stnj);\n",
    "    \n",
    "    e3t_stn = np.ma.masked_where((tmask[:,model_stni,model_stnj] < 0.1), e3t[0,:,model_stni+imin,model_stnj+jmin])\n",
    "\n",
    "    mn_ref = np.ma.masked_where((tmask[:,model_stni,model_stnj] < 0.1), mn_ref_2015[:, model_stni, model_stnj]*10**9)\n",
    "    \n",
    "    return obs_e3t, dMn_obs, e3t_stn, mn_ref\n",
    "\n",
    "def station_info_2009(name):\n",
    "    # Gather and sort data from 2009\n",
    "\n",
    "    dMn_obs   = IPY_dMn_nmolL[np.array(IPY_names_full==name).astype('bool')]\n",
    "    depth_obs = IPY_depths_cruise_sheet[np.array(IPY_names_full==name).astype('bool')]\n",
    "    obs_e3t   = np.diff(depth_obs, prepend=0) # size of vertical boxes\n",
    "\n",
    "    lon_station = IPY_lons[IPY_names==name]\n",
    "    lat_station = IPY_lats[IPY_names==name]\n",
    "\n",
    "    model_stni, model_stnj = mf.find_indeces_vector(lon_station, lat_station, lon_model, lat_model)\n",
    "    model_stni = int(model_stni); model_stnj = int(model_stnj);\n",
    "    \n",
    "    e3t_stn = np.ma.masked_where((tmask[:,model_stni,model_stnj] < 0.1), e3t[0,:,model_stni+imin,model_stnj+jmin])\n",
    "\n",
    "    mn_ref = np.ma.masked_where((tmask[:,model_stni,model_stnj] < 0.1), mn_ref_2009[:, model_stni, model_stnj]*10**9)\n",
    "    \n",
    "    return obs_e3t, dMn_obs, e3t_stn, mn_ref"
   ]
  },
  {
   "cell_type": "code",
   "execution_count": null,
   "metadata": {},
   "outputs": [],
   "source": [
    "def depth_integrate(name, year=''):\n",
    "    # Integrate profiles over full depth:\n",
    "    \n",
    "    if year=='2015':\n",
    "        obs_e3t_stn, obs_dMn_stn, model_e3t_stn, model_dMn_stn = station_info_2015(name)\n",
    "    elif year=='2009':\n",
    "        obs_e3t_stn, obs_dMn_stn, model_e3t_stn, model_dMn_stn = station_info_2009(name)\n",
    "    else:\n",
    "        print('Not a year with Mn evaluation data')\n",
    "        return np.empty([]), np.empty([])\n",
    "    \n",
    "    # depth-integrated Mn content:\n",
    "    obs_totaldMn_stn   = obs_e3t_stn*obs_dMn_stn\n",
    "    model_totaldMn_stn = model_e3t_stn*model_dMn_stn\n",
    "    \n",
    "    # average Mn in water column:\n",
    "    obs_ave_dMn   = sum(obs_totaldMn_stn)/sum(obs_e3t_stn)\n",
    "    model_ave_dMn = np.ma.sum(model_totaldMn_stn)/np.ma.sum(model_e3t_stn)\n",
    "    \n",
    "    return obs_ave_dMn, model_ave_dMn\n",
    "\n",
    "def depth_integrate_subsurface(name, year=''):\n",
    "    # Integrate profiles over subsurface depth:\n",
    "    \n",
    "    if year=='2015':\n",
    "        obs_e3t_stn, obs_dMn_stn, model_e3t_stn, model_dMn_stn = station_info_2015(name)\n",
    "    elif year=='2009':\n",
    "        obs_e3t_stn, obs_dMn_stn, model_e3t_stn, model_dMn_stn = station_info_2009(name)\n",
    "    else:\n",
    "        print('Not a year with Mn evaluation data')\n",
    "    \n",
    "    subsurface_depth = 52\n",
    "    obs_depth   = np.cumsum(obs_e3t_stn) \n",
    "    model_depth = np.cumsum(model_e3t_stn)\n",
    "    \n",
    "    # depth-integrated Mn content:\n",
    "    obs_totaldMn_stn   = sum(obs_e3t_stn[obs_depth < subsurface_depth]*obs_dMn_stn[obs_depth < subsurface_depth])\n",
    "    model_totaldMn_stn = np.ma.sum(model_e3t_stn[model_depth < subsurface_depth]*model_dMn_stn[model_depth < subsurface_depth])\n",
    "    \n",
    "    # average Mn in water column:\n",
    "    obs_ave_dMn   = obs_totaldMn_stn/np.amax(obs_depth[obs_depth < subsurface_depth])\n",
    "    model_ave_dMn = model_totaldMn_stn/np.amax(model_depth[model_depth < subsurface_depth])\n",
    "    \n",
    "    return obs_ave_dMn, model_ave_dMn\n",
    "\n",
    "def total_dMn_subsurface(name, year=''):\n",
    "    # Sum content in subsurface: \n",
    "    \n",
    "    if year=='2015':\n",
    "        obs_e3t_stn, obs_dMn_stn, model_e3t_stn, model_dMn_stn = station_info_2015(name)\n",
    "    elif year=='2009':\n",
    "        obs_e3t_stn, obs_dMn_stn, model_e3t_stn, model_dMn_stn = station_info_2009(name)\n",
    "    else:\n",
    "        print('Not a year with Mn evaluation data')\n",
    "    \n",
    "    subsurface_depth = 52\n",
    "    obs_depth   = np.cumsum(obs_e3t_stn) \n",
    "    model_depth = np.cumsum(model_e3t_stn)\n",
    "    \n",
    "    # depth-integrated Mn content:\n",
    "    obs_totaldMn_stn   = sum(obs_e3t_stn[obs_depth < subsurface_depth]*obs_dMn_stn[obs_depth < subsurface_depth])\n",
    "    model_totaldMn_stn = np.ma.sum(model_e3t_stn[model_depth < subsurface_depth]*model_dMn_stn[model_depth < subsurface_depth])\n",
    "    \n",
    "    print(f'Total dMn at {name}: obs (upper {np.amax(obs_depth[obs_depth < subsurface_depth]):.1f}m): '+\n",
    "          f'{obs_totaldMn_stn:.2f}, model (upper {np.amax(model_depth[model_depth < subsurface_depth]):.1f}m): {model_totaldMn_stn:.2f}')\n",
    "    \n",
    "    return obs_totaldMn_stn, model_totaldMn_stn"
   ]
  },
  {
   "cell_type": "markdown",
   "metadata": {},
   "source": [
    "#### Calculate:"
   ]
  },
  {
   "cell_type": "code",
   "execution_count": null,
   "metadata": {},
   "outputs": [],
   "source": [
    "obs_e3t_CAA9, obs_dMn_CAA9, model_e3t_CAA9, model_dMn_CAA9 = station_info_2015('CAA9')"
   ]
  },
  {
   "cell_type": "code",
   "execution_count": null,
   "metadata": {},
   "outputs": [],
   "source": [
    "obs_ave_dMn_CAA4, model_ave_dMn_CAA4 = depth_integrate_subsurface('CAA4', year='2015')\n",
    "obs_ave_dMn_CAA5, model_ave_dMn_CAA5 = depth_integrate_subsurface('CAA5', year='2015')\n",
    "obs_ave_dMn_CAA6, model_ave_dMn_CAA6 = depth_integrate_subsurface('CAA6', year='2015')\n",
    "obs_ave_dMn_CAA9, model_ave_dMn_CAA9 = depth_integrate_subsurface('CAA9', year='2015')"
   ]
  },
  {
   "cell_type": "code",
   "execution_count": null,
   "metadata": {},
   "outputs": [],
   "source": [
    "obs_total_dMn_CAA4, model_total_dMn_CAA4 = total_dMn_subsurface('CAA4', year='2015')\n",
    "obs_total_dMn_CAA5, model_total_dMn_CAA5 = total_dMn_subsurface('CAA5', year='2015')\n",
    "obs_total_dMn_CAA6, model_total_dMn_CAA6 = total_dMn_subsurface('CAA6', year='2015')\n",
    "obs_total_dMn_CAA9, model_total_dMn_CAA9 = total_dMn_subsurface('CAA9', year='2015')"
   ]
  },
  {
   "cell_type": "code",
   "execution_count": null,
   "metadata": {},
   "outputs": [],
   "source": [
    "stn_list = ['CAA1', 'CAA2', 'CAA3', 'CAA4', 'CAA5', 'CAA6', 'CAA7', 'CAA8', 'CAA9']\n",
    "combined_difference = 0; combined_observed=0; combined_modelled=0;\n",
    "print('Subsurface averaged Mn concentration:')\n",
    "for stn in stn_list:\n",
    "    obs_ave_dMn, model_ave_dMn = depth_integrate_subsurface(stn, year='2015')\n",
    "    print(f'{stn}: observed {obs_ave_dMn:.2f}, modelled {model_ave_dMn:.2f}, difference {model_ave_dMn-obs_ave_dMn:.2f}' )\n",
    "    combined_difference += model_ave_dMn - obs_ave_dMn\n",
    "    combined_observed += obs_ave_dMn\n",
    "    combined_modelled += model_ave_dMn\n",
    "\n",
    "print(f'Average observed subsurface Mn concentration: {combined_observed/len(stn_list):.2f}')\n",
    "print(f'Average modelled subsurface Mn concentration: {combined_modelled/len(stn_list):.2f}')\n",
    "print(f'Average difference between modelled and observed subsurface Mn concentration: {combined_difference/len(stn_list):.2f}')"
   ]
  },
  {
   "cell_type": "code",
   "execution_count": null,
   "metadata": {},
   "outputs": [],
   "source": [
    "stn_list = ['CB1', 'CB2', 'CB3', 'CB4']\n",
    "combined_difference = 0; combined_observed=0; combined_modelled=0;\n",
    "print('Subsurface averaged Mn concentration:')\n",
    "for stn in stn_list:\n",
    "    obs_ave_dMn, model_ave_dMn = depth_integrate_subsurface(stn, year='2015')\n",
    "    print(f'{stn}: observed {obs_ave_dMn:.2f}, modelled {model_ave_dMn:.2f}, difference {model_ave_dMn-obs_ave_dMn:.2f}' )\n",
    "    combined_difference += model_ave_dMn - obs_ave_dMn\n",
    "    combined_observed += obs_ave_dMn\n",
    "    combined_modelled += model_ave_dMn\n",
    "\n",
    "print(f'Average observed subsurface Mn concentration: {combined_observed/len(stn_list):.2f}')\n",
    "print(f'Average modelled subsurface Mn concentration: {combined_modelled/len(stn_list):.2f}')\n",
    "print(f'Average difference between modelled and observed subsurface Mn concentration: {combined_difference/len(stn_list):.2f}')"
   ]
  },
  {
   "cell_type": "code",
   "execution_count": null,
   "metadata": {},
   "outputs": [],
   "source": [
    "stn_list = ['L1','L1.1','L1.5','L2','L3','S4']\n",
    "combined_difference = 0; combined_observed=0; combined_modelled=0;\n",
    "print('Subsurface averaged Mn concentration:')\n",
    "for stn in stn_list:\n",
    "    obs_ave_dMn, model_ave_dMn = depth_integrate_subsurface(stn, year='2009')\n",
    "    print(f'{stn}: observed {obs_ave_dMn:.2f}, modelled {model_ave_dMn:.2f}, difference {model_ave_dMn-obs_ave_dMn:.2f}' )\n",
    "    combined_difference += model_ave_dMn - obs_ave_dMn\n",
    "    combined_observed += obs_ave_dMn\n",
    "    combined_modelled += model_ave_dMn\n",
    "\n",
    "print(f'Average observed subsurface Mn concentration: {combined_observed/len(stn_list):.2f}')\n",
    "print(f'Average modelled subsurface Mn concentration: {combined_modelled/len(stn_list):.2f}')\n",
    "print(f'Average difference between modelled and observed subsurface Mn concentration: {combined_difference/len(stn_list):.2f}')"
   ]
  },
  {
   "cell_type": "code",
   "execution_count": null,
   "metadata": {},
   "outputs": [],
   "source": [
    "stn_list = ['CAA1', 'CAA2', 'CAA3', 'CAA4', 'CAA5', 'CAA6', 'CAA7', 'CAA8', 'CAA9']\n",
    "combined_difference = 0\n",
    "print('Full water column averaged Mn concentration:')\n",
    "for stn in stn_list:\n",
    "    obs_ave_dMn, model_ave_dMn = depth_integrate(stn, year='2015')\n",
    "    print(f'{stn}: observed {obs_ave_dMn:.2f}, modelled {model_ave_dMn:.2f}, difference {model_ave_dMn-obs_ave_dMn:.2f}' )\n",
    "    combined_difference += model_ave_dMn - obs_ave_dMn\n",
    "    \n",
    "print(f'Average difference between modelled and observed full water column Mn concentration: {combined_difference/len(stn_list):.2f}')"
   ]
  },
  {
   "cell_type": "code",
   "execution_count": null,
   "metadata": {},
   "outputs": [],
   "source": []
  }
 ],
 "metadata": {
  "kernelspec": {
   "display_name": "Python 3",
   "language": "python",
   "name": "python3"
  },
  "language_info": {
   "codemirror_mode": {
    "name": "ipython",
    "version": 3
   },
   "file_extension": ".py",
   "mimetype": "text/x-python",
   "name": "python",
   "nbconvert_exporter": "python",
   "pygments_lexer": "ipython3",
   "version": "3.6.11"
  }
 },
 "nbformat": 4,
 "nbformat_minor": 4
}
