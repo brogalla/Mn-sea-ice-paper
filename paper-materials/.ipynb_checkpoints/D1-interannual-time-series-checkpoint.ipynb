{
 "cells": [
  {
   "cell_type": "markdown",
   "metadata": {},
   "source": [
    "# Interannual time series of the Canada Basin Mn content and ice melt"
   ]
  },
  {
   "cell_type": "code",
   "execution_count": null,
   "metadata": {},
   "outputs": [],
   "source": [
    "import pickle\n",
    "import numpy as np\n",
    "import matplotlib.pyplot as plt\n",
    "import netCDF4 as nc\n",
    "import scipy\n",
    "import seaborn as sns; sns.set()\n",
    "import pandas as pd\n",
    "\n",
    "%matplotlib inline"
   ]
  },
  {
   "cell_type": "markdown",
   "metadata": {},
   "source": [
    "#### Parameters:"
   ]
  },
  {
   "cell_type": "code",
   "execution_count": null,
   "metadata": {},
   "outputs": [],
   "source": [
    "# Domain dimensions:\n",
    "imin, imax = 1479, 2179\n",
    "jmin, jmax = 159, 799\n",
    "isize = imax-imin\n",
    "jsize = jmax-jmin\n",
    "\n",
    "# model result set:\n",
    "results_folder1 = '/data/brogalla/run_storage/Mn-reference-202110/'\n",
    "\n",
    "colors = ['#ccb598', '#448d90', '#739f78', '#CC8741', '#cee7fd', '#b9c1c7']"
   ]
  },
  {
   "cell_type": "code",
   "execution_count": null,
   "metadata": {},
   "outputs": [],
   "source": [
    "years = [2002, 2003, 2004, 2005, 2006, 2007, 2008, 2009, 2010, 2011, 2012, 2013, 2014, 2015, 2016, \\\n",
    "         2017, 2018, 2019]"
   ]
  },
  {
   "cell_type": "markdown",
   "metadata": {},
   "source": [
    "#### Load files:"
   ]
  },
  {
   "cell_type": "code",
   "execution_count": null,
   "metadata": {},
   "outputs": [],
   "source": [
    "mask          = nc.Dataset('/ocean/brogalla/GEOTRACES/data/ANHA12/ANHA12_mesh1.nc')\n",
    "tmask         = np.array(mask.variables['tmask'])[0,:,imin:imax,jmin:jmax]\n",
    "e1t_base      = np.array(mask.variables['e1t'])[0,imin:imax,jmin:jmax]\n",
    "e2t_base      = np.array(mask.variables['e2t'])[0,imin:imax,jmin:jmax]\n",
    "e3t           = np.array(mask.variables['e3t_0'])[0,:,imin:imax,jmin:jmax]\n",
    "e1t           = np.tile(e1t_base, (50,1,1))\n",
    "e2t           = np.tile(e2t_base, (50,1,1))\n",
    "volume        = e1t*e2t*e3t\n",
    "volume_masked = np.ma.masked_where((tmask[:,:,:] < 0.1), volume)"
   ]
  },
  {
   "cell_type": "code",
   "execution_count": null,
   "metadata": {},
   "outputs": [],
   "source": [
    "# Component contribution calculations:\n",
    "CB_totals_ref,   CB_totals_spm,   CB_totals_bio   = pickle.load(open('calculations/Canada-Basin-totals-202110.pickle','rb')) \n",
    "CAA_totals_ref,  CAA_totals_spm,  CAA_totals_bio  = pickle.load(open('calculations/CAA-totals-202110.pickle' ,'rb')) \n",
    "wCAA_totals_ref, wCAA_totals_spm, wCAA_totals_bio = pickle.load(open('calculations/wCAA-totals-202110.pickle','rb'))  \n",
    "eCAA_totals_ref, eCAA_totals_spm, eCAA_totals_bio = pickle.load(open('calculations/eCAA-totals-202110.pickle','rb')) \n",
    "totals_ref     , totals_spm     , totals_bio      = pickle.load(open('calculations/full-domain-totals-202110.pickle','rb')) "
   ]
  },
  {
   "cell_type": "code",
   "execution_count": null,
   "metadata": {},
   "outputs": [],
   "source": [
    "# Component contribution calculations:\n",
    "CB_averages_ref,   CB_averages_spm,   CB_averages_bio   = pickle.load(open('calculations/Canada-Basin-averages-202110.pickle','rb')) \n",
    "CAA_averages_ref,  CAA_averages_spm,  CAA_averages_bio  = pickle.load(open('calculations/CAA-averages-202110.pickle' ,'rb')) \n",
    "wCAA_averages_ref, wCAA_averages_spm, wCAA_averages_bio = pickle.load(open('calculations/wCAA-averages-202110.pickle','rb'))  \n",
    "eCAA_averages_ref, eCAA_averages_spm, eCAA_averages_bio = pickle.load(open('calculations/eCAA-averages-202110.pickle','rb')) \n",
    "averages_ref     , averages_spm     , averages_bio      = pickle.load(open('calculations/full-domain-averages-202110.pickle','rb')) "
   ]
  },
  {
   "cell_type": "code",
   "execution_count": null,
   "metadata": {},
   "outputs": [],
   "source": [
    "def reshape_arrays(array_in, riv=False, exp1=None, exp3=None):\n",
    "    fixed      = np.zeros((len(years),8))\n",
    "    \n",
    "    for i in range(0,8):\n",
    "        if i==0: # Sum the particulate and dissolved river contributions\n",
    "            fixed[:,i] = array_in[:,i] + array_in[:,i+1]\n",
    "        else:\n",
    "            fixed[:,i] = array_in[:,i+1]\n",
    "    \n",
    "    return fixed"
   ]
  },
  {
   "cell_type": "code",
   "execution_count": null,
   "metadata": {},
   "outputs": [],
   "source": [
    "totals_ref_fixed      = reshape_arrays(totals_ref)\n",
    "CB_totals_ref_fixed   = reshape_arrays(CB_totals_ref)\n",
    "CAA_totals_ref_fixed  = reshape_arrays(CAA_totals_ref)\n",
    "wCAA_totals_ref_fixed = reshape_arrays(wCAA_totals_ref)\n",
    "eCAA_totals_ref_fixed = reshape_arrays(eCAA_totals_ref)"
   ]
  },
  {
   "cell_type": "code",
   "execution_count": null,
   "metadata": {},
   "outputs": [],
   "source": [
    "# Find indices to separate out Canada Basin:\n",
    "x_ind = np.arange(1621, 2100, 1)\n",
    "y_ind = (-7/8)*x_ind + 1517 + 700\n",
    "\n",
    "CB_indx = []\n",
    "CB_indy = []\n",
    "for index in range(0,len(x_ind)):\n",
    "    CB_x = np.arange(x_ind[index],2179,1)\n",
    "    CB_y = np.ones(CB_x.shape)*y_ind[index]\n",
    "    \n",
    "    CB_indx = np.append(CB_x, CB_indx)\n",
    "    CB_indy = np.append(CB_y, CB_indy)\n",
    "\n",
    "# Separate Canada Basin:\n",
    "mask_ini_CB  = np.zeros((isize,jsize))\n",
    "for i, j in zip(CB_indx, CB_indy):\n",
    "    mask_ini_CB[int(i-imin),int(j-jmin)]  = 1\n",
    "    \n",
    "mask_ini_CB[150:-1 ,-8:-1] = 1\n",
    "\n",
    "mask_CB_yr    = np.tile(mask_ini_CB  , (12,1,1))\n",
    "mask_CB_depth = np.tile(mask_CB_yr  , (50,1,1,1))\n",
    "mask_CB_depth = mask_CB_depth.reshape(12,50,700,640)"
   ]
  },
  {
   "cell_type": "markdown",
   "metadata": {},
   "source": [
    "##### Functions:"
   ]
  },
  {
   "cell_type": "code",
   "execution_count": null,
   "metadata": {},
   "outputs": [],
   "source": [
    "def read_yearly_mn(years, results_folder=results_folder1):\n",
    "    # Read in Mn data from reference run\n",
    "    \n",
    "    yearly_mn = []\n",
    "    for year in years:\n",
    "        Mn_model1  = nc.Dataset(f'{results_folder}ANHA12_ref-{year}_20211012/ANHA12_EXH006_{year}_monthly.nc')\n",
    "        Mn_dis1    = np.array(Mn_model1.variables['dissolmn'])[:,0,:,:,:] # mol / L\n",
    "        \n",
    "        # Only interested in Mn content of the Canada Basin:\n",
    "        Mn_CB      = np.ma.masked_where(mask_CB_depth==0, Mn_dis1) \n",
    "        \n",
    "        # Polar mixed layer:\n",
    "        Mn_content = Mn_CB[:,0:17,:,:]*volume_masked[0:17,:,:]*1e3 # mol / L --> monthly mole content per grid cell\n",
    "        Mn_yearly  = np.ma.sum(Mn_content, axis=(0,1,2,3)) # Sum over months and over all grid cells and depths\n",
    "        \n",
    "        yearly_mn.append(Mn_yearly) # moles\n",
    "        \n",
    "    return np.array(yearly_mn)"
   ]
  },
  {
   "cell_type": "markdown",
   "metadata": {},
   "source": [
    "### Figures\n",
    "\n",
    "Year-to-year variation in contribution"
   ]
  },
  {
   "cell_type": "code",
   "execution_count": null,
   "metadata": {},
   "outputs": [],
   "source": [
    "# Sea ice data from NSIDC (Fetterer et al., 2017)\n",
    "# ftp://sidads.colorado.edu/DATASETS/NOAA/G02135/seaice_analysis/\n",
    "# https://nsidc.org/sites/nsidc.org/files/files/data/noaa/g02135/Sea-Ice-Analysis-Spreadsheets-Overview.pdf\n",
    "# This file is for the Beaufort Sea region, i.e. Canada Basin\n",
    "sea_ice_CB          = '/ocean/brogalla/GEOTRACES/data/N_Sea_Ice_Index_Regional_Monthly_Data_G02135_v3.0.csv'\n",
    "observ_data_CB      = np.array(pd.read_csv(sea_ice_CB))\n",
    "observ_years_CB     = observ_data_CB[:,0].astype('float')\n",
    "monthly_ice_area_CB = observ_data_CB[:,1:].astype('float') # in km2\n",
    "\n",
    "ice_areas_CB        = monthly_ice_area_CB.flatten()\n",
    "# Calculate month-to-month change in sea ice area:\n",
    "ice_areas_diff_CB   = [ice_areas_CB[i+1] - ice_areas_CB[i] for i in range(0,len(ice_areas_CB)-1)]\n",
    "ice_areas_diff_CB   = np.append(np.nan, ice_areas_diff_CB)\n",
    "\n",
    "monthly_area_change_CB = ice_areas_diff_CB.reshape([41,12]) # dimensions: years, months\n",
    "# Only keep sea negative changes in ice area, i.e. melt:\n",
    "monthly_area_melt_CB   = np.copy(monthly_area_change_CB)\n",
    "monthly_area_melt_CB[monthly_area_change_CB > 0] = np.nan\n",
    "\n",
    "# Calculate the sum of all the melt in a year:\n",
    "yearly_melt_CB = np.abs(np.nansum(monthly_area_melt_CB, axis=1))"
   ]
  },
  {
   "cell_type": "markdown",
   "metadata": {},
   "source": [
    "#### Canada Basin Mn content over time:"
   ]
  },
  {
   "cell_type": "code",
   "execution_count": null,
   "metadata": {},
   "outputs": [],
   "source": [
    "CB_mn_timeseries = read_yearly_mn(years)"
   ]
  },
  {
   "cell_type": "code",
   "execution_count": null,
   "metadata": {},
   "outputs": [],
   "source": [
    "fig = plt.figure(figsize=(4.5, 2.74), dpi=300)\n",
    "st  = sns.axes_style(\"whitegrid\")\n",
    "\n",
    "with st:\n",
    "    ax = sns.lineplot(observ_years_CB[0:-1], yearly_melt_CB[0:-1]*1e-3, linewidth=1.5, marker='o', markersize=5, color='#46697b',\\\n",
    "                       label=r'Satellite sea ice loss [1000 km$^{2}$ yr$^{-1}$]', zorder=1)\n",
    "    sns.lineplot(years, CB_totals_ref_fixed[:,2]*1e-6, linewidth=1.5, color='#a6b3c0', marker=\"o\", \\\n",
    "                 markersize=5, label=r'Addition of Mn by sea ice melt [Mmol yr$^{-1}$]', zorder=3)\n",
    "    sns.lineplot(years, CB_mn_timeseries*1e-6, linewidth=1.5, marker='o', markersize=5, color='#6497b1', \\\n",
    "                 label=r'Mn content of the Polar Mixed Layer [Mmol]', zorder=2)\n",
    "    \n",
    "    ax.set_xlabel('Year', fontsize=6)\n",
    "    ax.set_ylabel('Annual total',fontsize=6)\n",
    "    ax.set(xlim=(2002, 2020), ylim=(0, 3000))\n",
    "    ax.tick_params(axis='both', which='major', labelsize=6)\n",
    "    ax.spines['left'].set_linewidth(1.5);   ax.spines['left'].set_color('black');\n",
    "    ax.spines['bottom'].set_linewidth(1.5); ax.spines['bottom'].set_color('black');\n",
    "    ax.spines['right'].set_linewidth(1.5);  ax.spines['right'].set_color('black');\n",
    "    ax.spines['top'].set_linewidth(1.5);    ax.spines['top'].set_color('black');    \n",
    "    \n",
    "    leg = ax.legend(loc=(0.01, 0.77), frameon=True, framealpha=0.8, fontsize=6)\n",
    "    leg.get_frame().set_linewidth(0.0)\n",
    "    \n",
    "# fig.savefig('/ocean/brogalla/GEOTRACES/figures/paper1-202110/D1-interannual-time-series.png', \\\n",
    "#                     bbox_inches='tight',dpi=300)\n",
    "# fig.savefig('/ocean/brogalla/GEOTRACES/figures/paper1-202110/D1-interannual-time-series.svg', \\\n",
    "#                     bbox_inches='tight',dpi=300, format='svg')"
   ]
  },
  {
   "cell_type": "code",
   "execution_count": null,
   "metadata": {},
   "outputs": [],
   "source": [
    "# Correlation between: Mn content of the Canada Basin polar mixed layer & model sea ice melt\n",
    "slope, intercept, r_value1, p_value, std_err = scipy.stats.linregress(CB_mn_timeseries, CB_totals_ref_fixed[:,2])\n",
    "print(f'R-squared value: {r_value1**2:.2f}')\n",
    "\n",
    "# Correlation between: Mn model sea ice melt & observed satellite sea ice loss:\n",
    "slope, intercept, r_value2, p_value, std_err = scipy.stats.linregress(CB_totals_ref_fixed[:,2], yearly_melt_CB[22:-1])\n",
    "print(f'R-squared value: {r_value2**2:.2f}')"
   ]
  },
  {
   "cell_type": "code",
   "execution_count": null,
   "metadata": {},
   "outputs": [],
   "source": []
  }
 ],
 "metadata": {
  "kernelspec": {
   "display_name": "Python 3",
   "language": "python",
   "name": "python3"
  },
  "language_info": {
   "codemirror_mode": {
    "name": "ipython",
    "version": 3
   },
   "file_extension": ".py",
   "mimetype": "text/x-python",
   "name": "python",
   "nbconvert_exporter": "python",
   "pygments_lexer": "ipython3",
   "version": "3.6.11"
  }
 },
 "nbformat": 4,
 "nbformat_minor": 4
}
