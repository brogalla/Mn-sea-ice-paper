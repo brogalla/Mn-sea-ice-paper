{
 "cells": [
  {
   "cell_type": "markdown",
   "metadata": {},
   "source": [
    "# Euphotic zone depth"
   ]
  },
  {
   "cell_type": "code",
   "execution_count": null,
   "metadata": {},
   "outputs": [],
   "source": [
    "import numpy as np\n",
    "import matplotlib.pyplot as plt\n",
    "import netCDF4 as nc\n",
    "import pickle\n",
    "\n",
    "%matplotlib inline"
   ]
  },
  {
   "cell_type": "markdown",
   "metadata": {},
   "source": [
    "Photo-enhanced reduction should occur over the euphotic zone depth. For the Canada Basin, Laney et al. (2017) estimated the euphotic zone depth as ~70-110 m based on the 1% light extinction from ITP measurements. Bhatia et al. (2021) estimated the euphotic zone depth in the CAA with a median of 50 m. "
   ]
  },
  {
   "cell_type": "code",
   "execution_count": null,
   "metadata": {},
   "outputs": [],
   "source": [
    "# domain dimensions:\n",
    "imin, imax = 1479, 2179\n",
    "jmin, jmax = 159, 799\n",
    "\n",
    "isize = imax-imin\n",
    "jsize = jmax-jmin"
   ]
  },
  {
   "cell_type": "markdown",
   "metadata": {},
   "source": [
    "#### Load files"
   ]
  },
  {
   "cell_type": "code",
   "execution_count": null,
   "metadata": {},
   "outputs": [],
   "source": [
    "# ANHA12 grid\n",
    "mesh  = nc.Dataset('/ocean/brogalla/GEOTRACES/data/ANHA12/ANHA12_mesh1.nc')\n",
    "tmask = np.array(mesh.variables['tmask'])\n",
    "land_mask = np.ma.masked_where((tmask[0,:,:,:] > 0.1), tmask[0,:,:,:])\n",
    "lons  = np.array(mesh.variables['nav_lon'])\n",
    "lats  = np.array(mesh.variables['nav_lat'])\n",
    "mbathy = np.array(mesh.variables['mbathy'])[0,:,:] # bottom depth"
   ]
  },
  {
   "cell_type": "markdown",
   "metadata": {},
   "source": [
    "Load euphotic zone depth:"
   ]
  },
  {
   "cell_type": "code",
   "execution_count": null,
   "metadata": {},
   "outputs": [],
   "source": [
    "# Forcing file created by /forcing/scavenging---euphotic-depth.ipynb\n",
    "euph = nc.Dataset('/ocean/brogalla/GEOTRACES/data/euphotic-20210811.nc')\n",
    "euphotic_depth = np.array(euph.variables['euphotic'])"
   ]
  },
  {
   "cell_type": "markdown",
   "metadata": {},
   "source": [
    "#### Figure"
   ]
  },
  {
   "cell_type": "code",
   "execution_count": null,
   "metadata": {},
   "outputs": [],
   "source": [
    "fig, ax1, proj1= pickle.load(open('/ocean/brogalla/GEOTRACES/pickles/mn-reference.pickle','rb'))\n",
    "\n",
    "x, y = proj1(lons, lats) \n",
    "\n",
    "# Euphotic zone depth:\n",
    "CB = proj1.contourf(x, y, euphotic_depth, vmin=50, vmax=70, levels=[50,55,60,65,70])\n",
    "\n",
    "cbaxes = fig.add_axes([0.92, 0.2, 0.04, 0.45])\n",
    "CBar   = plt.colorbar(CB, cax=cbaxes)\n",
    "CBar.set_label(label='Euphotic zone depth [m]',size=6)\n",
    "CBar.ax.tick_params(labelsize=6)\n",
    "\n",
    "fig.savefig('/ocean/brogalla/GEOTRACES/figures/paper1-202110/S6-euphotic-depth.png',bbox_inches='tight', dpi=300)\n",
    "fig.savefig('/ocean/brogalla/GEOTRACES/figures/paper1-202110/S6-euphotic-depth.svg', \\\n",
    "                       bbox_inches='tight', dpi=300, format='svg')"
   ]
  },
  {
   "cell_type": "code",
   "execution_count": null,
   "metadata": {},
   "outputs": [],
   "source": []
  }
 ],
 "metadata": {
  "kernelspec": {
   "display_name": "Python 3",
   "language": "python",
   "name": "python3"
  },
  "language_info": {
   "codemirror_mode": {
    "name": "ipython",
    "version": 3
   },
   "file_extension": ".py",
   "mimetype": "text/x-python",
   "name": "python",
   "nbconvert_exporter": "python",
   "pygments_lexer": "ipython3",
   "version": "3.6.11"
  }
 },
 "nbformat": 4,
 "nbformat_minor": 4
}
