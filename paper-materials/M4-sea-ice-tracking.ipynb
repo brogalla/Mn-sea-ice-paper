{
 "cells": [
  {
   "cell_type": "markdown",
   "metadata": {},
   "source": [
    "## Sea ice particle tracking figure"
   ]
  },
  {
   "cell_type": "code",
   "execution_count": null,
   "metadata": {},
   "outputs": [],
   "source": [
    "import numpy as np\n",
    "import pickle\n",
    "import netCDF4 as nc\n",
    "import matplotlib.pyplot as plt\n",
    "import matplotlib\n",
    "import datetime\n",
    "from matplotlib.colors import ListedColormap\n",
    "\n",
    "%matplotlib inline"
   ]
  },
  {
   "cell_type": "markdown",
   "metadata": {},
   "source": [
    "##### Parameters:"
   ]
  },
  {
   "cell_type": "code",
   "execution_count": null,
   "metadata": {},
   "outputs": [],
   "source": [
    "# domain dimensions\n",
    "imin, imax = 1479, 2179\n",
    "jmin, jmax = 159, 799\n",
    "isize = imax - imin\n",
    "jsize = jmax - jmin\n",
    "\n",
    "# results:\n",
    "tracking_folder='/ocean/brogalla/GEOTRACES/parcels/trials/'\n",
    "\n",
    "# colormap:\n",
    "N = 256\n",
    "vals_cont = np.ones((N, 4))\n",
    "vals_cont[:, 0] = np.linspace(101/N, 1, N)\n",
    "vals_cont[:, 1] = np.linspace(100/N, 1, N)\n",
    "vals_cont[:, 2] = np.linspace(97/N, 1, N)\n",
    "sed_cmap = ListedColormap(vals_cont).reversed()"
   ]
  },
  {
   "cell_type": "code",
   "execution_count": null,
   "metadata": {},
   "outputs": [],
   "source": [
    "# Define boundary latitudes and longitudes for the Laptev Sea region\n",
    "trajS_bdy1 = 68; trajN_bdy1 = 74; trajE_bdy1 = -170; trajW_bdy1 = -210;\n",
    "trajS_bdy2 = 70; trajN_bdy2 = 75; trajE_bdy2 = -185; trajW_bdy2 = -230;\n",
    "\n",
    "WE_bdy1A = np.linspace(trajW_bdy1, trajE_bdy1, 30)\n",
    "WE_bdy1B = np.linspace(trajE_bdy2, trajE_bdy1, 30)\n",
    "WES_bdy1 = np.ones(WE_bdy1A.shape)*trajS_bdy1\n",
    "WEN_bdy1 = np.ones(WE_bdy1A.shape)*trajN_bdy1\n",
    "\n",
    "SN_bdy1A = np.linspace(trajS_bdy1, trajS_bdy2, 30)\n",
    "SN_bdy1B = np.linspace(trajS_bdy1, trajN_bdy1, 30)\n",
    "SNW_bdy1 = np.ones(SN_bdy1A.shape)*trajW_bdy1\n",
    "SNE_bdy1 = np.ones(SN_bdy1A.shape)*trajE_bdy1\n",
    "\n",
    "WE_bdy2A = np.linspace(trajW_bdy2, trajW_bdy1, 30)\n",
    "WE_bdy2B = np.linspace(trajW_bdy2, trajE_bdy2, 30)\n",
    "WES_bdy2 = np.ones(WE_bdy2A.shape)*trajS_bdy2\n",
    "WEN_bdy2 = np.ones(WE_bdy2A.shape)*trajN_bdy2\n",
    "\n",
    "SN_bdy2A = np.linspace(trajS_bdy2, trajN_bdy2, 30)\n",
    "SN_bdy2B = np.linspace(trajN_bdy1, trajN_bdy2, 30)\n",
    "SNW_bdy2 = np.ones(SN_bdy2A.shape)*trajW_bdy2\n",
    "SNE_bdy2 = np.ones(SN_bdy2A.shape)*trajE_bdy2"
   ]
  },
  {
   "cell_type": "markdown",
   "metadata": {},
   "source": [
    "##### Functions"
   ]
  },
  {
   "cell_type": "code",
   "execution_count": null,
   "metadata": {},
   "outputs": [],
   "source": [
    "def load_tracks(filename):\n",
    "    nemo_file  = nc.Dataset(filename)\n",
    "\n",
    "    traj = np.array(nemo_file.variables['trajectory']) # dimensions: number of particles, tracks\n",
    "    time = np.array(nemo_file.variables['time'])       # units: seconds\n",
    "    lat  = np.array(nemo_file.variables['lat'])        # degrees North\n",
    "    lon  = np.array(nemo_file.variables['lon'])        # degrees East\n",
    "\n",
    "    return traj, time, lon, lat"
   ]
  },
  {
   "cell_type": "code",
   "execution_count": null,
   "metadata": {},
   "outputs": [],
   "source": [
    "def parcel_origin(CB_lon, CB_lat, CB_time, CB_traj):\n",
    "\n",
    "    dim_parc = int((CB_lon.shape[0]/12)/np.ceil(CB_lon.shape[1]/(4*365))) # bottom converts 6 hour to days    \n",
    "    dim_time = int(12*((CB_lon.shape[0]/dim_parc)/12))\n",
    "\n",
    "    particles_origin = np.zeros((dim_parc,dim_time))\n",
    "    # --- Russian shelf in fall = 1\n",
    "    # --- else = 0\n",
    "\n",
    "    for release_time in range(0,dim_time):\n",
    "        for location in range(0,dim_parc):\n",
    "            ind = location + release_time*dim_parc\n",
    "            lon_loc = CB_lon[ind,:]\n",
    "            lat_loc = CB_lat[ind,:]\n",
    "            time_loc = CB_time[ind,:]\n",
    "            traj_loc = CB_traj[ind,:]\n",
    "\n",
    "            Laptev_particle = check_laptev(traj_loc, lon_loc, lat_loc, time_loc)\n",
    "\n",
    "            if Laptev_particle:\n",
    "                particles_origin[location, release_time] = 1\n",
    "\n",
    "    return particles_origin"
   ]
  },
  {
   "cell_type": "code",
   "execution_count": null,
   "metadata": {},
   "outputs": [],
   "source": [
    "def check_laptev(CB_traj, CB_lon, CB_lat, CB_time):\n",
    "    # does the parcel spend time in the laptev sea in the fall?\n",
    "\n",
    "    Laptev_particle = False\n",
    "    # At each time step:\n",
    "    for timestep in range(0,len(CB_traj)):\n",
    "        if ((CB_lon[timestep]   < trajE_bdy1) & (CB_lon[timestep] > trajW_bdy1) \\\n",
    "            & (CB_lat[timestep] < trajN_bdy1) & (CB_lat[timestep] > trajS_bdy1)) or \\\n",
    "           ((CB_lon[timestep]   < trajE_bdy2) & (CB_lon[timestep] > trajW_bdy2) \\\n",
    "            & (CB_lat[timestep] < trajN_bdy2) & (CB_lat[timestep] > trajS_bdy2)):\n",
    "\n",
    "            start_time   = datetime.datetime(2015,12,31) - datetime.timedelta(seconds=CB_time[0])\n",
    "            current_time = start_time - datetime.timedelta(seconds=CB_time[timestep])\n",
    "\n",
    "            # And is the parcel on the shelf in the fall?\n",
    "            if current_time.month in [9,10,11,12]:\n",
    "                Laptev_particle = True\n",
    "                break\n",
    "                    \n",
    "    return Laptev_particle"
   ]
  },
  {
   "cell_type": "code",
   "execution_count": null,
   "metadata": {},
   "outputs": [],
   "source": [
    "def drawCirc1(ax,radius,centX,centY,angle_,theta2_,color_='black'):\n",
    "    #========Create the arrow head\n",
    "    endX=centX-(radius/2)*np.cos(np.radians(theta2_+angle_)) #Do trig to determine end position\n",
    "    endY=centY+(radius/2)*np.sin(np.radians(theta2_+angle_))\n",
    "\n",
    "    #Create triangle as arrow head\n",
    "    ax.add_patch(matplotlib.patches.RegularPolygon((endX, endY), # (x,y)\n",
    "            3,                       # number of vertices\n",
    "            radius/6,                # radius\n",
    "            np.radians(angle_+theta2_),     # orientation\n",
    "            color='k', zorder=3))\n",
    "    ax.add_patch(matplotlib.patches.RegularPolygon((endX, endY), # (x,y)\n",
    "            3,                       # number of vertices\n",
    "            radius/9,                # radius\n",
    "            np.radians(angle_+theta2_),     # orientation\n",
    "            color=color_, zorder=3))\n",
    "    \n",
    "    #========Line\n",
    "    arc = matplotlib.patches.Arc([centX,centY],radius,radius,angle=angle_,\n",
    "          theta1=25,theta2=theta2_,linestyle='-',lw=2,color=color_, zorder=3)\n",
    "    arc2 = matplotlib.patches.Arc([centX,centY],radius,radius,angle=angle_,\n",
    "          theta1=40,theta2=theta2_+4,linestyle='-',lw=3,color='k', zorder=3)\n",
    "    ax.add_patch(arc2)\n",
    "    ax.add_patch(arc)\n",
    "    \n",
    "    return"
   ]
  },
  {
   "cell_type": "markdown",
   "metadata": {},
   "source": [
    "##### Load files:"
   ]
  },
  {
   "cell_type": "code",
   "execution_count": null,
   "metadata": {},
   "outputs": [],
   "source": [
    "# ANHA12 grid:\n",
    "mesh = nc.Dataset('/ocean/brogalla/GEOTRACES/data/ANHA12/ANHA12_mesh1.nc')\n",
    "mesh_lon = np.array(mesh.variables['nav_lon'])\n",
    "mesh_lat = np.array(mesh.variables['nav_lat'])"
   ]
  },
  {
   "cell_type": "code",
   "execution_count": null,
   "metadata": {},
   "outputs": [],
   "source": [
    "# Load particle tracking files produced by /forcing/ice---particle_tracking.ipynb\n",
    "CB_traj, CB_time, CB_lon, CB_lat = load_tracks(f'{tracking_folder}Particles_CB-20200205-extended-region2.nc')"
   ]
  },
  {
   "cell_type": "code",
   "execution_count": null,
   "metadata": {},
   "outputs": [],
   "source": [
    "# Calculate proportions:\n",
    "particles_origin = parcel_origin(CB_lon, CB_lat, CB_time, CB_traj)\n",
    "dim_parc = int((CB_lon.shape[0]/12)/np.ceil(CB_lon.shape[1]/(4*365)))\n",
    "dim_lons = len(set(CB_lon[0:dim_parc,0]))\n",
    "\n",
    "proportion_laptev = np.empty(CB_lon[0:dim_parc,0].shape)\n",
    "\n",
    "for location in range(0,dim_parc):\n",
    "    proportion_laptev[location] = np.sum(particles_origin[location,:])/particles_origin.shape[1]"
   ]
  },
  {
   "cell_type": "markdown",
   "metadata": {},
   "source": [
    "##### Figures"
   ]
  },
  {
   "cell_type": "code",
   "execution_count": null,
   "metadata": {},
   "outputs": [],
   "source": [
    "fig, ax1, proj1 = pickle.load(open('/ocean/brogalla/GEOTRACES/pickles/AO-map.pickle','rb'))\n",
    "\n",
    "# Particle tracks -------------------------------------------------------------------\n",
    "x_CB, y_CB  = proj1(CB_lon[0:dim_parc,0], CB_lat[0:dim_parc,0])\n",
    "CB          = proj1.scatter(x_CB, y_CB, s=20, zorder=2, c=proportion_laptev, edgecolor='k', \\\n",
    "                            cmap=sed_cmap, vmin=0, vmax=0.3, linewidths=0.6)\n",
    "CS1 = proj1.contourf(np.zeros((4,4)), np.zeros((4,4)), np.ones((4,4)),\\\n",
    "                     vmin=0.0, vmax=0.3, levels=np.arange(0,0.35,0.025), cmap=sed_cmap)\n",
    "\n",
    "levels=np.arange(0,0.45,0.025)\n",
    "\n",
    "# Siberian shelf boundaries: --------------------------------------------------------\n",
    "xS1, yS1 = proj1(WE_bdy1A, WES_bdy1); xN1, yN1 = proj1(WE_bdy1B, WEN_bdy1);\n",
    "xW1, yW1 = proj1(SNW_bdy1, SN_bdy1A); xE1, yE1 = proj1(SNE_bdy1, SN_bdy1B);\n",
    "\n",
    "xS2, yS2 = proj1(WE_bdy2A, WES_bdy2); xN2, yN2 = proj1(WE_bdy2B, WEN_bdy2); \n",
    "xW2, yW2 = proj1(SNW_bdy2, SN_bdy2A); xE2, yE2 = proj1(SNE_bdy2, SN_bdy2B);\n",
    "\n",
    "color_line1 = '-k'\n",
    "color_line2 = '-'\n",
    "linewidth1  = 2.0\n",
    "linewidth2  = 1.5 \n",
    "\n",
    "proj1.plot(xS1, yS1, color_line1, linewidth=linewidth1, zorder=1)\n",
    "proj1.plot(xN1, yN1, color_line1, linewidth=linewidth1, zorder=1)\n",
    "proj1.plot(xW1, yW1, color_line1, linewidth=linewidth1, zorder=1)\n",
    "proj1.plot(xE1, yE1, color_line1, linewidth=linewidth1, zorder=1)\n",
    "proj1.plot(xS1, yS1, color_line2, linewidth=linewidth2, c='#656461', zorder=1)\n",
    "proj1.plot(xN1, yN1, color_line2, linewidth=linewidth2, c='#656461', zorder=1)\n",
    "proj1.plot(xW1, yW1, color_line2, linewidth=linewidth2, c='#656461', zorder=1)\n",
    "proj1.plot(xE1, yE1, color_line2, linewidth=linewidth2, c='#656461', zorder=1)\n",
    "\n",
    "proj1.plot(xS2, yS2, color_line1, linewidth=linewidth1, zorder=1)\n",
    "proj1.plot(xN2, yN2, color_line1, linewidth=linewidth1, zorder=1)\n",
    "proj1.plot(xW2, yW2, color_line1, linewidth=linewidth1, zorder=1)\n",
    "proj1.plot(xE2, yE2, color_line1, linewidth=linewidth1, zorder=1)\n",
    "proj1.plot(xS2, yS2, color_line2, linewidth=linewidth2, c='#656461', zorder=1)\n",
    "proj1.plot(xN2, yN2, color_line2, linewidth=linewidth2, c='#656461', zorder=1)\n",
    "proj1.plot(xW2, yW2, color_line2, linewidth=linewidth2, c='#656461', zorder=1)\n",
    "proj1.plot(xE2, yE2, color_line2, linewidth=linewidth2, c='#656461', zorder=1)\n",
    "\n",
    "# Arrows ----------------------------------------------------------------------------\n",
    "drawCirc1(ax1,0.55e6,1.65e6,2.35e6,90,330, color_='#ddeeff')\n",
    "TPD2 = matplotlib.patches.FancyArrowPatch((1.3e6, 3.5e6), (2.8e6,2.5e6),\\\n",
    "                                        connectionstyle=\"arc3,rad=-.2\", \\\n",
    "                                        color='k', linewidth=2, \\\n",
    "                                        arrowstyle='wedge, tail_width=8', zorder=3)\n",
    "TPD = matplotlib.patches.FancyArrowPatch((1.3e6, 3.5e6), (2.8e6,2.5e6),\\\n",
    "                                        connectionstyle=\"arc3,rad=-.2\", \\\n",
    "                                        color='#ddeeff', linewidth=1.2, \\\n",
    "                                        arrowstyle='wedge, tail_width=7', zorder=3)\n",
    "\n",
    "ax1.add_patch(matplotlib.patches.RegularPolygon((2.8e6,2.5e6), 3, 1e5, np.radians(-20), color='k', zorder=3))\n",
    "ax1.add_patch(TPD2); ax1.add_patch(TPD);\n",
    "ax1.add_patch(matplotlib.patches.RegularPolygon((2.8e6,2.5e6), 3, 0.7e5, np.radians(-20), color='#ddeeff', zorder=3))\n",
    "\n",
    "\n",
    "BS2 = matplotlib.patches.FancyArrowPatch((1.5e6, 1.45e6), (8e5,2.5e6),\\\n",
    "                                        connectionstyle=\"arc3,rad=-.2\", \\\n",
    "                                        color='k', linewidth=2, \\\n",
    "                                        arrowstyle='wedge, tail_width=5', zorder=3)\n",
    "BS = matplotlib.patches.FancyArrowPatch((1.5e6, 1.45e6), (8e5,2.5e6),\\\n",
    "                                        connectionstyle=\"arc3,rad=-.2\", \\\n",
    "                                        color='#ddeeff', linewidth=1.2, \\\n",
    "                                        arrowstyle='wedge, tail_width=4', zorder=3)\n",
    "ax1.add_patch(matplotlib.patches.RegularPolygon((8e5,2.5e6), 3, 1e5, np.radians(20), color='k', zorder=3))\n",
    "ax1.add_patch(BS2); ax1.add_patch(BS);\n",
    "ax1.add_patch(matplotlib.patches.RegularPolygon((8e5,2.5e6), 3, 0.7e5, np.radians(20), color='#ddeeff', zorder=3))\n",
    "\n",
    "# Colorbar ---------------------------------------------------------------\n",
    "# Draw rectangle behind colorbar:\n",
    "pc = matplotlib.patches.Rectangle((1e5, 1e4), 23.2e5, 8.3e5, facecolor='w', zorder=3, alpha=0.8)\n",
    "plt.gca().add_patch(pc)\n",
    "# Colorbar\n",
    "cbaxes = fig.add_axes([0.19,0.18,0.23,0.03]) \n",
    "CB1 = plt.colorbar(CS1, cax=cbaxes, orientation='horizontal', ticks=np.arange(0,1.1,0.1))\n",
    "CB1.ax.tick_params(labelsize=6)\n",
    "CB1.outline.set_linewidth(1.0)\n",
    "CB1.ax.set_title('Proportion of Siberian tracks', fontsize=6)\n",
    "\n",
    "fig.savefig('/ocean/brogalla/GEOTRACES/figures/paper1-202110/M4-tracks_siberian_region.png', \\\n",
    "               bbox_inches='tight', dpi=300)\n",
    "fig.savefig('/ocean/brogalla/GEOTRACES/figures/paper1-202110/M4-tracks_siberian_region.svg', \\\n",
    "               format='svg', bbox_inches='tight', dpi=300)"
   ]
  },
  {
   "cell_type": "code",
   "execution_count": null,
   "metadata": {},
   "outputs": [],
   "source": []
  }
 ],
 "metadata": {
  "kernelspec": {
   "display_name": "Python 3",
   "language": "python",
   "name": "python3"
  },
  "language_info": {
   "codemirror_mode": {
    "name": "ipython",
    "version": 3
   },
   "file_extension": ".py",
   "mimetype": "text/x-python",
   "name": "python",
   "nbconvert_exporter": "python",
   "pygments_lexer": "ipython3",
   "version": "3.6.11"
  }
 },
 "nbformat": 4,
 "nbformat_minor": 4
}
