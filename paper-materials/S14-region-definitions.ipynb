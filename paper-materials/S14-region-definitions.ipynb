{
 "cells": [
  {
   "cell_type": "markdown",
   "metadata": {},
   "source": [
    "# Definitions of regions for contribution calculations\n"
   ]
  },
  {
   "cell_type": "code",
   "execution_count": null,
   "metadata": {},
   "outputs": [],
   "source": [
    "import numpy as np\n",
    "import matplotlib.pyplot as plt\n",
    "from mpl_toolkits.basemap import Basemap, cm\n",
    "import netCDF4 as nc\n",
    "import warnings\n",
    "warnings.filterwarnings('ignore')\n",
    "import pickle\n",
    "\n",
    "%matplotlib inline"
   ]
  },
  {
   "cell_type": "markdown",
   "metadata": {},
   "source": [
    "#### Parameters:"
   ]
  },
  {
   "cell_type": "code",
   "execution_count": null,
   "metadata": {},
   "outputs": [],
   "source": [
    "# domain dimensions:\n",
    "imin, imax = 1479, 2179\n",
    "jmin, jmax = 159, 799\n",
    "isize = imax-imin\n",
    "jsize = jmax-jmin"
   ]
  },
  {
   "cell_type": "markdown",
   "metadata": {},
   "source": [
    "#### Load files:"
   ]
  },
  {
   "cell_type": "code",
   "execution_count": null,
   "metadata": {},
   "outputs": [],
   "source": [
    "# ANHA12 grid:\n",
    "mesh       = nc.Dataset('/ocean/brogalla/GEOTRACES/data/ANHA12/ANHA12_mesh1.nc')\n",
    "mesh_lon   = np.array(mesh.variables['nav_lon'])\n",
    "mesh_lat   = np.array(mesh.variables['nav_lat'])\n",
    "mesh_bathy = np.array(mesh.variables['hdept'][0])\n",
    "tmask      = np.array(mesh.variables['tmask'][0,:,:,:])\n",
    "Z_masked   = np.ma.masked_where((tmask > 0.1), tmask) "
   ]
  },
  {
   "cell_type": "markdown",
   "metadata": {},
   "source": [
    "#### Calculations:"
   ]
  },
  {
   "cell_type": "code",
   "execution_count": null,
   "metadata": {},
   "outputs": [],
   "source": [
    "# Find indices to separate out Canada Basin:\n",
    "\n",
    "x_ind = np.arange(1621, 2100, 1)\n",
    "y_ind = (-7/8)*x_ind + 1517 + 700\n",
    "\n",
    "CB_indx = []\n",
    "CB_indy = []\n",
    "\n",
    "for index in range(0,len(x_ind)):\n",
    "    CB_x = np.arange(x_ind[index],2179,1)\n",
    "    CB_y = np.ones(CB_x.shape)*y_ind[index]\n",
    "    \n",
    "    CB_indx = np.append(CB_x, CB_indx)\n",
    "    CB_indy = np.append(CB_y, CB_indy)"
   ]
  },
  {
   "cell_type": "code",
   "execution_count": null,
   "metadata": {},
   "outputs": [],
   "source": [
    "# Separate Canada Basin and the CAA:\n",
    "mask_ini_CB  = np.zeros((isize,jsize))\n",
    "mask_ini_CAA = np.ones((isize,jsize))\n",
    "\n",
    "for i, j in zip(CB_indx, CB_indy):\n",
    "    mask_ini_CB[int(i-imin),int(j-jmin)]  = 1\n",
    "    mask_ini_CAA[int(i-imin),int(j-jmin)] = 0\n",
    "    \n",
    "mask_ini_CB[150:-1 ,-8:-1] = 1\n",
    "mask_ini_CAA[150:-1,-8:-1] = 0"
   ]
  },
  {
   "cell_type": "code",
   "execution_count": null,
   "metadata": {},
   "outputs": [],
   "source": [
    "mask_ini_wCAA = np.zeros((isize,jsize))\n",
    "mask_ini_eCAA = np.zeros((isize,jsize))\n",
    "\n",
    "# Separate the western and eastern CAA:\n",
    "mask_ini_wCAA = np.where(mesh_lon[imin:imax,jmin:jmax] < -100, 1, 0)\n",
    "mask_ini_eCAA = np.where(mesh_lon[imin:imax,jmin:jmax] > -100, 1, 0)\n",
    "\n",
    "for i, j in zip(CB_indx, CB_indy):\n",
    "    mask_ini_wCAA[int(i-imin),int(j-jmin)] = 0\n",
    "    mask_ini_eCAA[int(i-imin),int(j-jmin)] = 0\n",
    "    \n",
    "mask_ini_wCAA[150:-1,-8:-1] = 0\n",
    "mask_ini_eCAA[150:-1,-8:-1] = 0"
   ]
  },
  {
   "cell_type": "markdown",
   "metadata": {},
   "source": [
    "##### Figures:"
   ]
  },
  {
   "cell_type": "code",
   "execution_count": null,
   "metadata": {},
   "outputs": [],
   "source": [
    "fig, ax1, proj1 = pickle.load(open('/ocean/brogalla/GEOTRACES/pickles/mn-reference.pickle','rb'))\n",
    "\n",
    "# Sub-domain map: ---------------------------------------------------------------------------\n",
    "x_sub, y_sub  = proj1(mesh_lon[imin:imax,jmin:jmax], mesh_lat[imin:imax,jmin:jmax]) \n",
    "\n",
    "# Draw domains:\n",
    "proj1.plot(np.ma.masked_where(mask_ini_CB==0  , x_sub), np.ma.masked_where(mask_ini_CB==0  , y_sub),\\\n",
    "           '-', color='#304452', linewidth=0.4, zorder=1)\n",
    "proj1.plot(np.ma.masked_where(mask_ini_wCAA==0, x_sub), np.ma.masked_where(mask_ini_wCAA==0, y_sub),\\\n",
    "           '-', color='#6c99b8', linewidth=0.4, zorder=1)\n",
    "proj1.plot(np.ma.masked_where(mask_ini_eCAA==0, x_sub), np.ma.masked_where(mask_ini_eCAA==0, y_sub), \\\n",
    "           '-', color='#c9ddeb', linewidth=0.4, zorder=1)\n",
    "\n",
    "x_full, y_full = proj1(mesh_lon, mesh_lat) \n",
    "proj1.plot(x_full[1935,450:530], y_full[1935,450:530], '--k', dashes=(1.0,0.75), linewidth=2.0, \\\n",
    "           label='Parry Channel boundaries')\n",
    "proj1.plot(x_full[1585,485:538], y_full[1585,485:538], '--k', dashes=(1.0,0.75), linewidth=2.0)\n",
    "\n",
    "# Legend entries\n",
    "proj1.plot(0,0, '-', c='#304452', lw=5, label='Canada Basin');\n",
    "proj1.plot(0,0, '-', c='#6c99b8', lw=5, label='Western Canadian Arctic Archipelago');\n",
    "proj1.plot(0,0, '-', c='#c9ddeb', lw=5, label='Eastern Canadian Arctic Archipelago');\n",
    "\n",
    "leg = ax1.legend(loc=(0.48,0.77), fontsize=5.8, framealpha=0.9, frameon=True,fancybox=False)\n",
    "leg.get_frame().set_linewidth(0.0)\n",
    "fig.savefig('/ocean/brogalla/GEOTRACES/figures/paper1-202204/S14-region-definitions.jpg', bbox_inches='tight', dpi=300)\n",
    "fig.savefig('/ocean/brogalla/GEOTRACES/figures/paper1-202204/S14-region-definitions.svg', bbox_inches='tight', dpi=300, \\\n",
    "            format='svg')"
   ]
  },
  {
   "cell_type": "code",
   "execution_count": null,
   "metadata": {},
   "outputs": [],
   "source": []
  },
  {
   "cell_type": "code",
   "execution_count": null,
   "metadata": {},
   "outputs": [],
   "source": []
  }
 ],
 "metadata": {
  "kernelspec": {
   "display_name": "Python 3",
   "language": "python",
   "name": "python3"
  },
  "language_info": {
   "codemirror_mode": {
    "name": "ipython",
    "version": 3
   },
   "file_extension": ".py",
   "mimetype": "text/x-python",
   "name": "python",
   "nbconvert_exporter": "python",
   "pygments_lexer": "ipython3",
   "version": "3.6.11"
  }
 },
 "nbformat": 4,
 "nbformat_minor": 4
}
