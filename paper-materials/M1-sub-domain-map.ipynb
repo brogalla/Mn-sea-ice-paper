{
 "cells": [
  {
   "cell_type": "markdown",
   "metadata": {},
   "source": [
    "# Map of sub-domain of ANHA12"
   ]
  },
  {
   "cell_type": "code",
   "execution_count": null,
   "metadata": {},
   "outputs": [],
   "source": [
    "import matplotlib.pyplot as plt\n",
    "import netCDF4 as nc\n",
    "import numpy as np\n",
    "import cmocean\n",
    "import pickle\n",
    "\n",
    "%matplotlib inline"
   ]
  },
  {
   "cell_type": "markdown",
   "metadata": {},
   "source": [
    "#### Parameters:"
   ]
  },
  {
   "cell_type": "code",
   "execution_count": null,
   "metadata": {},
   "outputs": [],
   "source": [
    "# domain dimensions:\n",
    "imin, imax = 1479, 2179\n",
    "jmin, jmax = 159, 799\n",
    "\n",
    "# Resolution of grid cells to show in figure:\n",
    "grid_reso = 10"
   ]
  },
  {
   "cell_type": "markdown",
   "metadata": {},
   "source": [
    "#### Load files:"
   ]
  },
  {
   "cell_type": "code",
   "execution_count": null,
   "metadata": {},
   "outputs": [],
   "source": [
    "# ANHA12 grid\n",
    "mesh       = nc.Dataset('/ocean/brogalla/GEOTRACES/data/ANHA12/ANHA12_mesh1.nc')\n",
    "mesh_lon   = np.array(mesh.variables['nav_lon'])\n",
    "mesh_lat   = np.array(mesh.variables['nav_lat'])\n",
    "mesh_bathy = np.array(mesh.variables['hdept'][0])"
   ]
  },
  {
   "cell_type": "markdown",
   "metadata": {},
   "source": [
    "#### Figure:"
   ]
  },
  {
   "cell_type": "code",
   "execution_count": null,
   "metadata": {},
   "outputs": [],
   "source": [
    "fig, ax1, proj1, ax2, proj2 = pickle.load(open('/ocean/brogalla/GEOTRACES/pickles/surface-land-map-globe.pickle','rb'))\n",
    "\n",
    "# Globe: --------------------------------------------------------------------------------------\n",
    "x, y  = proj2(mesh_lon, mesh_lat) \n",
    "\n",
    "bath = proj2.contourf(x, y, mesh_bathy, 20, cmap=cmocean.cm.tempo, vmin=0, vmax=6000, zorder=1)\n",
    "\n",
    "# Sub-domain\n",
    "proj2.plot(x[imin:imax,jmin], y[imin:imax,jmin], 'w-', lw=0.9, zorder=3)\n",
    "proj2.plot(x[imin:imax,jmax], y[imin:imax,jmax], 'w-', lw=0.9, zorder=3)\n",
    "proj2.plot(x[imin,jmin:jmax], y[imin,jmin:jmax], 'w-', lw=0.9, zorder=3)\n",
    "proj2.plot(x[imax,jmin:jmax], y[imax,jmin:jmax], 'w-', lw=0.9, zorder=3)\n",
    "# full domain\n",
    "proj2.plot(x[460:-1:grid_reso,0]   , y[460:-1:grid_reso,0]        , 'w--', lw=0.8, zorder=3, dashes=(2, 2))\n",
    "proj2.plot(x[0,370:-1:grid_reso]   , y[0,370:-1:grid_reso]        , 'w--', lw=0.8, zorder=3, dashes=(2, 2))\n",
    "proj2.plot(x[100:-1:grid_reso,-1]  , y[100:-1:grid_reso,-1]       , 'w--', lw=0.8, zorder=3, dashes=(2, 2))\n",
    "proj2.plot(x[-1,0:-1:grid_reso]    , y[-1,0:-1:grid_reso]         , 'w--', lw=0.8, zorder=3, dashes=(2, 2))\n",
    "xline_add = [x[500,0], x[700,70], x[1100,0], x[0,370]]\n",
    "yline_add = [y[240,-1], y[85,-80], y[80,0], y[0,370]]\n",
    "proj2.plot(xline_add, yline_add, 'w--', lw=0.8, zorder=3, dashes=(2, 2))\n",
    "\n",
    "\n",
    "# Sub-domain map: ---------------------------------------------------------------------------\n",
    "x_sub, y_sub  = proj1(mesh_lon, mesh_lat) \n",
    "proj1.plot(x_sub[imin:imax,jmax]  , y_sub[imin:imax,jmax]  , 'w-', lw=1.2, zorder=5)\n",
    "proj1.plot(x_sub[imin:imax,jmin]  , y_sub[imin:imax,jmin]  , 'w-', lw=1.2, zorder=5)\n",
    "proj1.plot(x_sub[imin,jmin:jmax]  , y_sub[imin,jmin:jmax]  , 'w-', lw=1.2, zorder=5)\n",
    "proj1.plot(x_sub[imax,jmin:jmax]  , y_sub[imax,jmin:jmax]  , 'w-', lw=1.2, zorder=5)\n",
    "\n",
    "proj1.plot(x_sub[imin:imax+grid_reso:grid_reso,jmin:jmax+grid_reso:grid_reso], \\\n",
    "           y_sub[imin:imax+grid_reso:grid_reso,jmin:jmax+grid_reso:grid_reso], 'w-', lw=0.4, zorder=3);\n",
    "proj1.plot(x_sub[imin:imax+grid_reso:grid_reso,jmin:jmax+grid_reso:grid_reso].T, \\\n",
    "           y_sub[imin:imax+grid_reso:grid_reso,jmin:jmax+grid_reso:grid_reso].T, 'w-', lw=0.4, zorder=3);\n",
    "\n",
    "\n",
    "# Color bar: --------------------------------------------------------------------------------\n",
    "cbaxes = fig.add_axes([0.92, 0.18, 0.02, 0.35]);\n",
    "CBar   = plt.colorbar(bath, ax=ax1, cax=cbaxes); \n",
    "CBar.set_label('Ocean depth [m]', fontsize=8)\n",
    "CBar.ax.tick_params(axis='y', length=0, labelsize=8)\n",
    "\n",
    "fig.savefig('/ocean/brogalla/GEOTRACES/figures/paper1-202110/M1-sub-domain.png', bbox_inches='tight', dpi=300)\n",
    "fig.savefig('/ocean/brogalla/GEOTRACES/figures/paper1-202110/M1-sub-domain.svg', bbox_inches='tight', format='svg', dpi=300)"
   ]
  },
  {
   "cell_type": "code",
   "execution_count": null,
   "metadata": {},
   "outputs": [],
   "source": []
  }
 ],
 "metadata": {
  "kernelspec": {
   "display_name": "Python 3",
   "language": "python",
   "name": "python3"
  },
  "language_info": {
   "codemirror_mode": {
    "name": "ipython",
    "version": 3
   },
   "file_extension": ".py",
   "mimetype": "text/x-python",
   "name": "python",
   "nbconvert_exporter": "python",
   "pygments_lexer": "ipython3",
   "version": "3.6.11"
  }
 },
 "nbformat": 4,
 "nbformat_minor": 4
}
