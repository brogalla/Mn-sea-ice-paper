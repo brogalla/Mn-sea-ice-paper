{
 "cells": [
  {
   "cell_type": "markdown",
   "metadata": {},
   "source": [
    "# Surface concentrations"
   ]
  },
  {
   "cell_type": "code",
   "execution_count": null,
   "metadata": {},
   "outputs": [],
   "source": [
    "import pickle\n",
    "import numpy as np\n",
    "import matplotlib.pyplot as plt\n",
    "import cmocean\n",
    "import netCDF4 as nc\n",
    "import modules.mapping_functions as mf\n",
    "import pandas as pd\n",
    "\n",
    "%matplotlib inline"
   ]
  },
  {
   "cell_type": "markdown",
   "metadata": {},
   "source": [
    "#### Parameters:"
   ]
  },
  {
   "cell_type": "code",
   "execution_count": null,
   "metadata": {},
   "outputs": [],
   "source": [
    "# domain dimensions:\n",
    "imin, imax = 1479, 2179\n",
    "jmin, jmax = 159, 799\n",
    "isize = imax - imin\n",
    "jsize = jmax - jmin\n",
    "\n",
    "# model results:\n",
    "year = 2015\n",
    "results_folder1 = f'/data/brogalla/run_storage/Mn-reference-202204/ANHA12_ref-{year}_20220422/'"
   ]
  },
  {
   "cell_type": "markdown",
   "metadata": {},
   "source": [
    "#### Load files:"
   ]
  },
  {
   "cell_type": "code",
   "execution_count": null,
   "metadata": {},
   "outputs": [],
   "source": [
    "# ANHA12 grid\n",
    "mesh       = nc.Dataset('/ocean/brogalla/GEOTRACES/data/ANHA12/ANHA12_mesh1.nc')\n",
    "ANHA12_lon = np.array(mesh.variables['nav_lon'])\n",
    "ANHA12_lat = np.array(mesh.variables['nav_lat'])\n",
    "mesh_bathy = np.array(mesh.variables['hdept'][0])\n",
    "tmask      = np.array(mesh.variables['tmask'])\n",
    "land_mask  = np.ma.masked_where((tmask[0,:,:,:] > 0.1) , tmask[0,:,:,:]) \n",
    "\n",
    "tmask_sub  = np.array(mesh.variables['tmask'])[0,:,imin:imax,jmin:jmax]\n",
    "e3t        = np.array(mesh.variables['e3t_0'])[0,:,imin:imax,jmin:jmax]\n",
    "e3t_masked = np.ma.masked_where((tmask_sub[:,:,:] < 0.1), e3t)"
   ]
  },
  {
   "cell_type": "code",
   "execution_count": null,
   "metadata": {},
   "outputs": [],
   "source": [
    "# Load Mn model run results\n",
    "ref   = nc.Dataset(f'{results_folder1}ANHA12_EXH006_{year}_monthly.nc',  'r')\n",
    "lons_model  = np.array(ref.variables['nav_lon'])\n",
    "lats_model  = np.array(ref.variables['nav_lat'])\n",
    "depth_model = np.array(ref.variables['deptht'])\n",
    "\n",
    "results  = nc.Dataset(f'{results_folder1}ANHA12_EXH006_{year}_monthly.nc')\n",
    "dissolmn = np.array(results.variables['dissolmn'][:,0,:,:,:])*10**9 # nM units\n",
    "oxidismn = np.array(results.variables['oxidismn'][:,0,:,:,:])*10**9 # nM units"
   ]
  },
  {
   "cell_type": "code",
   "execution_count": null,
   "metadata": {},
   "outputs": [],
   "source": [
    "# GEOTRACES 2021 Intermediate data product: https://www.bodc.ac.uk/geotraces/data/idp2021/\n",
    "folder_data = '/ocean/brogalla/GEOTRACES/data/'\n",
    "sw          = xr.open_dataset(f'{folder_data}IDP2021_GEOTRACES_IDP2021_Seawater_Discrete_Sample_Data_v1_kYw7mpQ2.nc')\n",
    "GTR_cruises = sw['metavar1']\n",
    "GTR_lons    = sw['longitude'].values # degrees east\n",
    "GTR_lats    = sw['latitude'].values  # degrees north\n",
    "GTR_pres    = sw['var1'].values      # Pressure from CTD sensor [dbar]\n",
    "GTR_depth   = sw['var2'].values      # Depth below sea surface calculated from pressure [m]\n",
    "GTR_temp    = sw['var3'].values      # Temperature from CTD sensor in the ITS-90 convention. [C]\n",
    "GTR_sal     = sw['var4'].values      # Practical salinity from CTD sensor on the PSS-1978 scale\n",
    "GTR_dMn     = sw['var12'].values     # Concentration of dissolved Mn in nmol/kg, method may include Mn(II) plus Mn(III)\n",
    "\n",
    "GTR_pressure   = np.ma.masked_where(GTR_pres < -1e8, GTR_pres)\n",
    "# practical salinity --> absolute salinity (g/kg)\n",
    "GTR_lons_tile  = np.tile(GTR_lons, (345,1)).transpose()\n",
    "GTR_lats_tile  = np.tile(GTR_lats, (345,1)).transpose()\n",
    "GTR_sal_abs    = gsw.conversions.SA_from_SP(GTR_sal, GTR_pressure, GTR_lons_tile, GTR_lats_tile)\n",
    "# calculate density: uses in situ temperature, absolute salinity, sea pressure \n",
    "GTR_density    = gsw.density.rho_t_exact(GTR_sal_abs, GTR_temp, GTR_pressure) # kg/m3\n",
    "\n",
    "# convert dMn from nmol/kg --> nmol/L (nmol/kg * kg/m3 * 1 m3 / 1000 L)\n",
    "GTR_dMn_nM = GTR_dMn*GTR_density*1e-3\n",
    "\n",
    "GTR_dMn_PML = np.ma.masked_where((GTR_depth > 35), GTR_dMn_nM)\n",
    "GTR_dMn_PML = np.ma.masked_where(np.isnan(GTR_dMn_nM), GTR_dMn_PML)\n",
    "GTR_dMn_PML_mean = GTR_dMn_PML.mean(axis=1)"
   ]
  },
  {
   "cell_type": "code",
   "execution_count": null,
   "metadata": {},
   "outputs": [],
   "source": [
    "# Concentration of dMn in the Beaufort Sea in 2009 from Sim, 2018 (doi: 10.14288/1.037422)\n",
    "IPY = pd.read_csv('/ocean/brogalla/GEOTRACES/data/Nari_Sim_dMn_data.csv')\n",
    "IPY_names_full = np.array(IPY['Station name'].astype('string'))\n",
    "IPY_depths     = IPY['Depth [m]'].astype('float').values\n",
    "IPY_dMn_nmolkg = IPY['DMn [ nmol/kg]'].astype('float').values\n",
    "IPY_lons_full  = -1*IPY['Longitude'].astype('float').values\n",
    "IPY_lats_full  = IPY['Latitude'].astype('float').values\n",
    "\n",
    "# Convert nmol / kg to nmol / L\n",
    "IPY_density             = IPY['Density'].astype('float').values # kg / L\n",
    "IPY_depths_cruise_sheet = IPY['Depth [m] cruise sheet'].astype('float').values\n",
    "IPY_dMn_nmolL = IPY_dMn_nmolkg * IPY_density * 1e-3\n",
    "\n",
    "IPY_dMn_PML = np.ma.masked_where(IPY_depths > 35, IPY_dMn_nmolL)\n",
    "IPY_stns = list(dict.fromkeys(IPY_names_full))\n",
    "\n",
    "IPY_dMn_PML_mean = np.zeros(len(IPY_stns))\n",
    "for i, stn in enumerate(IPY_stns):\n",
    "    IPY_dMn_PML_mean[i] = np.ma.mean(IPY_dMn_PML[IPY_names_full==stn])\n",
    "    \n",
    "IPY_lons_mean = list(dict.fromkeys(IPY_lons_full))\n",
    "IPY_lats_mean = list(dict.fromkeys(IPY_lats_full))"
   ]
  },
  {
   "cell_type": "markdown",
   "metadata": {},
   "source": [
    "#### Functions:"
   ]
  },
  {
   "cell_type": "code",
   "execution_count": null,
   "metadata": {},
   "outputs": [],
   "source": [
    "def plot_layer(plot_variable, vmin=0,vmax=35, savefig=False, obs=True):\n",
    "    \n",
    "    fig, ax1, proj1 = pickle.load(open('/ocean/brogalla/GEOTRACES/pickles/mn-reference.pickle','rb'))\n",
    "\n",
    "    x, y = proj1(lons_model, lats_model)\n",
    "\n",
    "    pcolor  = proj1.pcolormesh(x, y, plot_variable, cmap=cmocean.cm.dense, vmin=vmin, vmax=vmax)\n",
    "    contour = proj1.contourf(np.zeros_like(x), np.zeros_like(y), np.zeros_like(plot_variable), np.arange(vmin,vmax+1,1),\\\n",
    "                             cmap=cmocean.cm.dense, vmin=vmin, vmax=vmax, extend='both')\n",
    "\n",
    "    \n",
    "    # Plot observations over top:\n",
    "    # mask outside of domain\n",
    "    if obs:\n",
    "        GTR_lons_ma = np.ma.masked_where((GTR_lats > 85) | (GTR_lons > 290) | ((GTR_lons < 200) & ((GTR_lats > 78))) \\\n",
    "                                         | ((GTR_lons < 203) & (GTR_lats < 74)), GTR_lons)\n",
    "        GTR_lats_ma = np.ma.masked_where((GTR_lats > 85) | (GTR_lons > 290) | ((GTR_lons < 200) & ((GTR_lats > 78))) \\\n",
    "                                         | ((GTR_lons < 203) & (GTR_lats < 74)), GTR_lats)\n",
    "        x_GTR, y_GTR = proj1(GTR_lons_ma, GTR_lats_ma)\n",
    "\n",
    "        # all GEOTRACES: # exclude one point from GIPY11\n",
    "        proj1.scatter(x_GTR[GTR_cruises != b'GIPY11'], y_GTR[GTR_cruises != b'GIPY11'], c=GTR_dMn_PML_mean[GTR_cruises != b'GIPY11'], \\\n",
    "                      s=50, zorder=3, edgecolor='w', marker='.', \\\n",
    "                      linewidth=0.5, vmin=0, vmax=vmax, cmap=cmocean.cm.dense, label='2015 GEOTRACES GN02, GN03')\n",
    "        \n",
    "        # US GEOTRACES:\n",
    "        proj1.scatter(x_GTR[GTR_cruises == b'GN01'], y_GTR[GTR_cruises == b'GN01'], c=GTR_dMn_PML_mean[GTR_cruises == b'GN01'], \\\n",
    "                      s=13, zorder=3, edgecolor='w', marker='s', \\\n",
    "                      linewidth=0.5, vmin=0, vmax=vmax, cmap=cmocean.cm.dense, label='2015 GEOTRACES GN01')\n",
    "    \n",
    "        # IPY: \n",
    "        x_IPY, y_IPY = proj1(IPY_lons_mean, IPY_lats_mean)    \n",
    "        proj1.scatter(x_IPY, y_IPY, c=IPY_dMn_PML_mean, s=13, zorder=3, edgecolor='w', marker='>', \\\n",
    "                      linewidth=0.5, vmin=0, vmax=vmax, cmap=cmocean.cm.dense, label='2009 GIPY14')\n",
    "    \n",
    "    leg = ax1.legend(loc=(0.57,0.82), fontsize=5.5, frameon=True)\n",
    "    leg.get_frame().set_linewidth(0.0)\n",
    "    leg.legendHandles[0].set_color('#765ec3')\n",
    "    leg.legendHandles[1].set_color('#765ec3')\n",
    "    leg.legendHandles[2].set_color('#765ec3')\n",
    "\n",
    "    cbar_ax = fig.add_axes([0.77, 0.26, 0.04, 0.45])\n",
    "    cbar    = fig.colorbar(contour, cax=cbar_ax)\n",
    "    cbar.set_label('Dissolved Mn [nM]', fontsize=6) \n",
    "    cbar_ax.tick_params(axis='both', which='major', labelsize=6)\n",
    "      \n",
    "    if savefig:\n",
    "        fig.savefig('/ocean/brogalla/GEOTRACES/figures/paper1-202204/R5-surface-fields-August.jpg', \\\n",
    "                       bbox_inches='tight', dpi=300)\n",
    "        fig.savefig('/ocean/brogalla/GEOTRACES/figures/paper1-202204/R5-surface-fields-August.svg', \\\n",
    "                       bbox_inches='tight', dpi=300, format='svg')\n",
    "    \n",
    "    return"
   ]
  },
  {
   "cell_type": "code",
   "execution_count": null,
   "metadata": {},
   "outputs": [],
   "source": [
    "def calculate_depth_weighted(dMn, levels=(0,16)):\n",
    "    \n",
    "    dMn_weighted     = dMn[levels[0]:levels[1],:,:]*e3t[levels[0]:levels[1],:,:]\n",
    "    \n",
    "    # bottom depth (in case of regions shallower than levels[1]: \n",
    "    depth_top        = np.zeros_like(mesh_bathy[imin:imax,jmin:jmax])\n",
    "    if levels[0] != 0:\n",
    "        depth_top[mesh_bathy[imin:imax,jmin:jmax] > depth_model[levels[0]-1]] = depth_model[levels[0]-1] # top of layer is not the surface\n",
    "    depth_bottom     = np.copy(mesh_bathy[imin:imax,jmin:jmax])\n",
    "    depth_bottom[depth_bottom > depth_model[levels[1]-1]] = depth_model[levels[1]-1]\n",
    "    delta_depth      =  depth_bottom - depth_top\n",
    "                 \n",
    "    # calculate average:\n",
    "    dMn_weighted_ave = np.sum(dMn_weighted, axis=0) / delta_depth\n",
    "    \n",
    "    return dMn_weighted_ave"
   ]
  },
  {
   "cell_type": "markdown",
   "metadata": {},
   "source": [
    "#### Figures of surface concentrations:"
   ]
  },
  {
   "cell_type": "code",
   "execution_count": null,
   "metadata": {},
   "outputs": [],
   "source": [
    "month=7\n",
    "plot_variable = calculate_depth_weighted(dissolmn[month,:,:,:], levels=(3,16))\n",
    "plot_layer(plot_variable,vmin=0,vmax=15, savefig=True)"
   ]
  },
  {
   "cell_type": "code",
   "execution_count": null,
   "metadata": {},
   "outputs": [],
   "source": [
    "month=0\n",
    "plot_variable = calculate_depth_weighted(dissolmn[month,:,:,:], levels=(0,16))\n",
    "# plot_variable = dissolmn[month,0,:,:]\n",
    "plot_layer(plot_variable,vmin=0,vmax=15, savefig=True, obs=False)"
   ]
  }
 ],
 "metadata": {
  "kernelspec": {
   "display_name": "Python 3",
   "language": "python",
   "name": "python3"
  },
  "language_info": {
   "codemirror_mode": {
    "name": "ipython",
    "version": 3
   },
   "file_extension": ".py",
   "mimetype": "text/x-python",
   "name": "python",
   "nbconvert_exporter": "python",
   "pygments_lexer": "ipython3",
   "version": "3.6.11"
  }
 },
 "nbformat": 4,
 "nbformat_minor": 4
}
