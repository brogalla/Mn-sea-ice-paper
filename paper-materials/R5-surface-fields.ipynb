{
 "cells": [
  {
   "cell_type": "markdown",
   "metadata": {},
   "source": [
    "# Surface concentrations"
   ]
  },
  {
   "cell_type": "code",
   "execution_count": null,
   "metadata": {},
   "outputs": [],
   "source": [
    "import pickle\n",
    "import numpy as np\n",
    "import matplotlib.pyplot as plt\n",
    "import cmocean\n",
    "import netCDF4 as nc\n",
    "import modules.mapping_functions as mf\n",
    "import pandas as pd\n",
    "\n",
    "%matplotlib inline"
   ]
  },
  {
   "cell_type": "markdown",
   "metadata": {},
   "source": [
    "#### Parameters:"
   ]
  },
  {
   "cell_type": "code",
   "execution_count": null,
   "metadata": {},
   "outputs": [],
   "source": [
    "# domain dimensions:\n",
    "imin, imax = 1479, 2179\n",
    "jmin, jmax = 159, 799\n",
    "isize = imax - imin\n",
    "jsize = jmax - jmin\n",
    "\n",
    "# model results:\n",
    "year = 2015\n",
    "results_folder1 = f'/data/brogalla/run_storage/Mn-reference-202110/ANHA12_ref-2015_20211012/'"
   ]
  },
  {
   "cell_type": "markdown",
   "metadata": {},
   "source": [
    "#### Load files:"
   ]
  },
  {
   "cell_type": "code",
   "execution_count": null,
   "metadata": {},
   "outputs": [],
   "source": [
    "# ANHA12 grid\n",
    "mask      = nc.Dataset('/ocean/brogalla/GEOTRACES/data/ANHA12/ANHA12_mesh1.nc')\n",
    "tmask     = np.array(mask.variables['tmask'])[0,:,imin:imax,jmin:jmax]\n",
    "land_mask = np.ma.masked_where((tmask[:,:,:] > 0.1), tmask[:,:,:]) "
   ]
  },
  {
   "cell_type": "code",
   "execution_count": null,
   "metadata": {},
   "outputs": [],
   "source": [
    "# Load Mn model run results\n",
    "ref   = nc.Dataset(f'{results_folder1}ANHA12_EXH006_{year}_monthly.nc',  'r')\n",
    "lons_model  = np.array(ref.variables['nav_lon'])\n",
    "lats_model  = np.array(ref.variables['nav_lat'])\n",
    "depth_model = np.array(ref.variables['deptht'])\n",
    "\n",
    "results  = nc.Dataset(f'{results_folder1}ANHA12_EXH006_{year}_monthly.nc')\n",
    "dissolmn = np.array(results.variables['dissolmn'][:,0,:,:,:])*10**9 # nM units\n",
    "oxidismn = np.array(results.variables['oxidismn'][:,0,:,:,:])*10**9 # nM units"
   ]
  },
  {
   "cell_type": "code",
   "execution_count": null,
   "metadata": {},
   "outputs": [],
   "source": [
    "# GEOTRACES station locations from Colombo et al., 2020\n",
    "GEOTRACES_data   = pd.read_csv('/ocean/brogalla/GEOTRACES/data/Pb-paper-data.csv')\n",
    "stn_names = GEOTRACES_data['Station names'].dropna().astype('str')\n",
    "lons      = GEOTRACES_data['station lon'].astype('float').dropna().values\n",
    "lats      = GEOTRACES_data['Station lat'].astype('float').dropna().values\n",
    "\n",
    "# Find indeces associated with station locations:\n",
    "stn_i, stn_j = mf.find_indeces_vector(lons[5:], lats[5:], lons_model, lats_model)\n",
    "stn_n        = stn_names[5:]"
   ]
  },
  {
   "cell_type": "markdown",
   "metadata": {},
   "source": [
    "#### Functions:"
   ]
  },
  {
   "cell_type": "code",
   "execution_count": null,
   "metadata": {},
   "outputs": [],
   "source": [
    "def plot_layer(month, layer, variable, vmin=0,vmax=35, savefig=False):\n",
    "    \n",
    "    plot_var = np.mean(variable[month,3:17,:,:], axis=0)\n",
    "    \n",
    "    fig, ax1, proj1 = pickle.load(open('/ocean/brogalla/GEOTRACES/pickles/mn-reference.pickle','rb'))\n",
    "\n",
    "    x, y = proj1(lons_model, lats_model)\n",
    "\n",
    "    pcolor  = proj1.pcolormesh(x, y, plot_var, cmap=cmocean.cm.dense, vmin=vmin, vmax=vmax)\n",
    "    contour = proj1.contourf(np.zeros_like(x), np.zeros_like(y), np.zeros_like(plot_var), np.arange(vmin,vmax+1,1),\\\n",
    "                             cmap=cmocean.cm.dense, vmin=vmin, vmax=vmax, extend='both')\n",
    "\n",
    "    cbar_ax = fig.add_axes([0.77, 0.25, 0.04, 0.5])\n",
    "    cbar    = fig.colorbar(contour, cax=cbar_ax)\n",
    "    cbar.set_label('Dissolved Mn [nM]', fontsize=6) \n",
    "    cbar_ax.tick_params(axis='both', which='major', labelsize=6)\n",
    "      \n",
    "    if savefig:\n",
    "        fig.savefig('/ocean/brogalla/GEOTRACES/figures/paper1-202110/R5-surface-fields-August.png', \\\n",
    "                       bbox_inches='tight', dpi=300)\n",
    "        fig.savefig('/ocean/brogalla/GEOTRACES/figures/paper1-202110/R5-surface-fields-August.svg', \\\n",
    "                       bbox_inches='tight', dpi=300, format='svg')\n",
    "    \n",
    "    return"
   ]
  },
  {
   "cell_type": "markdown",
   "metadata": {},
   "source": [
    "##### Figures of surface concentrations:"
   ]
  },
  {
   "cell_type": "code",
   "execution_count": null,
   "metadata": {},
   "outputs": [],
   "source": [
    "plot_layer(7,0,dissolmn,vmin=0,vmax=15, savefig=True)"
   ]
  },
  {
   "cell_type": "code",
   "execution_count": null,
   "metadata": {},
   "outputs": [],
   "source": [
    "plot_layer(0,0,dissolmn,vmin=0,vmax=15, savefig=True)"
   ]
  },
  {
   "cell_type": "code",
   "execution_count": null,
   "metadata": {},
   "outputs": [],
   "source": []
  }
 ],
 "metadata": {
  "kernelspec": {
   "display_name": "Python 3",
   "language": "python",
   "name": "python3"
  },
  "language_info": {
   "codemirror_mode": {
    "name": "ipython",
    "version": 3
   },
   "file_extension": ".py",
   "mimetype": "text/x-python",
   "name": "python",
   "nbconvert_exporter": "python",
   "pygments_lexer": "ipython3",
   "version": "3.6.11"
  }
 },
 "nbformat": 4,
 "nbformat_minor": 4
}
