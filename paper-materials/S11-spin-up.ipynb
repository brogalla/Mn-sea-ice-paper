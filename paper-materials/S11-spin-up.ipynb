{
 "cells": [
  {
   "cell_type": "markdown",
   "metadata": {},
   "source": [
    "# Assess model spin up"
   ]
  },
  {
   "cell_type": "code",
   "execution_count": null,
   "metadata": {},
   "outputs": [],
   "source": [
    "import matplotlib.pyplot as plt\n",
    "import netCDF4 as nc\n",
    "import numpy as np\n",
    "import matplotlib\n",
    "\n",
    "%matplotlib inline"
   ]
  },
  {
   "cell_type": "markdown",
   "metadata": {},
   "source": [
    "#### Parameters:"
   ]
  },
  {
   "cell_type": "code",
   "execution_count": null,
   "metadata": {},
   "outputs": [],
   "source": [
    "# domain dimensions:\n",
    "imin, imax = 1479, 2179\n",
    "jmin, jmax = 159, 799\n",
    "isize = imax - imin\n",
    "jsize = jmax - jmin\n",
    "\n",
    "year  = 2002\n",
    "month = 8\n",
    "\n",
    "# Coordinates within Mn sub-domain for GEOTRACES station locations\n",
    "stn_i = np.array([104, 100, 91, 175, 175, 233, 214, 352, 242, 458, 508, 547, 629])\n",
    "stn_j = np.array([370, 365, 353, 311, 326, 313, 281, 281, 364, 332, 384, 457, 471])"
   ]
  },
  {
   "cell_type": "code",
   "execution_count": null,
   "metadata": {},
   "outputs": [],
   "source": [
    "colors = ['#f9ddd8', '#f2ac9f', '#ea7a65', '#e5593f', '#a03e2c', \\\n",
    "          '#e0dfea', '#b1b0cc', '#646199', '#46436b', \\\n",
    "          '#3d6977', '#5b9db3', '#84bfd2', '#c1dfe8'] # CB\n",
    "\n",
    "name   = ['CAA1', 'CAA2', 'CAA3', 'CAA4', 'CAA5', 'CAA6', 'CAA7', 'CAA8', 'CAA9', \\\n",
    "          'CB1', 'CB2', 'CB3', 'CB4']"
   ]
  },
  {
   "cell_type": "markdown",
   "metadata": {},
   "source": [
    "#### Load files:"
   ]
  },
  {
   "cell_type": "code",
   "execution_count": null,
   "metadata": {},
   "outputs": [],
   "source": [
    "# ANHA12 grid\n",
    "mask       = nc.Dataset('/ocean/brogalla/GEOTRACES/data/ANHA12/ANHA12_mesh1.nc')\n",
    "tmask      = np.array(mask.variables['tmask'])[0,:,imin:imax,jmin:jmax]\n",
    "e3t        = np.array(mask.variables['e3t_0'])[0,:,imin:imax,jmin:jmax]\n",
    "e3t_masked = np.ma.masked_where((tmask[:,:,:] < 0.1), e3t)\n",
    "hdept      = np.array(mask.variables['hdept'])[0,imin:imax,jmin:jmax]"
   ]
  },
  {
   "cell_type": "markdown",
   "metadata": {},
   "source": [
    "#### Calculations:"
   ]
  },
  {
   "cell_type": "code",
   "execution_count": null,
   "metadata": {},
   "outputs": [],
   "source": [
    "def create_file_list(folder,subfolder,end):\n",
    "    \n",
    "    end_yr1 = f'{folder}{subfolder}spin-up0{end}ANHA12_EXH006_2002_monthly.nc'\n",
    "    end_yr2 = f'{folder}{subfolder}spin-up1{end}ANHA12_EXH006_2002_monthly.nc'\n",
    "    end_yr3 = f'{folder}{subfolder}spin-up2{end}ANHA12_EXH006_2002_monthly.nc'\n",
    "    end_yr4 = f'{folder}{subfolder}spin-up3{end}ANHA12_EXH006_2002_monthly.nc'\n",
    "\n",
    "    file_list = [end_yr1, end_yr2, end_yr3, end_yr4]\n",
    "\n",
    "    return file_list"
   ]
  },
  {
   "cell_type": "code",
   "execution_count": null,
   "metadata": {},
   "outputs": [],
   "source": [
    "def load_file(file):\n",
    "    \n",
    "    mn_file    = nc.Dataset(f'{file}')\n",
    "    mn_monthly = np.array(mn_file.variables['dissolmn'][:,0,:,:,:])\n",
    "    \n",
    "    return mn_monthly"
   ]
  },
  {
   "cell_type": "code",
   "execution_count": null,
   "metadata": {},
   "outputs": [],
   "source": [
    "def calculate_monthly_difference(file_list):\n",
    "    mn_monthly = np.zeros((len(file_list),12,50,700,640))\n",
    "    difference = np.zeros((len(file_list)-1,len(stn_i),12))\n",
    "\n",
    "    for run, file in enumerate(file_list):\n",
    "        mn_monthly[run,:,:,:,:] = load_file(file)\n",
    "\n",
    "        if run > 0: # Depth weighted\n",
    "            difference[run-1,:,:] = np.array([np.ma.sum(np.abs(mn_monthly[run,:,:,i,j]- \\\n",
    "                                                            mn_monthly[run-1,:,:,i,j])*e3t_masked[:,i,j], axis=1)/hdept[i,j] \\\n",
    "                                              for i, j in zip(stn_i, stn_j)])\n",
    "    return difference"
   ]
  },
  {
   "cell_type": "markdown",
   "metadata": {},
   "source": [
    "The year-to-year change is calculated as the sum over all depths of the concentration at the observed stations, $stn$, for each month from one year compared to the previous year. \n",
    "\n",
    "$$ diff_{stn} = \\frac{1}{hdept} \\sum^{50}_{z=0} | Mn_{stn}(z,month,yr) - Mn_{stn}(z,month,yr-1) | e3t(z) $$"
   ]
  },
  {
   "cell_type": "code",
   "execution_count": null,
   "metadata": {},
   "outputs": [],
   "source": [
    "clean_ice_files = create_file_list('/data/brogalla/run_storage/Mn-clean-ice-202110/', \\\n",
    "                                   'ANHA12_clean-ice-', '_20211023/')\n",
    "reference_files = create_file_list('/data/brogalla/run_storage/Mn-reference-202110/', \\\n",
    "                                   'ANHA12_ref-', '_20211012/')\n",
    "spm_files       = create_file_list('/data/brogalla/run_storage/Mn-spm-202110/', \\\n",
    "                                   'ANHA12_spm-', '_20211026/')\n",
    "bio_files       = create_file_list('/data/brogalla/run_storage/Mn-bio-202110/', \\\n",
    "                                   'ANHA12_bio-', '_20211022/')"
   ]
  },
  {
   "cell_type": "code",
   "execution_count": null,
   "metadata": {},
   "outputs": [],
   "source": [
    "difference_clean_ice = calculate_monthly_difference(clean_ice_files)\n",
    "difference_reference = calculate_monthly_difference(reference_files)\n",
    "difference_spm       = calculate_monthly_difference(spm_files)\n",
    "difference_bio       = calculate_monthly_difference(bio_files)"
   ]
  },
  {
   "cell_type": "markdown",
   "metadata": {},
   "source": [
    "#### Figures:"
   ]
  },
  {
   "cell_type": "code",
   "execution_count": null,
   "metadata": {},
   "outputs": [],
   "source": [
    "def plot_spinup_change(ax, difference, nruns, legend=False):\n",
    "\n",
    "    months = range(12 +1, 12*nruns +1)\n",
    "    years  = np.linspace(2, 1+nruns, (nruns-1)*12 + 1)[0:-1]\n",
    "    \n",
    "    differences = np.empty((len(name),(nruns-1)*12))\n",
    "    for stn in range(0,len(name)):\n",
    "        differences[stn,:] = np.reshape(difference[:,stn,:],((nruns-1)*12))\n",
    "        ax.plot(years, differences[stn,:], c=colors[stn], label=name[stn], linewidth=1.5)\n",
    "        ax.plot(years, differences[stn,:], '.', c=colors[stn], markersize=6)\n",
    "\n",
    "    # Line for spread in values\n",
    "    ax.plot(years, np.max(differences,axis=0)-np.min(differences,axis=0), '-k', linewidth=2.0, label='spread')\n",
    "\n",
    "    ax.set_xlim([1.9, 2+nruns-1])\n",
    "    ax.set_ylim([0, 3.5e-9])\n",
    "    ax.xaxis.set_ticks(np.linspace(2,2+nruns-1, (nruns-1)*2 + 1))\n",
    "    ax.tick_params(axis='both', which='major', labelsize=8)\n",
    "    ax.yaxis.get_offset_text().set_fontsize(8)\n",
    "    ax.set_xlabel('Years of spin up', fontsize=8)\n",
    "    ax.set_ylabel(r'Mn change w.r.t. previous year [mol L$^{-1}$]', fontsize=8)\n",
    "    if legend:\n",
    "        font = matplotlib.font_manager.FontProperties(size=8)\n",
    "        ax.legend(loc=(0.45, 0.5), frameon=False, prop=font, ncol=2)\n",
    "    \n",
    "    return"
   ]
  },
  {
   "cell_type": "code",
   "execution_count": null,
   "metadata": {},
   "outputs": [],
   "source": [
    "fig, ax = plt.subplots(2, 2, figsize=(4.5*2, 3.74*2), dpi=300)\n",
    "\n",
    "plot_spinup_change(ax[0,0], difference_reference, 4, legend=True)\n",
    "plot_spinup_change(ax[0,1], difference_clean_ice, 4, legend=True)\n",
    "plot_spinup_change(ax[1,0], difference_spm, 4)\n",
    "plot_spinup_change(ax[1,1], difference_bio, 4)\n",
    "\n",
    "fig.savefig('/ocean/brogalla/GEOTRACES/figures/paper1-202110/S7-spin-up.png', bbox_inches='tight', dpi=300)\n",
    "fig.savefig('/ocean/brogalla/GEOTRACES/figures/paper1-202110/S7-spin-up.svg', bbox_inches='tight', dpi=300, \\\n",
    "                    format='svg')"
   ]
  },
  {
   "cell_type": "code",
   "execution_count": null,
   "metadata": {},
   "outputs": [],
   "source": []
  }
 ],
 "metadata": {
  "kernelspec": {
   "display_name": "Python 3",
   "language": "python",
   "name": "python3"
  },
  "language_info": {
   "codemirror_mode": {
    "name": "ipython",
    "version": 3
   },
   "file_extension": ".py",
   "mimetype": "text/x-python",
   "name": "python",
   "nbconvert_exporter": "python",
   "pygments_lexer": "ipython3",
   "version": "3.6.11"
  }
 },
 "nbformat": 4,
 "nbformat_minor": 4
}
