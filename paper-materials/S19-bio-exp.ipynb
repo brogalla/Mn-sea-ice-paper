{
 "cells": [
  {
   "cell_type": "markdown",
   "id": "architectural-photograph",
   "metadata": {},
   "source": [
    "## Evaluate particulate Mn model concentrations with observations "
   ]
  },
  {
   "cell_type": "code",
   "execution_count": null,
   "id": "standing-jefferson",
   "metadata": {},
   "outputs": [],
   "source": [
    "import numpy as np\n",
    "import matplotlib.pyplot as plt\n",
    "import netCDF4 as nc\n",
    "import pandas as pd\n",
    "import modules.mapping_functions as mf\n",
    "import glob\n",
    "from datetime import datetime\n",
    "import xarray as xr\n",
    "\n",
    "%matplotlib inline"
   ]
  },
  {
   "cell_type": "markdown",
   "id": "8791de61-3b91-45e2-bc45-bdf9e8af71dd",
   "metadata": {},
   "source": [
    "#### Parameters:"
   ]
  },
  {
   "cell_type": "code",
   "execution_count": null,
   "id": "451dd004-6c08-4dd8-9f96-7d856787534b",
   "metadata": {},
   "outputs": [],
   "source": [
    "obs_color   = '#e54141'\n",
    "model_color = '#33c7ff'"
   ]
  },
  {
   "cell_type": "markdown",
   "id": "cleared-commercial",
   "metadata": {},
   "source": [
    "#### Load files"
   ]
  },
  {
   "cell_type": "code",
   "execution_count": null,
   "id": "97dd9d5c-40b9-4e60-abb6-326609192c08",
   "metadata": {},
   "outputs": [],
   "source": [
    "# GEOTRACES station information based on Colombo et al., 2020:\n",
    "GEOTRACES = pd.read_csv('/ocean/brogalla/GEOTRACES/data/Pb-paper-data.csv')\n",
    "stn_names = GEOTRACES['Station names'].dropna().astype('str')\n",
    "Manuel_lons = GEOTRACES['station lon'].astype('float').dropna().values\n",
    "Manuel_lats = GEOTRACES['Station lat'].astype('float').dropna().values"
   ]
  },
  {
   "cell_type": "code",
   "execution_count": null,
   "id": "phantom-syntax",
   "metadata": {},
   "outputs": [],
   "source": [
    "# Template file structure:\n",
    "r = nc.Dataset('/data/brogalla/run_storage/Mn-reference-202204/ANHA12_ref-2015_20220422/ANHA12_EXH006_2015_monthly.nc')\n",
    "lon_model = np.array(r.variables['nav_lon'])[:,:]\n",
    "lat_model = np.array(r.variables['nav_lat'])[:,:]\n",
    "deptht    = np.array(r.variables['deptht'])"
   ]
  },
  {
   "cell_type": "markdown",
   "id": "eastern-means",
   "metadata": {},
   "source": [
    "#### Functions:"
   ]
  },
  {
   "cell_type": "code",
   "execution_count": null,
   "id": "ea2cb2f9-83b9-4f30-9cf1-a231fc381ac5",
   "metadata": {},
   "outputs": [],
   "source": [
    "def calculate_average(folder_2015):\n",
    "    # Calculate average over data files during cruise period:\n",
    "    # 2015 GEOTRACES: 9 August - 15 September\n",
    "    files_2015      = np.sort(glob.glob(f'{folder_2015}ANHA12_EXH006_5d_20150101_20151231*'))\n",
    "    start_date_2015 = datetime.strptime(f'2015-08-09', '%Y-%m-%d')\n",
    "    end_date_2015   = datetime.strptime(f'2015-09-15', '%Y-%m-%d')\n",
    "\n",
    "    file_list_2015 = []\n",
    "    for file in files_2015:\n",
    "        if (datetime.strptime(file.split('/')[-1][42:50],'%Y%m%d') >= start_date_2015) & \\\n",
    "                    (datetime.strptime(file.split('/')[-1][51:59],'%Y%m%d') < end_date_2015):\n",
    "            file_list_2015.append(file)\n",
    "\n",
    "    dmn_2015 = np.zeros((50,700,640))\n",
    "    days = 0\n",
    "    for file in file_list_2015:\n",
    "        ds = xr.open_dataset(f\"{file}\")\n",
    "        dmn_2015 = dmn_2015 + ds['dissolmn'].values[0,:,:,:]\n",
    "\n",
    "    mn_dis_2015 = dmn_2015 / len(file_list_2015)\n",
    "    \n",
    "    return mn_dis_2015"
   ]
  },
  {
   "cell_type": "code",
   "execution_count": null,
   "id": "8d71c667-b817-45f0-83a4-6b177dc33dd4",
   "metadata": {},
   "outputs": [],
   "source": [
    "def plot_profiles(name, ax, model_depth, model_dmn_ref, model_dmn_bio, ylim=(100,0)): \n",
    "    ax.invert_yaxis()\n",
    "    ax.xaxis.tick_top()\n",
    "    ax.set_xlim(-0.31, 0.3)\n",
    "    ax.plot([0,0],[ylim[0],ylim[1]],'-k')\n",
    "    ax.set_xticks([-0.3,-0.2,-0.1,0,0.1,0.2,0.3])\n",
    "    ax.set_xticklabels([-0.3,'', '', 0,'','',0.3])\n",
    "    ax.plot((model_dmn_bio-model_dmn_ref)*1e9, model_depth, c=model_color)\n",
    "    \n",
    "    try:\n",
    "        ax.set_ylim(ylim[0],ylim[1])\n",
    "        ax.text(0.05, ylim[0]*0.9, name, fontsize=5.5)\n",
    "    except:\n",
    "        print('empty obs depth array')\n",
    "        \n",
    "    ax.tick_params(axis='both', labelsize=6)\n",
    "        \n",
    "    return"
   ]
  },
  {
   "cell_type": "markdown",
   "id": "880315b4-4297-48e9-9b95-21b152312090",
   "metadata": {},
   "source": [
    "#### Figure"
   ]
  },
  {
   "cell_type": "code",
   "execution_count": null,
   "id": "289ee1d8-a814-4c97-a636-533a675b9d99",
   "metadata": {},
   "outputs": [],
   "source": [
    "dmn_ref_2015 = calculate_average('/data/brogalla/run_storage/Mn-reference-202204/ANHA12_ref-2015_20220422/')\n",
    "dmn_bio_2015 = calculate_average('/data/brogalla/run_storage/Mn-bio-202204/ANHA12_bio-2015_20220422/')"
   ]
  },
  {
   "cell_type": "code",
   "execution_count": null,
   "id": "d492fd29-6e69-46a2-a1d8-c3d886db516e",
   "metadata": {},
   "outputs": [],
   "source": [
    "stn_list = ['CAA1','CAA2','CAA3','CAA4','CAA5','CAA6','CAA7','CAA8','CAA9']\n",
    "\n",
    "fig, ax = plt.subplots(2,5,figsize=(4.5, 3.7*0.8), dpi=300)\n",
    "for n, stn in enumerate(stn_list):\n",
    "    i, j = mf.find_indeces_vector(Manuel_lons[stn_names==stn], Manuel_lats[stn_names==stn], lon_model, lat_model)\n",
    "    \n",
    "    if n < 4:     \n",
    "        plot_profiles(stn, ax[0,n], deptht, \\\n",
    "                      dmn_ref_2015[:,int(i),int(j)], dmn_bio_2015[:,int(i),int(j)], \\\n",
    "                      ylim=(100,0))\n",
    "    else:     \n",
    "        plot_profiles(stn, ax[1,n-4], deptht, \\\n",
    "                      dmn_ref_2015[:,int(i),int(j)], dmn_bio_2015[:,int(i),int(j)], \\\n",
    "                      ylim=(100,0))\n",
    "        \n",
    "ax[0,4].axis(\"off\")\n",
    "fig.text(0.25,1.02,'dMn change (bio minus reference experiment) [nM]', fontsize=6)\n",
    "    \n",
    "ax[0,0].set_ylabel('Depth [m]', fontsize=6)\n",
    "ax[1,0].set_ylabel('Depth [m]', fontsize=6)\n",
    "\n",
    "plt.tight_layout(pad=0.2, w_pad=-0.3, h_pad=0.2)\n",
    "\n",
    "fig.savefig('/ocean/brogalla/GEOTRACES/figures/paper1-202204/S19-bio-exp.jpg', \\\n",
    "               bbox_inches='tight', dpi=300)\n",
    "fig.savefig('/ocean/brogalla/GEOTRACES/figures/paper1-202204/S19-bio-exp.svg', \\\n",
    "               format='svg', bbox_inches='tight', dpi=300)"
   ]
  },
  {
   "cell_type": "code",
   "execution_count": null,
   "id": "63558f16-d7a2-4c9a-a29c-26ac421983be",
   "metadata": {},
   "outputs": [],
   "source": []
  },
  {
   "cell_type": "code",
   "execution_count": null,
   "id": "4e5c65e5-4ee7-459d-a382-e4f3846d95cd",
   "metadata": {},
   "outputs": [],
   "source": []
  }
 ],
 "metadata": {
  "kernelspec": {
   "display_name": "Python 3",
   "language": "python",
   "name": "python3"
  },
  "language_info": {
   "codemirror_mode": {
    "name": "ipython",
    "version": 3
   },
   "file_extension": ".py",
   "mimetype": "text/x-python",
   "name": "python",
   "nbconvert_exporter": "python",
   "pygments_lexer": "ipython3",
   "version": "3.6.11"
  }
 },
 "nbformat": 4,
 "nbformat_minor": 5
}
