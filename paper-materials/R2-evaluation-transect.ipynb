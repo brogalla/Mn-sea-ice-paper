{
 "cells": [
  {
   "cell_type": "markdown",
   "metadata": {},
   "source": [
    "# Transect of results and observations\n"
   ]
  },
  {
   "cell_type": "code",
   "execution_count": null,
   "metadata": {},
   "outputs": [],
   "source": [
    "import numpy as np\n",
    "import matplotlib.pyplot as plt\n",
    "import csv\n",
    "import netCDF4 as nc\n",
    "import cmocean\n",
    "import pandas as pd \n",
    "import pickle\n",
    "from mpl_toolkits.axes_grid1.inset_locator import mark_inset\n",
    "import warnings\n",
    "warnings.filterwarnings('ignore')\n",
    "import modules.mapping_functions as mf\n",
    "import glob\n",
    "import xarray as xr\n",
    "from datetime import datetime\n",
    "\n",
    "%matplotlib inline"
   ]
  },
  {
   "cell_type": "markdown",
   "metadata": {},
   "source": [
    "###### Parameters:"
   ]
  },
  {
   "cell_type": "code",
   "execution_count": null,
   "metadata": {},
   "outputs": [],
   "source": [
    "# domain dimensions:\n",
    "imin, imax = 1479, 2179\n",
    "jmin, jmax = 159, 799\n",
    "\n",
    "# model results:\n",
    "results_folder = f'/data/brogalla/run_storage/Mn-reference-202204/ANHA12_ref-2015_20220422/'\n",
    "\n",
    "# colours:\n",
    "land_color = '#a9a7a2'"
   ]
  },
  {
   "cell_type": "markdown",
   "metadata": {},
   "source": [
    "###### Load files:"
   ]
  },
  {
   "cell_type": "code",
   "execution_count": null,
   "metadata": {},
   "outputs": [],
   "source": [
    "# ANHA12 grid\n",
    "mesh       = nc.Dataset('/ocean/brogalla/GEOTRACES/data/ANHA12/ANHA12_mesh1.nc')\n",
    "mesh_lon   = np.array(mesh.variables['nav_lon'])\n",
    "mesh_lat   = np.array(mesh.variables['nav_lat'])\n",
    "mesh_hdept = np.array(mesh.variables['hdept'][0,imin:imax,jmin:jmax])"
   ]
  },
  {
   "cell_type": "code",
   "execution_count": null,
   "metadata": {},
   "outputs": [],
   "source": [
    "# Load model data structure\n",
    "Mn_model     = nc.Dataset(f'{results_folder}ANHA12_EXH006_2015_monthly.nc')\n",
    "lat_model    = np.array(Mn_model.variables['nav_lat'])\n",
    "lon_model    = np.array(Mn_model.variables['nav_lon'])\n",
    "depths_model = np.array(Mn_model.variables['deptht'])"
   ]
  },
  {
   "cell_type": "markdown",
   "metadata": {},
   "source": [
    "Observations"
   ]
  },
  {
   "cell_type": "code",
   "execution_count": null,
   "metadata": {},
   "outputs": [],
   "source": [
    "# Concentration of dMn in 2015 (data from Colombo et al., 2020)\n",
    "Manuel = pd.read_csv('/ocean/brogalla/GEOTRACES/data/DMn_nmolL-1_BR-edited.csv')\n",
    "Manuel_station_names = Manuel['Station'].astype('string')\n",
    "Manuel_depths        = Manuel['Depth'].astype('float')\n",
    "Manuel_dMn_nmolkg    = Manuel['nmol kg-1'].astype('float')\n",
    "Manuel_dMn_nmolL     = Manuel['nmol L-1'].astype('float')\n",
    "\n",
    "GEOTRACES_data   = pd.read_csv('/ocean/brogalla/GEOTRACES/data/Pb-paper-data.csv')\n",
    "stn_names = GEOTRACES_data['Station names'].dropna().astype('str')\n",
    "lons      = GEOTRACES_data['station lon'].astype('float').dropna().values\n",
    "lats      = GEOTRACES_data['Station lat'].astype('float').dropna().values"
   ]
  },
  {
   "cell_type": "markdown",
   "metadata": {},
   "source": [
    "###### Functions:"
   ]
  },
  {
   "cell_type": "code",
   "execution_count": null,
   "metadata": {},
   "outputs": [],
   "source": [
    "def calculate_average(folder_ref_2015):\n",
    "    # Calculate average over data files during cruise period:\n",
    "    # 2015 GEOTRACES: 9 August - 15 September\n",
    "    files_2015      = np.sort(glob.glob(f'{folder_ref_2015}ANHA12_EXH006_5d_20150101_20151231*'))\n",
    "    start_date_2015 = datetime.strptime(f'2015-08-09', '%Y-%m-%d')\n",
    "    end_date_2015   = datetime.strptime(f'2015-09-15', '%Y-%m-%d')\n",
    "\n",
    "    file_list_2015 = []\n",
    "    for file in files_2015:\n",
    "        if (datetime.strptime(file.split('/')[-1][42:50],'%Y%m%d') >= start_date_2015) & \\\n",
    "                    (datetime.strptime(file.split('/')[-1][51:59],'%Y%m%d') < end_date_2015):\n",
    "            file_list_2015.append(file)\n",
    "\n",
    "    dmn_2015 = np.zeros((50,700,640))\n",
    "    days = 0\n",
    "    for file in file_list_2015:\n",
    "        ds = xr.open_dataset(f\"{file}\")\n",
    "        dmn_2015 = dmn_2015 + ds['dissolmn'].values[0,:,:,:]\n",
    "\n",
    "    mn_dis_ref_2015 = dmn_2015 / len(file_list_2015)\n",
    "    \n",
    "    return mn_dis_ref_2015"
   ]
  },
  {
   "cell_type": "code",
   "execution_count": null,
   "metadata": {},
   "outputs": [],
   "source": [
    "def fill_nans(input_var):\n",
    "    vector = np.zeros(24)\n",
    "    for i in range(0,24):\n",
    "        if i < len(input_var):\n",
    "            vector[i] = np.array(input_var)[i]\n",
    "        else:\n",
    "            vector[i] = np.nan\n",
    "    return vector"
   ]
  },
  {
   "cell_type": "code",
   "execution_count": null,
   "metadata": {},
   "outputs": [],
   "source": [
    "def search_depth(obs_depth, model_depths):\n",
    "    k_list = np.array([])\n",
    "    for i in range(0,len(obs_depth)):\n",
    "        diff_list = np.array([])\n",
    "        for n in range(0, len(model_depths)):\n",
    "            diff = np.abs(obs_depth[i] - model_depths[n])\n",
    "            diff_list = np.append(diff_list, diff)\n",
    "        k = np.argmin(diff_list) # for list of indices associated with depths\n",
    "        k_list = np.append(k_list, k)\n",
    "    return k_list"
   ]
  },
  {
   "cell_type": "markdown",
   "metadata": {},
   "source": [
    "Load model data:"
   ]
  },
  {
   "cell_type": "code",
   "execution_count": null,
   "metadata": {},
   "outputs": [],
   "source": [
    "dmn_2015 = calculate_average(results_folder)"
   ]
  },
  {
   "cell_type": "markdown",
   "metadata": {},
   "source": [
    "##### Figure of transect along stations:"
   ]
  },
  {
   "cell_type": "code",
   "execution_count": null,
   "metadata": {},
   "outputs": [],
   "source": [
    "# Gather data from observed stations and calculate distance from CB4 for each station:\n",
    "transect_names       = ['CB4','CB3', 'CB2', 'CB1', 'CAA8', 'CAA6', 'CAA7', 'CAA4', 'CAA5', 'CAA1', 'CAA2', 'CAA3']\n",
    "transect_lons        = np.array([]); transect_lats   = np.array([]);\n",
    "transect_dMn         = np.zeros((24,len(transect_names)))\n",
    "transect_depths      = np.zeros((24,len(transect_names)))\n",
    "transect_distances   = np.zeros(len(transect_names))\n",
    "for k,name in enumerate(transect_names):\n",
    "    transect_lons = np.append(transect_lons, lons[stn_names==name])\n",
    "    transect_lats = np.append(transect_lats, lats[stn_names==name])\n",
    "    \n",
    "    transect_distances[k] = mf.haversine(transect_lons[0], transect_lats[0], transect_lons[k], transect_lats[k])\n",
    "    transect_dMn[:,k]     = fill_nans(Manuel_dMn_nmolL[Manuel_station_names==name].values)\n",
    "    transect_depths[:,k]  = fill_nans(Manuel_depths[Manuel_station_names==name].values)\n",
    "    \n",
    "transect_depths_r = transect_depths[::-1, :] #reversed order so that surface points are stacked on top\n",
    "transect_dMn_r    = transect_dMn[::-1, :] "
   ]
  },
  {
   "cell_type": "code",
   "execution_count": null,
   "metadata": {},
   "outputs": [],
   "source": [
    "# Now, create vectors of many points along the line connecting these stations:\n",
    "transect_vector_lons = np.array([])\n",
    "transect_vector_lats = np.array([])\n",
    "for i in range(0,len(transect_lons)-1):\n",
    "    # Longitude change between the two stations:\n",
    "    diff_lons = transect_lons[i+1] - transect_lons[i]\n",
    "    diff_lats = transect_lats[i+1] - transect_lats[i]\n",
    "    # Increment from previous station to next over this longitude change: \n",
    "    vector_lons = transect_lons[i] + np.linspace(0,diff_lons,300)\n",
    "    vector_lats = transect_lats[i] + np.linspace(0,diff_lats,300)\n",
    "    # Create an array of associated longitudes and latitudes:\n",
    "    transect_vector_lons = np.append(transect_vector_lons, vector_lons)\n",
    "    transect_vector_lats = np.append(transect_vector_lats, vector_lats)"
   ]
  },
  {
   "cell_type": "code",
   "execution_count": null,
   "metadata": {},
   "outputs": [],
   "source": [
    "# Find Mn model grid point coordinates associated with the array of points:\n",
    "transect_i, transect_j = mf.find_indeces_vector(transect_vector_lons, transect_vector_lats, lon_model, lat_model)\n",
    "\n",
    "transect_model_distances = np.array([])\n",
    "transect_model_hdept     = np.array([])\n",
    "transect_dissolved_mn    = np.zeros((len(depths_model), len(transect_vector_lons)))\n",
    "# Gather model results and bathymetry for the array of points\n",
    "for n in range(0,len(transect_vector_lons)):\n",
    "    distance_model = mf.haversine(lon_model[int(transect_i[0]), int(transect_j[0])],\\\n",
    "                                  lat_model[int(transect_i[0]), int(transect_j[0])],\\\n",
    "                                  lon_model[int(transect_i[n]), int(transect_j[n])],\\\n",
    "                                  lat_model[int(transect_i[n]), int(transect_j[n])])\n",
    "    transect_model_distances = np.append(transect_model_distances, distance_model)\n",
    "    transect_model_hdept     = np.append(transect_model_hdept, mesh_hdept[int(transect_i[n]), int(transect_j[n])])\n",
    "    \n",
    "    transect_dissolved_mn[:,n] = dmn_2015[:,int(transect_i[n]), int(transect_j[n])]"
   ]
  },
  {
   "cell_type": "code",
   "execution_count": null,
   "metadata": {},
   "outputs": [],
   "source": [
    "# Station name labels:\n",
    "transect_names2     = list(np.copy(transect_names))\n",
    "transect_names2[5]  = 'CAA6,7'\n",
    "transect_names2[6]  = ''\n",
    "transect_names2[7]  = 'CAA4,5'\n",
    "transect_names2[8]  = ''\n",
    "transect_names2[9]  = 'CAA1,2,3'\n",
    "transect_names2[10] = ''\n",
    "transect_names2[11] = ''"
   ]
  },
  {
   "cell_type": "code",
   "execution_count": null,
   "metadata": {},
   "outputs": [],
   "source": [
    "fig, ax = plt.subplots(1,1, figsize=(4.5, 2.5), dpi=300)\n",
    "\n",
    "# limits for colorbar:\n",
    "vminmn = 0 \n",
    "vmaxmn = 10\n",
    "pointsbg = '#173543'# outline color for scatterpoints\n",
    "\n",
    "# Full scale transect: -----------------------------------------------------------------------\n",
    "for i in range(0,len(transect_lons)):\n",
    "    ax.scatter(transect_distances[i]*np.ones(24), transect_depths_r[:,i], \\\n",
    "                       vmin = vminmn, vmax = vmaxmn, c=pointsbg, zorder = 3, s=25)\n",
    "    sc = ax.scatter(transect_distances[i]*np.ones(24), transect_depths_r[:,i], \\\n",
    "                       vmin = vminmn, vmax = vmaxmn, c=transect_dMn_r[:,i], cmap=cmocean.cm.dense,\\\n",
    "                       zorder = 3, s=15)\n",
    "    if i == 5:\n",
    "        ax.text(transect_distances[i]-70, -100, transect_names2[i], fontsize=6)\n",
    "    elif i==6:\n",
    "        ax.text(transect_distances[i]-40, -100, transect_names2[i], fontsize=6)\n",
    "    elif i==9:\n",
    "        ax.text(transect_distances[i]-75, -100, transect_names2[i], fontsize=6)\n",
    "    else:\n",
    "        ax.text(transect_distances[i]-50, -100, transect_names2[i], fontsize=6)\n",
    "    \n",
    "ax.invert_yaxis()\n",
    "contour = ax.pcolormesh(transect_model_distances, depths_model, transect_dissolved_mn*10**(9), \\\n",
    "               vmin=vminmn, vmax=vmaxmn, cmap=cmocean.cm.dense)\n",
    "ax.fill_between(transect_model_distances, 4000, transect_model_hdept, color=land_color, zorder=1)\n",
    "ax.set_ylabel('Depth [m]', fontsize=7)\n",
    "ax.set_xlabel('Distance along transect [km]', fontsize=7)\n",
    "ax.set_ylim([3600, -30])\n",
    "ax.set_xlim([-8, 1970])\n",
    "ax.tick_params(axis='both', which='major', labelsize=6)\n",
    "plt.setp(ax.spines.values(), linewidth=1.5, color='k')\n",
    "\n",
    "# Zoom in of shallow area(inset axes): ---------------------------------------------------------\n",
    "inset_ax = fig.add_axes([.39, .28, .5, .3], facecolor='k')\n",
    "for i in range(0,len(transect_lons)):\n",
    "    inset_ax.scatter(transect_distances[i]*np.ones(24), transect_depths_r[:,i], \\\n",
    "                       vmin = vminmn, vmax = vmaxmn, c=pointsbg, zorder = 3, s=25)\n",
    "    sc = inset_ax.scatter(transect_distances[i]*np.ones(24), transect_depths_r[:,i], \\\n",
    "                       vmin = vminmn, vmax = vmaxmn, c=transect_dMn_r[:,i], cmap=cmocean.cm.dense,\\\n",
    "                       zorder = 3, s=15)\n",
    "    if i==5:\n",
    "        inset_ax.text(transect_distances[i]-25, -15, 'CAA6', fontsize=6)\n",
    "        inset_ax.text(transect_distances[i]+50, -15, 'CAA7', fontsize=6)\n",
    "    elif i==9:\n",
    "        inset_ax.text(transect_distances[i]-45, -15, transect_names2[i], fontsize=6)\n",
    "    elif i>4:\n",
    "        inset_ax.text(transect_distances[i]-60, -15, transect_names2[i], fontsize=6)\n",
    "\n",
    "inset_ax.invert_yaxis()\n",
    "inset_ax.set_ylim([400, 0])\n",
    "inset_ax.set_xlim([1400, 1970])\n",
    "inset_ax.set_xlabel('Distance along transect [km]', fontsize=6)\n",
    "inset_ax.pcolormesh(transect_model_distances, depths_model, transect_dissolved_mn*10**(9), \\\n",
    "               vmin=vminmn, vmax=vmaxmn, cmap=cmocean.cm.dense)\n",
    "inset_ax.fill_between(transect_model_distances, 3500, transect_model_hdept, color=land_color, zorder=1)\n",
    "inset_ax.tick_params(axis='both', which='major', labelsize=6)\n",
    "plt.setp(inset_ax.spines.values(), linewidth=1.3, color='k')\n",
    "\n",
    "# General plot settings ------------------------------------------------\n",
    "# Add text:\n",
    "ax.text(100,  -350, 'Canada Basin', fontsize=6)\n",
    "ax.text(1100, -350, 'Canadian Arctic Archipelago', fontsize=6)\n",
    "\n",
    "# Colorbar:\n",
    "cbar_ax = fig.add_axes([0.92, 0.12, 0.04, 0.76])\n",
    "cbar = fig.colorbar(contour, cax=cbar_ax)\n",
    "cbar.set_label('Dissolved Mn [nM]', fontsize=7) \n",
    "cbar_ax.tick_params(axis='both', which='major', labelsize=6)\n",
    "# Mark inset:\n",
    "mark_inset(ax, inset_ax, loc1=2, loc2=1, fc=\"none\", ec='k', lw=1.0, linestyle='--', zorder=4);\n",
    "\n",
    "fig.savefig('/ocean/brogalla/GEOTRACES/figures/paper1-202204/R2-transect.jpg', \\\n",
    "               bbox_inches='tight', dpi=300)\n",
    "fig.savefig('/ocean/brogalla/GEOTRACES/figures/paper1-202204/R2-transect.svg', \\\n",
    "               bbox_inches='tight', dpi=300, format='svg')"
   ]
  },
  {
   "cell_type": "code",
   "execution_count": null,
   "metadata": {},
   "outputs": [],
   "source": []
  },
  {
   "cell_type": "code",
   "execution_count": null,
   "metadata": {
    "tags": []
   },
   "outputs": [],
   "source": []
  }
 ],
 "metadata": {
  "kernelspec": {
   "display_name": "Python 3",
   "language": "python",
   "name": "python3"
  },
  "language_info": {
   "codemirror_mode": {
    "name": "ipython",
    "version": 3
   },
   "file_extension": ".py",
   "mimetype": "text/x-python",
   "name": "python",
   "nbconvert_exporter": "python",
   "pygments_lexer": "ipython3",
   "version": "3.6.11"
  }
 },
 "nbformat": 4,
 "nbformat_minor": 4
}
