{
 "cells": [
  {
   "cell_type": "markdown",
   "metadata": {},
   "source": [
    "# Parameterization for sediment released by sea-ice"
   ]
  },
  {
   "cell_type": "code",
   "execution_count": null,
   "metadata": {},
   "outputs": [],
   "source": [
    "import numpy as np\n",
    "import matplotlib.pyplot as plt\n",
    "import matplotlib\n",
    "import netCDF4 as nc\n",
    "import pickle\n",
    "\n",
    "%matplotlib inline"
   ]
  },
  {
   "cell_type": "markdown",
   "metadata": {},
   "source": [
    "#### Parameters:"
   ]
  },
  {
   "cell_type": "code",
   "execution_count": null,
   "metadata": {},
   "outputs": [],
   "source": [
    "# Sub-domain dimensions:\n",
    "imin, imax = 1479, 2179\n",
    "jmin, jmax = 159, 799\n",
    "\n",
    "# Color map:\n",
    "N = 256\n",
    "vals_cont = np.ones((N, 4))\n",
    "vals_cont[:, 0] = np.linspace(117/N, 1, N)\n",
    "vals_cont[:, 1] = np.linspace(82/N, 1, N)\n",
    "vals_cont[:, 2] = np.linspace(60/N, 1, N)\n",
    "sed_cmap = matplotlib.colors.ListedColormap(vals_cont).reversed()"
   ]
  },
  {
   "cell_type": "markdown",
   "metadata": {},
   "source": [
    "#### Load files:"
   ]
  },
  {
   "cell_type": "code",
   "execution_count": null,
   "metadata": {},
   "outputs": [],
   "source": [
    "# ANHA12 grid:\n",
    "mesh       = nc.Dataset('/ocean/brogalla/GEOTRACES/data/ANHA12/ANHA12_mesh1.nc')\n",
    "sed_lons   = np.array(mesh.variables['nav_lon'])\n",
    "sed_lats   = np.array(mesh.variables['nav_lat'])\n",
    "\n",
    "# Forcing field created by /forcing/ice---sediment-content.ipynb\n",
    "sed_file   = nc.Dataset('/ocean/brogalla/GEOTRACES/data/ice_sediment-20210722.nc')\n",
    "prop_shelf = np.array(sed_file.variables['prop_shelf'])"
   ]
  },
  {
   "cell_type": "markdown",
   "metadata": {},
   "source": [
    "#### Figure:"
   ]
  },
  {
   "cell_type": "code",
   "execution_count": null,
   "metadata": {},
   "outputs": [],
   "source": [
    "fig, ax1, proj1 = pickle.load(open('/ocean/brogalla/GEOTRACES/pickles/mn-reference.pickle','rb'))\n",
    "\n",
    "x_sub, y_sub    = proj1(sed_lons, sed_lats)\n",
    "proj1.plot(x_sub[imin:imax,jmax],   y_sub[imin:imax,jmax],   'k-', lw=1.0,zorder=5)\n",
    "proj1.plot(x_sub[imin:imax,jmax].T, y_sub[imin:imax,jmax].T, 'k-', lw=1.0,zorder=5)\n",
    "proj1.plot(x_sub[imin:imax,jmin],   y_sub[imin:imax,jmin],   'k-', lw=1.0,zorder=5)\n",
    "proj1.plot(x_sub[imin:imax,jmin].T, y_sub[imin:imax,jmin].T, 'k-', lw=1.0,zorder=5)\n",
    "proj1.plot(x_sub[imin,jmin:jmax],    y_sub[imin,jmin:jmax],    'k-', lw=1.0,zorder=5)\n",
    "proj1.plot(x_sub[imin,jmin:jmax].T,  y_sub[imin,jmin:jmax].T,  'k-', lw=1.0,zorder=5)\n",
    "proj1.plot(x_sub[imax,jmin:jmax],    y_sub[imax,jmin:jmax],    'k-', lw=1.0,zorder=5)\n",
    "proj1.plot(x_sub[imax,jmin:jmax].T,  y_sub[imax,jmin:jmax].T,  'k-', lw=1.0,zorder=5)\n",
    "\n",
    "CS1 = proj1.contourf(x_sub, y_sub, prop_shelf, vmin=0.0, vmax=0.4, levels=np.arange(0,0.45,0.025), cmap=sed_cmap)\n",
    "\n",
    "cbaxes1 = fig.add_axes([0.55, 0.73, 0.3, 0.035]) \n",
    "CB1 = plt.colorbar(CS1, cax=cbaxes1, orientation='horizontal', ticks=np.arange(0,1.1,0.1))\n",
    "CB1.ax.tick_params(labelsize=5.5)\n",
    "CB1.outline.set_linewidth(1.0)\n",
    "CB1.ax.set_title('Proportion of shelf sediments in sea ice', fontsize=6)\n",
    "\n",
    "fig.savefig('/ocean/brogalla/GEOTRACES/figures/paper1-202204/S7-sediments-ice.jpg', bbox_inches='tight', dpi=300)\n",
    "fig.savefig('/ocean/brogalla/GEOTRACES/figures/paper1-202204/S7-sediments-ice.svg', bbox_inches='tight', dpi=300, format='svg')"
   ]
  },
  {
   "cell_type": "code",
   "execution_count": null,
   "metadata": {},
   "outputs": [],
   "source": []
  },
  {
   "cell_type": "code",
   "execution_count": null,
   "metadata": {},
   "outputs": [],
   "source": []
  }
 ],
 "metadata": {
  "kernelspec": {
   "display_name": "Python 3",
   "language": "python",
   "name": "python3"
  },
  "language_info": {
   "codemirror_mode": {
    "name": "ipython",
    "version": 3
   },
   "file_extension": ".py",
   "mimetype": "text/x-python",
   "name": "python",
   "nbconvert_exporter": "python",
   "pygments_lexer": "ipython3",
   "version": "3.6.11"
  }
 },
 "nbformat": 4,
 "nbformat_minor": 4
}
