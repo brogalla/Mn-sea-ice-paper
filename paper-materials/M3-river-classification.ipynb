{
 "cells": [
  {
   "cell_type": "markdown",
   "metadata": {},
   "source": [
    "# Visualize river classification system"
   ]
  },
  {
   "cell_type": "code",
   "execution_count": null,
   "metadata": {},
   "outputs": [],
   "source": [
    "import matplotlib.pyplot as plt\n",
    "import numpy as np\n",
    "import netCDF4 as nc\n",
    "import pickle\n",
    "from matplotlib import colors\n",
    "\n",
    "%matplotlib inline"
   ]
  },
  {
   "cell_type": "markdown",
   "metadata": {},
   "source": [
    "###### Parameters:"
   ]
  },
  {
   "cell_type": "code",
   "execution_count": null,
   "metadata": {},
   "outputs": [],
   "source": [
    "# domain dimensions:\n",
    "imin, imax = 1479, 2179\n",
    "jmin, jmax = 159, 799\n",
    "\n",
    "# runoff period:\n",
    "rf_year  = 2015\n",
    "rf_month = 8    # september \n",
    "\n",
    "# colours:\n",
    "c_continent = '#ce9169'\n",
    "c_glacier   = '#36ab92'\n",
    "c_other     = 'w'"
   ]
  },
  {
   "cell_type": "markdown",
   "metadata": {},
   "source": [
    "### Load files:"
   ]
  },
  {
   "cell_type": "markdown",
   "metadata": {},
   "source": [
    "River runoff forcing"
   ]
  },
  {
   "cell_type": "code",
   "execution_count": null,
   "metadata": {},
   "outputs": [],
   "source": [
    "# Load river runoff used in ANHA12 from Paul Myers' group (http://knossos.eas.ualberta.ca/anha/anhatable.php)\n",
    "rf_file = nc.Dataset(f'/ocean/brogalla/GEOTRACES/data/runoff/'+\\\n",
    "                     f'ANHA12_runoff_monthly_combined_Dai_Trenberth_Bamber_y{rf_year}.nc','r')\n",
    "lon_rf  = np.array(rf_file.variables['nav_lon'])\n",
    "lat_rf  = np.array(rf_file.variables['nav_lat'])\n",
    "rf      = np.array(rf_file.variables['runoff'][rf_month])\n",
    "\n",
    "# Place NaNs where there is no runoff\n",
    "rf[rf == 0]       = np.nan\n",
    "lon_rf[rf == 0.0] = np.nan\n",
    "lat_rf[rf == 0.0] = np.nan"
   ]
  },
  {
   "cell_type": "markdown",
   "metadata": {},
   "source": [
    "River classification file\n",
    "1. Glaciers\n",
    "2. Continental\n",
    "3. Other"
   ]
  },
  {
   "cell_type": "code",
   "execution_count": null,
   "metadata": {},
   "outputs": [],
   "source": [
    "# river classification produced in /forcing/river---create-river-classification\n",
    "ncd         = nc.Dataset('/ocean/brogalla/GEOTRACES/data/river_class-202005.nc')\n",
    "river_class = np.array(ncd.variables['rclass'])"
   ]
  },
  {
   "cell_type": "markdown",
   "metadata": {},
   "source": [
    "Meshmask"
   ]
  },
  {
   "cell_type": "code",
   "execution_count": null,
   "metadata": {},
   "outputs": [],
   "source": [
    "# ANHA12 grid\n",
    "mesh  = nc.Dataset('/ocean/brogalla/GEOTRACES/data/ANHA12/ANHA12_mesh1.nc')\n",
    "lon   = np.array(mesh.variables['nav_lon'])\n",
    "lat   = np.array(mesh.variables['nav_lat'])"
   ]
  },
  {
   "cell_type": "markdown",
   "metadata": {},
   "source": [
    "##### Map with bathymetry background"
   ]
  },
  {
   "cell_type": "code",
   "execution_count": null,
   "metadata": {},
   "outputs": [],
   "source": [
    "fig, ax1, proj1 = pickle.load(open('/ocean/brogalla/GEOTRACES/pickles/surface-land-map.pickle','rb'))\n",
    "\n",
    "# Sub-domain map: ---------------------------------------------------------------------------\n",
    "x_sub, y_sub  = proj1(lon, lat) \n",
    "x_rf,    y_rf = proj1(lon_rf, lat_rf)\n",
    "\n",
    "proj1.plot(x_sub[imin:imax,jmax]  , y_sub[imin:imax,jmax],   'w-', lw=1.0, zorder=2)\n",
    "proj1.plot(x_sub[imin:imax,jmin]  , y_sub[imin:imax,jmin],   'w-', lw=1.0, zorder=2)\n",
    "proj1.plot(x_sub[imin,jmin:jmax]  , y_sub[imin,jmin:jmax],   'w-', lw=1.0, zorder=2)\n",
    "proj1.plot(x_sub[imax,jmin:jmax]  , y_sub[imax,jmin:jmax],   'w-', lw=1.0, zorder=2)\n",
    "\n",
    "colormap = colors.ListedColormap([c_glacier, c_continent, c_other, c_other])\n",
    "proj1.scatter(x_rf[imin:imax,jmin:jmax], y_rf[imin:imax,jmin:jmax], c=river_class[imin:imax,jmin:jmax],\\\n",
    "              s=rf[imin:imax,jmin:jmax]*1e4, alpha=0.8, cmap=colormap, edgecolor='k', linewidths=0.4, zorder=4)\n",
    "\n",
    "for a in ['0.001', '0.005', '0.010']:\n",
    "    proj1.scatter([], [], c=c_continent, alpha=1, s=float(a)*1e4, label=a + ' kg/m$^2$/s', \\\n",
    "                  edgecolors='k', linewidths=0.4, zorder=4)\n",
    "\n",
    "ax1.legend(scatterpoints=1, frameon=False, labelspacing=0.3, fontsize=6, loc=(0.7,0.8))\n",
    "\n",
    "fig.savefig('/ocean/brogalla/GEOTRACES/figures/paper1-202110/M3-river-classification.png', bbox_inches='tight', dpi=300)\n",
    "fig.savefig('/ocean/brogalla/GEOTRACES/figures/paper1-202110/M3-river-classification.svg', bbox_inches='tight', dpi=300, \\\n",
    "            format='svg')"
   ]
  },
  {
   "cell_type": "code",
   "execution_count": null,
   "metadata": {},
   "outputs": [],
   "source": []
  }
 ],
 "metadata": {
  "kernelspec": {
   "display_name": "Python 3",
   "language": "python",
   "name": "python3"
  },
  "language_info": {
   "codemirror_mode": {
    "name": "ipython",
    "version": 3
   },
   "file_extension": ".py",
   "mimetype": "text/x-python",
   "name": "python",
   "nbconvert_exporter": "python",
   "pygments_lexer": "ipython3",
   "version": "3.6.11"
  }
 },
 "nbformat": 4,
 "nbformat_minor": 4
}
