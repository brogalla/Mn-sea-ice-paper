{
 "cells": [
  {
   "cell_type": "markdown",
   "metadata": {},
   "source": [
    "# Map of surface concentrations"
   ]
  },
  {
   "cell_type": "code",
   "execution_count": null,
   "metadata": {},
   "outputs": [],
   "source": [
    "import pickle\n",
    "import numpy as np\n",
    "import matplotlib.pyplot as plt\n",
    "import cmocean\n",
    "import netCDF4 as nc\n",
    "\n",
    "%matplotlib inline"
   ]
  },
  {
   "cell_type": "markdown",
   "metadata": {},
   "source": [
    "###### Parameters:"
   ]
  },
  {
   "cell_type": "code",
   "execution_count": null,
   "metadata": {},
   "outputs": [],
   "source": [
    "# domain dimensions:\n",
    "imin, imax = 1479, 2179\n",
    "jmin, jmax = 159, 799\n",
    "isize = imax - imin\n",
    "jsize = jmax - jmin\n",
    "\n",
    "# model results:\n",
    "year = 2015\n",
    "results_folder1 = f'/data/brogalla/run_storage/Mn-reference-202110/ANHA12_ref-{year}_20211012/'"
   ]
  },
  {
   "cell_type": "code",
   "execution_count": null,
   "metadata": {},
   "outputs": [],
   "source": [
    "# GEOTRACES station coordinates in ANHA12 sub-domain\n",
    "stn_i = np.array([104, 100, 91, 175, 175, 233, 214, 352, 242, 458, 508, 547, 629])\n",
    "stn_j = np.array([370, 365, 353, 311, 326, 313, 281, 281, 364, 332, 384, 457, 471])\n",
    "stn_n = np.array(['CAA1','CAA2','CAA3','CAA4','CAA5','CAA6','CAA7',\n",
    "                  'CAA8','CAA9', 'CB1','CB2','CB3','CB4'])"
   ]
  },
  {
   "cell_type": "markdown",
   "metadata": {},
   "source": [
    "###### Load files:"
   ]
  },
  {
   "cell_type": "code",
   "execution_count": null,
   "metadata": {},
   "outputs": [],
   "source": [
    "# ANHA12 grid\n",
    "mask      = nc.Dataset('/ocean/brogalla/GEOTRACES/data/ANHA12/ANHA12_mesh1.nc')\n",
    "tmask     = np.array(mask.variables['tmask'])[0,:,imin:imax,jmin:jmax]\n",
    "land_mask = np.ma.masked_where((tmask[:,:,:] > 0.1), tmask[:,:,:]) "
   ]
  },
  {
   "cell_type": "code",
   "execution_count": null,
   "metadata": {},
   "outputs": [],
   "source": [
    "# Load Mn model monthly results\n",
    "results1   = nc.Dataset(f'{results_folder1}ANHA12_EXH006_{year}_monthly.nc')\n",
    "dissolmn1  = np.array(results1.variables['dissolmn'][:,0,:,:,:])*10**9 # nM units\n",
    "oxidismn1  = np.array(results1.variables['oxidismn'][:,0,:,:,:])*10**9 # nM units\n",
    "lons_model = np.array(results1.variables['nav_lon'])\n",
    "lats_model = np.array(results1.variables['nav_lat'])\n",
    "depth      = np.array(results1.variables['deptht'])"
   ]
  },
  {
   "cell_type": "markdown",
   "metadata": {},
   "source": [
    "##### Functions:"
   ]
  },
  {
   "cell_type": "code",
   "execution_count": null,
   "metadata": {},
   "outputs": [],
   "source": [
    "def plot_layer(month, layer, variable, vmin=0,vmax=35, savefig=False):\n",
    "    \n",
    "    plot_var = variable[month,layer,:,:]\n",
    "    \n",
    "    fig, ax1, proj1 = pickle.load(open('/ocean/brogalla/GEOTRACES/pickles/mn-reference.pickle','rb'))\n",
    "\n",
    "    x, y = proj1(lons_model, lats_model)\n",
    "\n",
    "    pcolor  = proj1.pcolormesh(x, y, plot_var, cmap=cmocean.cm.dense, vmin=vmin, vmax=vmax)\n",
    "    contour = proj1.contourf(np.zeros_like(x), np.zeros_like(y), np.zeros_like(plot_var), np.arange(vmin,vmax+1,1),\\\n",
    "                             cmap=cmocean.cm.dense, vmin=vmin, vmax=vmax, extend='both')\n",
    "\n",
    "    # Outline subset area for profile\n",
    "    i  = 608;   j  = 358;\n",
    "    di = 30;    dj = 30;\n",
    "    proj1.plot(x[i-di:i+di,j-dj], y[i-di:i+di,j-dj], '--w', linewidth=1.0, zorder=3)\n",
    "    proj1.plot(x[i-di:i+di,j+dj], y[i-di:i+di,j+dj], '--w', linewidth=1.0, zorder=3)\n",
    "    proj1.plot(x[i-di,j-dj:j+dj], y[i-di,j-dj:j+dj], '--w', linewidth=1.0, zorder=3)\n",
    "    proj1.plot(x[i+di,j-dj:j+dj], y[i+di,j-dj:j+dj], '--w', linewidth=1.0, zorder=3)\n",
    "\n",
    "    cbar_ax = fig.add_axes([0.77, 0.25, 0.04, 0.5])\n",
    "    cbar    = fig.colorbar(contour, cax=cbar_ax)\n",
    "    cbar.set_label('Dissolved Mn [nM]', fontsize=6) \n",
    "    cbar_ax.tick_params(axis='both', which='major', labelsize=6)\n",
    "      \n",
    "    if savefig:\n",
    "        fig.savefig('/ocean/brogalla/GEOTRACES/figures/paper1-202110/S12-surface-fields-January.png', \\\n",
    "                       bbox_inches='tight', dpi=300)\n",
    "        fig.savefig('/ocean/brogalla/GEOTRACES/figures/paper1-202110/S12-surface-fields-January.svg', \\\n",
    "                       bbox_inches='tight', dpi=300, format='svg')\n",
    "    \n",
    "    return"
   ]
  },
  {
   "cell_type": "markdown",
   "metadata": {},
   "source": [
    "##### Figures of surface concentrations:"
   ]
  },
  {
   "cell_type": "code",
   "execution_count": null,
   "metadata": {},
   "outputs": [],
   "source": [
    "plot_layer(10,0,dissolmn1,vmin=0,vmax=10, savefig=False)"
   ]
  },
  {
   "cell_type": "code",
   "execution_count": null,
   "metadata": {},
   "outputs": [],
   "source": [
    "plot_layer(0,0,dissolmn1,vmin=0,vmax=35, savefig=True)"
   ]
  },
  {
   "cell_type": "code",
   "execution_count": null,
   "metadata": {},
   "outputs": [],
   "source": [
    "plot_layer(7,0,dissolmn1,vmin=0,vmax=35, savefig=True)"
   ]
  },
  {
   "cell_type": "code",
   "execution_count": null,
   "metadata": {},
   "outputs": [],
   "source": [
    "month=6\n",
    "i  = 608\n",
    "j  = 358\n",
    "di = 30\n",
    "dj = 30\n",
    "\n",
    "dmn = dissolmn1[month,:,i-di:i+di,j-dj:j+dj].mean(axis=(1,2))"
   ]
  },
  {
   "cell_type": "code",
   "execution_count": null,
   "metadata": {},
   "outputs": [],
   "source": [
    "fig, ax = plt.subplots(1,1, figsize=(2.5, 3.7), dpi=300)\n",
    "\n",
    "ax.invert_yaxis()\n",
    "ax.plot(dmn, depth, '-k')\n",
    "ax.plot(dmn, depth, '.w', markersize=10, markeredgecolor='k')\n",
    "\n",
    "ax.set_xlabel('Dissolved Mn [nM]', fontsize=6)\n",
    "ax.set_ylabel('Depth [m]', fontsize=6)\n",
    "ax.set_xlim(0,25)\n",
    "ax.set_ylim(40,0)\n",
    "ax.tick_params(axis='both', labelsize=6)\n",
    "ax.xaxis.tick_top()    \n",
    "ax.xaxis.set_label_position('top') \n",
    "    \n",
    "fig.savefig('/ocean/brogalla/GEOTRACES/figures/paper1-202110/S11-profile.png', \\\n",
    "               bbox_inches='tight', dpi=300)\n",
    "fig.savefig('/ocean/brogalla/GEOTRACES/figures/paper1-202110/S11-profile.svg', \\\n",
    "               bbox_inches='tight', dpi=300, format='svg')"
   ]
  },
  {
   "cell_type": "code",
   "execution_count": null,
   "metadata": {},
   "outputs": [],
   "source": []
  }
 ],
 "metadata": {
  "kernelspec": {
   "display_name": "Python 3",
   "language": "python",
   "name": "python3"
  },
  "language_info": {
   "codemirror_mode": {
    "name": "ipython",
    "version": 3
   },
   "file_extension": ".py",
   "mimetype": "text/x-python",
   "name": "python",
   "nbconvert_exporter": "python",
   "pygments_lexer": "ipython3",
   "version": "3.6.11"
  }
 },
 "nbformat": 4,
 "nbformat_minor": 4
}
