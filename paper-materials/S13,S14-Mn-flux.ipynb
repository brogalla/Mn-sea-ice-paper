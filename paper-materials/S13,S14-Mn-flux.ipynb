{
 "cells": [
  {
   "cell_type": "markdown",
   "metadata": {},
   "source": [
    "# Flux of Mn across boundaries"
   ]
  },
  {
   "cell_type": "code",
   "execution_count": null,
   "metadata": {},
   "outputs": [],
   "source": [
    "import pickle\n",
    "import numpy as np\n",
    "import matplotlib.pyplot as plt\n",
    "import netCDF4 as nc\n",
    "from itertools import compress\n",
    "import datetime as dt\n",
    "import seaborn as sns; sns.set()\n",
    "import os\n",
    "import warnings\n",
    "warnings.filterwarnings('ignore')\n",
    "\n",
    "%matplotlib inline"
   ]
  },
  {
   "cell_type": "markdown",
   "metadata": {},
   "source": [
    "#### Parameters:"
   ]
  },
  {
   "cell_type": "code",
   "execution_count": null,
   "metadata": {},
   "outputs": [],
   "source": [
    "# domain dimensions:\n",
    "imin, imax = 1479, 2179\n",
    "jmin, jmax = 159, 799\n",
    "isize = imax-imin\n",
    "jsize = jmax-jmin\n",
    "\n",
    "# Mn model result folders:\n",
    "folder_ref      = '/data/brogalla/run_storage/Mn-reference-202110/'\n",
    "folder_cleanice = '/data/brogalla/run_storage/Mn-clean-ice-202110/'\n",
    "folder_spm      = '/data/brogalla/run_storage/Mn-spm-202110/'\n",
    "\n",
    "# Colors:\n",
    "dirty  = '#90a1b1'\n",
    "clean  = '#cee7fd'\n",
    "rivers = '#519e98'\n",
    "colors = ['#ccb598', '#448d90', '#739f78', '#CC8741', '#cee7fd', '#b9c1c7']"
   ]
  },
  {
   "cell_type": "code",
   "execution_count": null,
   "metadata": {},
   "outputs": [],
   "source": [
    "years = [2002, 2003, 2004, 2005, 2006, 2007, 2008, 2009, 2010, 2011, 2012, 2013, 2014, 2015, \\\n",
    "         2016, 2017, 2018, 2019]"
   ]
  },
  {
   "cell_type": "markdown",
   "metadata": {},
   "source": [
    "#### Load files:"
   ]
  },
  {
   "cell_type": "code",
   "execution_count": null,
   "metadata": {},
   "outputs": [],
   "source": [
    "# ANHA12 grid:\n",
    "mesh       = nc.Dataset('/ocean/brogalla/GEOTRACES/data/ANHA12/ANHA12_mesh1.nc')\n",
    "tmask      = np.array(mesh.variables['tmask'])[0,:,imin:imax,jmin:jmax]\n",
    "land_mask  = np.ma.masked_where((tmask[:,:,:] > 0.1), tmask[:,:,:]) \n",
    "lons       = np.array(mesh.variables['nav_lon'])\n",
    "lats       = np.array(mesh.variables['nav_lat'])\n",
    "depths     = np.array(mesh.variables['gdept_1d'])[0,:]\n",
    "e1t_base   = np.array(mesh.variables['e1t'])[0,imin:imax,jmin:jmax]\n",
    "e2t_base   = np.array(mesh.variables['e2t'])[0,imin:imax,jmin:jmax]\n",
    "e3t        = np.array(mesh.variables['e3t_0'])[0,:,imin:imax,jmin:jmax]\n",
    "e3t_masked = np.ma.masked_where((tmask[:,:,:] < 0.1), e3t)\n",
    "\n",
    "e1t        = np.tile(e1t_base, (50,1,1))\n",
    "e2t        = np.tile(e2t_base, (50,1,1))\n",
    "volume     = e1t*e2t*e3t\n",
    "area_base  = e1t_base*e2t_base\n",
    "volume_masked = np.ma.masked_where((tmask[:,:,:] < 0.1), volume)\n",
    "area_masked   = np.ma.masked_where((tmask[0,:,:] < 0.1), area_base)"
   ]
  },
  {
   "cell_type": "markdown",
   "metadata": {},
   "source": [
    "#### Functions:"
   ]
  },
  {
   "cell_type": "code",
   "execution_count": null,
   "metadata": {},
   "outputs": [],
   "source": [
    "def time_series_pickle(year, nosed=False, rivers=False):\n",
    "    folder = '/ocean/brogalla/GEOTRACES/time-series/'\n",
    "    \n",
    "    # Load calculated time series of fluxes:\n",
    "    # Time series calculated using function: /calculations/time_series-calc.py\n",
    "    if nosed:\n",
    "        time_series_V1, time_series_V2, time_series_V3, time_series_V4, time_series_V5, time_series_V6,time_series_V7,\\\n",
    "        time_series_V8, time_series_V9, time_series_V10, time_series_V11, time_series_mn1, time_series_mn2, \\\n",
    "        time_series_mn3, time_series_mn4, time_series_mn5, time_series_mn6, time_series_mn7, time_series_mn8, \\\n",
    "        time_series_mn9, time_series_mn10, time_series_mn11 = \\\n",
    "            pickle.load(open(f'{folder}Mn-clean-ice-202110/time-series-{year}.pickle','rb'))  \n",
    "    elif rivers:\n",
    "        time_series_V1, time_series_V2, time_series_V3, time_series_V4, time_series_V5, time_series_V6,time_series_V7,\\\n",
    "        time_series_V8, time_series_V9, time_series_V10, time_series_V11, time_series_mn1, time_series_mn2, \\\n",
    "        time_series_mn3, time_series_mn4, time_series_mn5, time_series_mn6, time_series_mn7, time_series_mn8, \\\n",
    "        time_series_mn9, time_series_mn10, time_series_mn11 = \\\n",
    "            pickle.load(open(f'{folder}Mn-spm-202110/time-series-{year}.pickle','rb'))  \n",
    "    else:\n",
    "        time_series_V1, time_series_V2, time_series_V3, time_series_V4, time_series_V5, time_series_V6,time_series_V7,\\\n",
    "        time_series_V8, time_series_V9, time_series_V10, time_series_V11, time_series_mn1, time_series_mn2, \\\n",
    "        time_series_mn3, time_series_mn4, time_series_mn5, time_series_mn6, time_series_mn7, time_series_mn8, \\\n",
    "        time_series_mn9, time_series_mn10, time_series_mn11 = \\\n",
    "            pickle.load(open(f'{folder}Mn-reference-202110/time-series-{year}.pickle','rb'))\n",
    "    \n",
    "    return time_series_mn2, time_series_mn11"
   ]
  },
  {
   "cell_type": "code",
   "execution_count": null,
   "metadata": {},
   "outputs": [],
   "source": [
    "def file_dates(year):\n",
    "    #start_date and end_date are datetime objects\n",
    "    start_date = dt.datetime(year,1,1)\n",
    "    end_date   = dt.datetime(year,12,31)\n",
    "    \n",
    "    file_list1 = np.sort(os.listdir(f'{folder_ref}ANHA12_ref-{year}_20211012/'))\n",
    "    file_list2 = np.sort(os.listdir('/data/brogalla/ANHA12/'))\n",
    "    \n",
    "    Vlist = [i[26:31]=='gridV' for i in file_list2]\n",
    "    gridV_list = list(compress(file_list2, Vlist))\n",
    "    dateV_list = [dt.datetime.strptime(i[14:25], \"y%Ym%md%d\") for i in gridV_list]\n",
    "    gridV_file_list = list(compress(gridV_list, [V > start_date and V < end_date for V in dateV_list]))\n",
    "    \n",
    "    dates = [dt.datetime.strptime(i[14:25], \"y%Ym%md%d\") for i in gridV_file_list]\n",
    "    \n",
    "    return dates"
   ]
  },
  {
   "cell_type": "markdown",
   "metadata": {},
   "source": [
    "#### Calculations:"
   ]
  },
  {
   "cell_type": "code",
   "execution_count": null,
   "metadata": {},
   "outputs": [],
   "source": [
    "ref_in    = np.empty((len(years),72,50,79)); ref_out   = np.empty((len(years),72,50,52)); # ref\n",
    "nosed_in  = np.empty((len(years),72,50,79)); nosed_out = np.empty((len(years),72,50,52)); # nosed\n",
    "spm_in    = np.empty((len(years),72,50,79)); spm_out   = np.empty((len(years),72,50,52)); # rivers\n",
    "\n",
    "# Load time series of fluxes\n",
    "for i, year in enumerate(years):\n",
    "    ref_in1, ref_out1     = time_series_pickle(year)\n",
    "    nosed_in2, nosed_out2 = time_series_pickle(year, nosed=True)\n",
    "    spm_in3, spm_out3     = time_series_pickle(year, rivers=True)\n",
    "    \n",
    "    ref_in[i,:,:,:]    = ref_in1*1e3 # convert from mol m3/ L s --> mol / s\n",
    "    nosed_in[i,:,:,:]  = nosed_in2*1e3\n",
    "    spm_in[i,:,:,:]    = spm_in3*1e3\n",
    "    ref_out[i,:,:,:]   = ref_out1*1e3\n",
    "    nosed_out[i,:,:,:] = nosed_out2*1e3\n",
    "    spm_out[i,:,:,:]   = spm_out3*1e3"
   ]
  },
  {
   "cell_type": "code",
   "execution_count": null,
   "metadata": {
    "scrolled": true
   },
   "outputs": [],
   "source": [
    "dates = np.array([])\n",
    "for year in range(2002, 2020):\n",
    "    dates = np.append(dates, file_dates(year))"
   ]
  },
  {
   "cell_type": "code",
   "execution_count": null,
   "metadata": {},
   "outputs": [],
   "source": [
    "# Parry channel reference run fluxes:\n",
    "Parry_ref_cumsumin  = np.cumsum(np.sum(-1*ref_in, axis=(2,3)).flatten())\n",
    "Parry_ref_cumsumout = np.cumsum(np.sum(-1*ref_out, axis=(2,3)).flatten())\n",
    "\n",
    "Parry_ref_in  = np.sum(-1*ref_in, axis=(2,3)).flatten()\n",
    "Parry_ref_out = np.sum(-1*ref_out, axis=(2,3)).flatten()\n",
    "\n",
    "Parry_ref_diff = Parry_ref_out - Parry_ref_in"
   ]
  },
  {
   "cell_type": "code",
   "execution_count": null,
   "metadata": {},
   "outputs": [],
   "source": [
    "# Parry channel clean sea ice run fluxes:\n",
    "Parry_nosed_cumsumin  = np.cumsum(np.sum(-1*nosed_in, axis=(2,3)).flatten())\n",
    "Parry_nosed_cumsumout = np.cumsum(np.sum(-1*nosed_out, axis=(2,3)).flatten())\n",
    "\n",
    "Parry_nosed_in  = np.sum(-1*nosed_in, axis=(2,3)).flatten()\n",
    "Parry_nosed_out = np.sum(-1*nosed_out, axis=(2,3)).flatten()\n",
    "\n",
    "Parry_nosed_diff = Parry_nosed_out - Parry_nosed_in"
   ]
  },
  {
   "cell_type": "code",
   "execution_count": null,
   "metadata": {},
   "outputs": [],
   "source": [
    "# Parry channel particulate riverine run fluxes:\n",
    "Parry_rivers_cumsumin  = np.cumsum(np.sum(-1*(spm_in), axis=(2,3)).flatten())\n",
    "Parry_rivers_cumsumout = np.cumsum(np.sum(-1*(spm_out), axis=(2,3)).flatten())\n",
    "\n",
    "Parry_rivers_in  = np.sum(-1*(spm_in), axis=(2,3)).flatten()\n",
    "Parry_rivers_out = np.sum(-1*(spm_out), axis=(2,3)).flatten()\n",
    "\n",
    "Parry_rivers_diff = Parry_rivers_out - Parry_rivers_in"
   ]
  },
  {
   "cell_type": "markdown",
   "metadata": {},
   "source": [
    "### Figures"
   ]
  },
  {
   "cell_type": "code",
   "execution_count": null,
   "metadata": {},
   "outputs": [],
   "source": [
    "fig = plt.figure(figsize=(4.5, 3.2), dpi=300)\n",
    "st  = sns.axes_style(\"whitegrid\")\n",
    "\n",
    "with st:\n",
    "    ax = sns.lineplot(dates, Parry_rivers_in,    linewidth=0.6, color=rivers, markersize=7)\n",
    "    sns.lineplot(dates,      Parry_ref_in,       linewidth=0.6, color=dirty)\n",
    "    sns.lineplot(dates,      Parry_nosed_in,     linewidth=0.6, color=clean, markersize=7)\n",
    "    sns.lineplot(dates,      -1*Parry_rivers_out,linewidth=0.6, color=rivers)\n",
    "    sns.lineplot(dates,      -1*Parry_ref_out,   linewidth=0.6, color=dirty)\n",
    "    sns.lineplot(dates,      -1*Parry_nosed_out, linewidth=0.6, color=clean)\n",
    "    \n",
    "    sns.lineplot(dates[0],[0], linewidth=3, color=dirty, label=r'Sediment in sea ice')\n",
    "    sns.lineplot(dates[0],[0], linewidth=3, color=clean, label=r'Clean sea ice')\n",
    "    sns.lineplot(dates[0],[0], linewidth=3, color=rivers, label=r'Upper bound river')\n",
    "\n",
    "    sns.lineplot([dt.datetime(2002,1,1), dt.datetime(2020,1,1)], [0,0], c='k')\n",
    "    \n",
    "    ax.set_xlabel('Year', fontsize=6)\n",
    "    ax.set_ylabel('Flux of Mn in/out Parry Channel [mol/s]',fontsize=6)\n",
    "    ax.set(xlim=(dt.datetime(2002,1,1), dt.datetime(2020,1,1)), ylim=(-8,6))\n",
    "    ax.tick_params(axis='both', which='major', labelsize=6)\n",
    "    ax.spines['left'].set_linewidth(1.0);   ax.spines['left'].set_color('black');\n",
    "    ax.spines['bottom'].set_linewidth(1.0); ax.spines['bottom'].set_color('black');\n",
    "    ax.spines['right'].set_linewidth(1.0);  ax.spines['right'].set_color('black');\n",
    "    ax.spines['top'].set_linewidth(1.0);    ax.spines['top'].set_color('black');    \n",
    "    \n",
    "    leg = ax.legend(loc=(0.01, 0.78), frameon=True, framealpha=0.7, fontsize=6)\n",
    "    leg.get_frame().set_linewidth(0.0)\n",
    "    leg.set_title('Model experiment: ',prop={'size':6})\n",
    "    \n",
    "fig.savefig('/ocean/brogalla/GEOTRACES/figures/paper1-202110/S13-flux-timeseries.png', bbox_inches='tight', dpi=300)\n",
    "fig.savefig('/ocean/brogalla/GEOTRACES/figures/paper1-202110/S13-flux-timeseries.svg', bbox_inches='tight', dpi=300, \\\n",
    "            format='svg')"
   ]
  },
  {
   "cell_type": "code",
   "execution_count": null,
   "metadata": {},
   "outputs": [],
   "source": [
    "st  = sns.axes_style(\"whitegrid\")\n",
    "\n",
    "with st:\n",
    "    fig = plt.figure(figsize=(4.5, 3.2), dpi=300)\n",
    "\n",
    "    ax = sns.lineplot(dates, (1-np.divide(Parry_nosed_cumsumin, Parry_ref_cumsumin))*100, \\\n",
    "                      linewidth=1.5, color=dirty, label=r'From Canada Basin into Parry Channel')\n",
    "    sns.lineplot(dates, (1-np.divide(Parry_nosed_cumsumout, Parry_ref_cumsumout))*100, \\\n",
    "                 linewidth=1.5, color=dirty, label=r'Out of Parry Channel into Baffin Bay')\n",
    "    ax.lines[1].set_linestyle('--')\n",
    "    \n",
    "    ax.set_xlabel('Year', fontsize=6)\n",
    "    ax.set_ylabel('Sea ice contribution to cumulative Mn flux [%]',fontsize=6)\n",
    "    ax.set(xlim=(dt.datetime(2002,1,1), dt.datetime(2020,1,1)), ylim=(0, 100))\n",
    "    ax.tick_params(axis='both', which='major', labelsize=6)\n",
    "    ax.spines['left'].set_linewidth(1.5);   ax.spines['left'].set_color('black');\n",
    "    ax.spines['bottom'].set_linewidth(1.5); ax.spines['bottom'].set_color('black');\n",
    "    ax.spines['right'].set_linewidth(1.5);  ax.spines['right'].set_color('black');\n",
    "    ax.spines['top'].set_linewidth(1.5);    ax.spines['top'].set_color('black');    \n",
    "    \n",
    "    leg = ax.legend(loc=(0.03, 0.01), frameon=True, framealpha=0.7, fontsize=6)\n",
    "    leg.get_frame().set_linewidth(0.0)\n",
    "    \n",
    "fig.savefig('/ocean/brogalla/GEOTRACES/figures/paper1-202110/S14-flux-percentage.png', bbox_inches='tight', dpi=300)\n",
    "fig.savefig('/ocean/brogalla/GEOTRACES/figures/paper1-202110/S14-flux-percentage.svg', format='svg', \\\n",
    "                            bbox_inches='tight', dpi=300)"
   ]
  }
 ],
 "metadata": {
  "kernelspec": {
   "display_name": "Python 3",
   "language": "python",
   "name": "python3"
  },
  "language_info": {
   "codemirror_mode": {
    "name": "ipython",
    "version": 3
   },
   "file_extension": ".py",
   "mimetype": "text/x-python",
   "name": "python",
   "nbconvert_exporter": "python",
   "pygments_lexer": "ipython3",
   "version": "3.6.11"
  }
 },
 "nbformat": 4,
 "nbformat_minor": 4
}
